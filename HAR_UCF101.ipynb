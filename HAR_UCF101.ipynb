{
  "nbformat": 4,
  "nbformat_minor": 0,
  "metadata": {
    "colab": {
      "provenance": [],
      "gpuType": "T4",
      "authorship_tag": "ABX9TyO69xfkNMGD3NeNNOBQXkq+",
      "include_colab_link": true
    },
    "kernelspec": {
      "name": "python3",
      "display_name": "Python 3"
    },
    "language_info": {
      "name": "python"
    },
    "accelerator": "GPU"
  },
  "cells": [
    {
      "cell_type": "markdown",
      "metadata": {
        "id": "view-in-github",
        "colab_type": "text"
      },
      "source": [
        "<a href=\"https://colab.research.google.com/github/RISHAD-prog/Human_Activity_Recognition_UCF101/blob/main/HAR_UCF101.ipynb\" target=\"_parent\"><img src=\"https://colab.research.google.com/assets/colab-badge.svg\" alt=\"Open In Colab\"/></a>"
      ]
    },
    {
      "cell_type": "code",
      "execution_count": 1,
      "metadata": {
        "colab": {
          "base_uri": "https://localhost:8080/",
          "height": 1000
        },
        "id": "996LWyXqkYPu",
        "outputId": "5acb31d1-d592-4fcf-dec1-702af8e0b7f8"
      },
      "outputs": [
        {
          "output_type": "stream",
          "name": "stdout",
          "text": [
            "Collecting remotezip\n",
            "  Downloading remotezip-0.12.1.tar.gz (7.5 kB)\n",
            "  Preparing metadata (setup.py) ... \u001b[?25l\u001b[?25hdone\n",
            "Requirement already satisfied: tqdm in /usr/local/lib/python3.10/dist-packages (4.66.1)\n",
            "Requirement already satisfied: opencv-python in /usr/local/lib/python3.10/dist-packages (4.8.0.76)\n",
            "Collecting einops\n",
            "  Downloading einops-0.6.1-py3-none-any.whl (42 kB)\n",
            "\u001b[2K     \u001b[90m━━━━━━━━━━━━━━━━━━━━━━━━━━━━━━━━━━━━━━━━\u001b[0m \u001b[32m42.2/42.2 kB\u001b[0m \u001b[31m1.3 MB/s\u001b[0m eta \u001b[36m0:00:00\u001b[0m\n",
            "\u001b[?25hRequirement already satisfied: requests in /usr/local/lib/python3.10/dist-packages (from remotezip) (2.31.0)\n",
            "Requirement already satisfied: tabulate in /usr/local/lib/python3.10/dist-packages (from remotezip) (0.9.0)\n",
            "Requirement already satisfied: numpy>=1.21.2 in /usr/local/lib/python3.10/dist-packages (from opencv-python) (1.23.5)\n",
            "Requirement already satisfied: charset-normalizer<4,>=2 in /usr/local/lib/python3.10/dist-packages (from requests->remotezip) (3.2.0)\n",
            "Requirement already satisfied: idna<4,>=2.5 in /usr/local/lib/python3.10/dist-packages (from requests->remotezip) (3.4)\n",
            "Requirement already satisfied: urllib3<3,>=1.21.1 in /usr/local/lib/python3.10/dist-packages (from requests->remotezip) (2.0.4)\n",
            "Requirement already satisfied: certifi>=2017.4.17 in /usr/local/lib/python3.10/dist-packages (from requests->remotezip) (2023.7.22)\n",
            "Building wheels for collected packages: remotezip\n",
            "  Building wheel for remotezip (setup.py) ... \u001b[?25l\u001b[?25hdone\n",
            "  Created wheel for remotezip: filename=remotezip-0.12.1-py3-none-any.whl size=7933 sha256=8dc9ebb9b6acfdc1bfc4131ead5cbcb58dab084030d875fabc5536f6454da2c8\n",
            "  Stored in directory: /root/.cache/pip/wheels/fc/76/04/beed1a6df4eb7430ee13c3900746edd517e5e597298d1f73f3\n",
            "Successfully built remotezip\n",
            "Installing collected packages: einops, remotezip\n",
            "Successfully installed einops-0.6.1 remotezip-0.12.1\n",
            "Collecting tensorflow==2.10.0\n",
            "  Downloading tensorflow-2.10.0-cp310-cp310-manylinux_2_17_x86_64.manylinux2014_x86_64.whl (578.0 MB)\n",
            "\u001b[2K     \u001b[90m━━━━━━━━━━━━━━━━━━━━━━━━━━━━━━━━━━━━━━━\u001b[0m \u001b[32m578.0/578.0 MB\u001b[0m \u001b[31m2.6 MB/s\u001b[0m eta \u001b[36m0:00:00\u001b[0m\n",
            "\u001b[?25hRequirement already satisfied: absl-py>=1.0.0 in /usr/local/lib/python3.10/dist-packages (from tensorflow==2.10.0) (1.4.0)\n",
            "Requirement already satisfied: astunparse>=1.6.0 in /usr/local/lib/python3.10/dist-packages (from tensorflow==2.10.0) (1.6.3)\n",
            "Requirement already satisfied: flatbuffers>=2.0 in /usr/local/lib/python3.10/dist-packages (from tensorflow==2.10.0) (23.5.26)\n",
            "Requirement already satisfied: gast<=0.4.0,>=0.2.1 in /usr/local/lib/python3.10/dist-packages (from tensorflow==2.10.0) (0.4.0)\n",
            "Requirement already satisfied: google-pasta>=0.1.1 in /usr/local/lib/python3.10/dist-packages (from tensorflow==2.10.0) (0.2.0)\n",
            "Requirement already satisfied: grpcio<2.0,>=1.24.3 in /usr/local/lib/python3.10/dist-packages (from tensorflow==2.10.0) (1.57.0)\n",
            "Requirement already satisfied: h5py>=2.9.0 in /usr/local/lib/python3.10/dist-packages (from tensorflow==2.10.0) (3.9.0)\n",
            "Collecting keras<2.11,>=2.10.0 (from tensorflow==2.10.0)\n",
            "  Downloading keras-2.10.0-py2.py3-none-any.whl (1.7 MB)\n",
            "\u001b[2K     \u001b[90m━━━━━━━━━━━━━━━━━━━━━━━━━━━━━━━━━━━━━━━━\u001b[0m \u001b[32m1.7/1.7 MB\u001b[0m \u001b[31m85.4 MB/s\u001b[0m eta \u001b[36m0:00:00\u001b[0m\n",
            "\u001b[?25hCollecting keras-preprocessing>=1.1.1 (from tensorflow==2.10.0)\n",
            "  Downloading Keras_Preprocessing-1.1.2-py2.py3-none-any.whl (42 kB)\n",
            "\u001b[2K     \u001b[90m━━━━━━━━━━━━━━━━━━━━━━━━━━━━━━━━━━━━━━━━\u001b[0m \u001b[32m42.6/42.6 kB\u001b[0m \u001b[31m5.1 MB/s\u001b[0m eta \u001b[36m0:00:00\u001b[0m\n",
            "\u001b[?25hRequirement already satisfied: libclang>=13.0.0 in /usr/local/lib/python3.10/dist-packages (from tensorflow==2.10.0) (16.0.6)\n",
            "Requirement already satisfied: numpy>=1.20 in /usr/local/lib/python3.10/dist-packages (from tensorflow==2.10.0) (1.23.5)\n",
            "Requirement already satisfied: opt-einsum>=2.3.2 in /usr/local/lib/python3.10/dist-packages (from tensorflow==2.10.0) (3.3.0)\n",
            "Requirement already satisfied: packaging in /usr/local/lib/python3.10/dist-packages (from tensorflow==2.10.0) (23.1)\n",
            "Collecting protobuf<3.20,>=3.9.2 (from tensorflow==2.10.0)\n",
            "  Downloading protobuf-3.19.6-cp310-cp310-manylinux_2_17_x86_64.manylinux2014_x86_64.whl (1.1 MB)\n",
            "\u001b[2K     \u001b[90m━━━━━━━━━━━━━━━━━━━━━━━━━━━━━━━━━━━━━━━━\u001b[0m \u001b[32m1.1/1.1 MB\u001b[0m \u001b[31m67.6 MB/s\u001b[0m eta \u001b[36m0:00:00\u001b[0m\n",
            "\u001b[?25hRequirement already satisfied: setuptools in /usr/local/lib/python3.10/dist-packages (from tensorflow==2.10.0) (67.7.2)\n",
            "Requirement already satisfied: six>=1.12.0 in /usr/local/lib/python3.10/dist-packages (from tensorflow==2.10.0) (1.16.0)\n",
            "Collecting tensorboard<2.11,>=2.10 (from tensorflow==2.10.0)\n",
            "  Downloading tensorboard-2.10.1-py3-none-any.whl (5.9 MB)\n",
            "\u001b[2K     \u001b[90m━━━━━━━━━━━━━━━━━━━━━━━━━━━━━━━━━━━━━━━━\u001b[0m \u001b[32m5.9/5.9 MB\u001b[0m \u001b[31m106.3 MB/s\u001b[0m eta \u001b[36m0:00:00\u001b[0m\n",
            "\u001b[?25hRequirement already satisfied: tensorflow-io-gcs-filesystem>=0.23.1 in /usr/local/lib/python3.10/dist-packages (from tensorflow==2.10.0) (0.33.0)\n",
            "Collecting tensorflow-estimator<2.11,>=2.10.0 (from tensorflow==2.10.0)\n",
            "  Downloading tensorflow_estimator-2.10.0-py2.py3-none-any.whl (438 kB)\n",
            "\u001b[2K     \u001b[90m━━━━━━━━━━━━━━━━━━━━━━━━━━━━━━━━━━━━━━\u001b[0m \u001b[32m438.7/438.7 kB\u001b[0m \u001b[31m43.4 MB/s\u001b[0m eta \u001b[36m0:00:00\u001b[0m\n",
            "\u001b[?25hRequirement already satisfied: termcolor>=1.1.0 in /usr/local/lib/python3.10/dist-packages (from tensorflow==2.10.0) (2.3.0)\n",
            "Requirement already satisfied: typing-extensions>=3.6.6 in /usr/local/lib/python3.10/dist-packages (from tensorflow==2.10.0) (4.7.1)\n",
            "Requirement already satisfied: wrapt>=1.11.0 in /usr/local/lib/python3.10/dist-packages (from tensorflow==2.10.0) (1.14.1)\n",
            "Requirement already satisfied: wheel<1.0,>=0.23.0 in /usr/local/lib/python3.10/dist-packages (from astunparse>=1.6.0->tensorflow==2.10.0) (0.41.1)\n",
            "Requirement already satisfied: google-auth<3,>=1.6.3 in /usr/local/lib/python3.10/dist-packages (from tensorboard<2.11,>=2.10->tensorflow==2.10.0) (2.17.3)\n",
            "Collecting google-auth-oauthlib<0.5,>=0.4.1 (from tensorboard<2.11,>=2.10->tensorflow==2.10.0)\n",
            "  Downloading google_auth_oauthlib-0.4.6-py2.py3-none-any.whl (18 kB)\n",
            "Requirement already satisfied: markdown>=2.6.8 in /usr/local/lib/python3.10/dist-packages (from tensorboard<2.11,>=2.10->tensorflow==2.10.0) (3.4.4)\n",
            "Requirement already satisfied: requests<3,>=2.21.0 in /usr/local/lib/python3.10/dist-packages (from tensorboard<2.11,>=2.10->tensorflow==2.10.0) (2.31.0)\n",
            "Collecting tensorboard-data-server<0.7.0,>=0.6.0 (from tensorboard<2.11,>=2.10->tensorflow==2.10.0)\n",
            "  Downloading tensorboard_data_server-0.6.1-py3-none-manylinux2010_x86_64.whl (4.9 MB)\n",
            "\u001b[2K     \u001b[90m━━━━━━━━━━━━━━━━━━━━━━━━━━━━━━━━━━━━━━━━\u001b[0m \u001b[32m4.9/4.9 MB\u001b[0m \u001b[31m106.3 MB/s\u001b[0m eta \u001b[36m0:00:00\u001b[0m\n",
            "\u001b[?25hCollecting tensorboard-plugin-wit>=1.6.0 (from tensorboard<2.11,>=2.10->tensorflow==2.10.0)\n",
            "  Downloading tensorboard_plugin_wit-1.8.1-py3-none-any.whl (781 kB)\n",
            "\u001b[2K     \u001b[90m━━━━━━━━━━━━━━━━━━━━━━━━━━━━━━━━━━━━━━\u001b[0m \u001b[32m781.3/781.3 kB\u001b[0m \u001b[31m59.8 MB/s\u001b[0m eta \u001b[36m0:00:00\u001b[0m\n",
            "\u001b[?25hRequirement already satisfied: werkzeug>=1.0.1 in /usr/local/lib/python3.10/dist-packages (from tensorboard<2.11,>=2.10->tensorflow==2.10.0) (2.3.7)\n",
            "Requirement already satisfied: cachetools<6.0,>=2.0.0 in /usr/local/lib/python3.10/dist-packages (from google-auth<3,>=1.6.3->tensorboard<2.11,>=2.10->tensorflow==2.10.0) (5.3.1)\n",
            "Requirement already satisfied: pyasn1-modules>=0.2.1 in /usr/local/lib/python3.10/dist-packages (from google-auth<3,>=1.6.3->tensorboard<2.11,>=2.10->tensorflow==2.10.0) (0.3.0)\n",
            "Requirement already satisfied: rsa<5,>=3.1.4 in /usr/local/lib/python3.10/dist-packages (from google-auth<3,>=1.6.3->tensorboard<2.11,>=2.10->tensorflow==2.10.0) (4.9)\n",
            "Requirement already satisfied: requests-oauthlib>=0.7.0 in /usr/local/lib/python3.10/dist-packages (from google-auth-oauthlib<0.5,>=0.4.1->tensorboard<2.11,>=2.10->tensorflow==2.10.0) (1.3.1)\n",
            "Requirement already satisfied: charset-normalizer<4,>=2 in /usr/local/lib/python3.10/dist-packages (from requests<3,>=2.21.0->tensorboard<2.11,>=2.10->tensorflow==2.10.0) (3.2.0)\n",
            "Requirement already satisfied: idna<4,>=2.5 in /usr/local/lib/python3.10/dist-packages (from requests<3,>=2.21.0->tensorboard<2.11,>=2.10->tensorflow==2.10.0) (3.4)\n",
            "Requirement already satisfied: urllib3<3,>=1.21.1 in /usr/local/lib/python3.10/dist-packages (from requests<3,>=2.21.0->tensorboard<2.11,>=2.10->tensorflow==2.10.0) (2.0.4)\n",
            "Requirement already satisfied: certifi>=2017.4.17 in /usr/local/lib/python3.10/dist-packages (from requests<3,>=2.21.0->tensorboard<2.11,>=2.10->tensorflow==2.10.0) (2023.7.22)\n",
            "Requirement already satisfied: MarkupSafe>=2.1.1 in /usr/local/lib/python3.10/dist-packages (from werkzeug>=1.0.1->tensorboard<2.11,>=2.10->tensorflow==2.10.0) (2.1.3)\n",
            "Requirement already satisfied: pyasn1<0.6.0,>=0.4.6 in /usr/local/lib/python3.10/dist-packages (from pyasn1-modules>=0.2.1->google-auth<3,>=1.6.3->tensorboard<2.11,>=2.10->tensorflow==2.10.0) (0.5.0)\n",
            "Requirement already satisfied: oauthlib>=3.0.0 in /usr/local/lib/python3.10/dist-packages (from requests-oauthlib>=0.7.0->google-auth-oauthlib<0.5,>=0.4.1->tensorboard<2.11,>=2.10->tensorflow==2.10.0) (3.2.2)\n",
            "Installing collected packages: tensorboard-plugin-wit, keras, tensorflow-estimator, tensorboard-data-server, protobuf, keras-preprocessing, google-auth-oauthlib, tensorboard, tensorflow\n",
            "  Attempting uninstall: keras\n",
            "    Found existing installation: keras 2.12.0\n",
            "    Uninstalling keras-2.12.0:\n",
            "      Successfully uninstalled keras-2.12.0\n",
            "  Attempting uninstall: tensorflow-estimator\n",
            "    Found existing installation: tensorflow-estimator 2.12.0\n",
            "    Uninstalling tensorflow-estimator-2.12.0:\n",
            "      Successfully uninstalled tensorflow-estimator-2.12.0\n",
            "  Attempting uninstall: tensorboard-data-server\n",
            "    Found existing installation: tensorboard-data-server 0.7.1\n",
            "    Uninstalling tensorboard-data-server-0.7.1:\n",
            "      Successfully uninstalled tensorboard-data-server-0.7.1\n",
            "  Attempting uninstall: protobuf\n",
            "    Found existing installation: protobuf 3.20.3\n",
            "    Uninstalling protobuf-3.20.3:\n",
            "      Successfully uninstalled protobuf-3.20.3\n",
            "  Attempting uninstall: google-auth-oauthlib\n",
            "    Found existing installation: google-auth-oauthlib 1.0.0\n",
            "    Uninstalling google-auth-oauthlib-1.0.0:\n",
            "      Successfully uninstalled google-auth-oauthlib-1.0.0\n",
            "  Attempting uninstall: tensorboard\n",
            "    Found existing installation: tensorboard 2.12.3\n",
            "    Uninstalling tensorboard-2.12.3:\n",
            "      Successfully uninstalled tensorboard-2.12.3\n",
            "  Attempting uninstall: tensorflow\n",
            "    Found existing installation: tensorflow 2.12.0\n",
            "    Uninstalling tensorflow-2.12.0:\n",
            "      Successfully uninstalled tensorflow-2.12.0\n",
            "\u001b[31mERROR: pip's dependency resolver does not currently take into account all the packages that are installed. This behaviour is the source of the following dependency conflicts.\n",
            "tensorflow-datasets 4.9.2 requires protobuf>=3.20, but you have protobuf 3.19.6 which is incompatible.\n",
            "tensorflow-metadata 1.14.0 requires protobuf<4.21,>=3.20.3, but you have protobuf 3.19.6 which is incompatible.\u001b[0m\u001b[31m\n",
            "\u001b[0mSuccessfully installed google-auth-oauthlib-0.4.6 keras-2.10.0 keras-preprocessing-1.1.2 protobuf-3.19.6 tensorboard-2.10.1 tensorboard-data-server-0.6.1 tensorboard-plugin-wit-1.8.1 tensorflow-2.10.0 tensorflow-estimator-2.10.0\n"
          ]
        },
        {
          "output_type": "display_data",
          "data": {
            "application/vnd.colab-display-data+json": {
              "pip_warning": {
                "packages": [
                  "google"
                ]
              }
            }
          },
          "metadata": {}
        }
      ],
      "source": [
        "!pip install remotezip tqdm opencv-python einops\n",
        "# Install TensorFlow 2.10\n",
        "!pip install tensorflow==2.10.0"
      ]
    },
    {
      "cell_type": "code",
      "source": [
        "import tqdm\n",
        "import random\n",
        "import pathlib\n",
        "import itertools\n",
        "import collections\n",
        "\n",
        "import cv2\n",
        "import einops\n",
        "import numpy as np\n",
        "import remotezip as rz\n",
        "import seaborn as sns\n",
        "import matplotlib.pyplot as plt\n",
        "\n",
        "import tensorflow as tf\n",
        "import keras\n",
        "from keras import layers"
      ],
      "metadata": {
        "id": "TCO8_GrCkvTy"
      },
      "execution_count": 2,
      "outputs": []
    },
    {
      "cell_type": "code",
      "source": [
        "URL = 'https://storage.googleapis.com/thumos14_files/UCF101_videos.zip'"
      ],
      "metadata": {
        "id": "ETNth3x-kySa"
      },
      "execution_count": 3,
      "outputs": []
    },
    {
      "cell_type": "code",
      "source": [
        "def list_files_per_class(zip_url):\n",
        "  \"\"\"\n",
        "    List the files in each class of the dataset given the zip URL.\n",
        "\n",
        "    Args:\n",
        "      zip_url: URL from which the files can be unzipped.\n",
        "\n",
        "    Return:\n",
        "      files: List of files in each of the classes.\n",
        "  \"\"\"\n",
        "  files = []\n",
        "  with rz.RemoteZip(URL) as zip:\n",
        "    for zip_info in zip.infolist():\n",
        "      files.append(zip_info.filename)\n",
        "  return files"
      ],
      "metadata": {
        "id": "6_DfRDVak1U1"
      },
      "execution_count": 4,
      "outputs": []
    },
    {
      "cell_type": "code",
      "source": [
        "def get_class(fname):\n",
        "  \"\"\"\n",
        "    Retrieve the name of the class given a filename.\n",
        "\n",
        "    Args:\n",
        "      fname: Name of the file in the UCF101 dataset.\n",
        "\n",
        "    Return:\n",
        "      Class that the file belongs to.\n",
        "  \"\"\"\n",
        "  return fname.split('_')[-3]"
      ],
      "metadata": {
        "id": "TjmqSQqpk4Ck"
      },
      "execution_count": 5,
      "outputs": []
    },
    {
      "cell_type": "code",
      "source": [
        "def download_from_zip(zip_url, to_dir, file_names):\n",
        "\n",
        "  with rz.RemoteZip(zip_url) as zip:\n",
        "    for fn in tqdm.tqdm(file_names):\n",
        "      class_name = fn.split('_')[-3]\n",
        "      zip.extract(fn, str(to_dir / class_name))\n",
        "      unzipped_file = to_dir / class_name / fn\n",
        "\n",
        "      fn = pathlib.Path(fn).parts[-1]\n",
        "      output_file = to_dir / class_name / fn\n",
        "      unzipped_file.rename(output_file)"
      ],
      "metadata": {
        "id": "2m87pTZOk62Y"
      },
      "execution_count": 6,
      "outputs": []
    },
    {
      "cell_type": "code",
      "source": [
        "def split_class_lists(files_for_class, count):\n",
        "\n",
        "  split_files = []\n",
        "  remainder = {}\n",
        "  for cls in files_for_class:\n",
        "    split_files.extend(files_for_class[cls][:count])\n",
        "    remainder[cls] = files_for_class[cls][count:]\n",
        "  return split_files, remainder"
      ],
      "metadata": {
        "id": "xrZsgNRFk9Rh"
      },
      "execution_count": 7,
      "outputs": []
    },
    {
      "cell_type": "code",
      "source": [
        "def get_files_per_class(files):\n",
        "  \"\"\"\n",
        "    Retrieve the files that belong to each class.\n",
        "\n",
        "    Args:\n",
        "      files: List of files in the dataset.\n",
        "\n",
        "    Return:\n",
        "      Dictionary of class names (key) and files (values).\n",
        "  \"\"\"\n",
        "  files_for_class = collections.defaultdict(list)\n",
        "  for fname in files:\n",
        "    class_name = get_class(fname)\n",
        "    files_for_class[class_name].append(fname)\n",
        "  return files_for_class"
      ],
      "metadata": {
        "id": "-ItfuOegk_ww"
      },
      "execution_count": 8,
      "outputs": []
    },
    {
      "cell_type": "code",
      "source": [
        "def download_ufc_101_subset(zip_url, num_classes, splits, download_dir):\n",
        "  \"\"\"\n",
        "    Download a subset of the UFC101 dataset and split them into various parts, such as\n",
        "    training, validation, and test.\n",
        "\n",
        "    Args:\n",
        "      zip_url: Zip URL containing data.\n",
        "      num_classes: Number of labels.\n",
        "      splits: Dictionary specifying the training, validation, test, etc. (key) division of data\n",
        "              (value is number of files per split).\n",
        "      download_dir: Directory to download data to.\n",
        "\n",
        "    Return:\n",
        "      dir: Posix path of the resulting directories containing the splits of data.\n",
        "  \"\"\"\n",
        "  files = list_files_per_class(zip_url)\n",
        "  for f in files:\n",
        "    tokens = f.split('/')\n",
        "    if len(tokens) <= 2:\n",
        "      files.remove(f) # Remove that item from the list if it does not have a filename\n",
        "\n",
        "  files_for_class = get_files_per_class(files)\n",
        "\n",
        "  classes = list(files_for_class.keys())[:num_classes]\n",
        "\n",
        "  for cls in classes:\n",
        "    new_files_for_class = files_for_class[cls]\n",
        "    random.shuffle(new_files_for_class)\n",
        "    files_for_class[cls] = new_files_for_class\n",
        "\n",
        "  # Only use the number of classes you want in the dictionary\n",
        "  files_for_class = {x: files_for_class[x] for x in list(files_for_class)[:num_classes]}\n",
        "\n",
        "  dirs = {}\n",
        "  for split_name, split_count in splits.items():\n",
        "    print(split_name, \":\")\n",
        "    split_dir = download_dir / split_name\n",
        "    split_files, files_for_class = split_class_lists(files_for_class, split_count)\n",
        "    download_from_zip(zip_url, split_dir, split_files)\n",
        "    dirs[split_name] = split_dir\n",
        "\n",
        "  return dirs"
      ],
      "metadata": {
        "id": "34_Qd5culDif"
      },
      "execution_count": 9,
      "outputs": []
    },
    {
      "cell_type": "code",
      "source": [
        "download_dir = pathlib.Path('./UCF101_subset/')\n",
        "subset_paths = download_ufc_101_subset(URL,\n",
        "                        num_classes = 10,\n",
        "                        splits = {\"train\": 30, \"val\": 10, \"test\": 10},\n",
        "                        download_dir = download_dir)"
      ],
      "metadata": {
        "colab": {
          "base_uri": "https://localhost:8080/"
        },
        "id": "k6fLNjT_lGBl",
        "outputId": "16e672bc-e077-46bb-8ba1-81f5ffd8a07d"
      },
      "execution_count": 10,
      "outputs": [
        {
          "output_type": "stream",
          "name": "stdout",
          "text": [
            "train :\n"
          ]
        },
        {
          "output_type": "stream",
          "name": "stderr",
          "text": [
            "100%|██████████| 300/300 [01:10<00:00,  4.25it/s]\n"
          ]
        },
        {
          "output_type": "stream",
          "name": "stdout",
          "text": [
            "val :\n"
          ]
        },
        {
          "output_type": "stream",
          "name": "stderr",
          "text": [
            "100%|██████████| 100/100 [00:28<00:00,  3.50it/s]\n"
          ]
        },
        {
          "output_type": "stream",
          "name": "stdout",
          "text": [
            "test :\n"
          ]
        },
        {
          "output_type": "stream",
          "name": "stderr",
          "text": [
            "100%|██████████| 100/100 [00:24<00:00,  4.05it/s]\n"
          ]
        }
      ]
    },
    {
      "cell_type": "code",
      "source": [
        "download_dir = pathlib.Path('/content/UCF101_subset/')\n",
        "video_count_train = len(list(download_dir.glob('train/*/*.avi')))\n",
        "video_count_val = len(list(download_dir.glob('val/*/*.avi')))\n",
        "video_count_test = len(list(download_dir.glob('test/*/*.avi')))\n",
        "video_total = video_count_train + video_count_val + video_count_test\n",
        "print(f\"Total videos: {video_total}\")"
      ],
      "metadata": {
        "colab": {
          "base_uri": "https://localhost:8080/"
        },
        "id": "CQXJ_2aJlI0d",
        "outputId": "249ee37a-a4c9-4e8e-cda8-234b72c1335d"
      },
      "execution_count": 11,
      "outputs": [
        {
          "output_type": "stream",
          "name": "stdout",
          "text": [
            "Total videos: 500\n"
          ]
        }
      ]
    },
    {
      "cell_type": "code",
      "source": [
        "!find /content/drive/MyDrive/Thesis/UCF101_subset"
      ],
      "metadata": {
        "colab": {
          "base_uri": "https://localhost:8080/"
        },
        "id": "qhMAPbTZlLQ0",
        "outputId": "e3cfb9dd-5ba2-4eab-9289-964e0e969b70"
      },
      "execution_count": 12,
      "outputs": [
        {
          "output_type": "stream",
          "name": "stdout",
          "text": [
            "find: ‘/content/drive/MyDrive/Thesis/UCF101_subset’: No such file or directory\n"
          ]
        }
      ]
    },
    {
      "cell_type": "code",
      "source": [
        "def format_frame(frame, output_size):\n",
        " frame = tf.image.convert_image_dtype(frame, tf.float32)\n",
        " frame = tf.image.resize_with_pad(frame, *output_size)\n",
        " return frame"
      ],
      "metadata": {
        "id": "6Sp9OovelOxQ"
      },
      "execution_count": 13,
      "outputs": []
    },
    {
      "cell_type": "code",
      "source": [
        "def frames_from_video_file(video_path, n_frames, output_size = (224,224), frame_step = 15):\n",
        "\n",
        "  result = []\n",
        "  src = cv2.VideoCapture(str(video_path))\n",
        "\n",
        "  video_length = src.get(cv2.CAP_PROP_FRAME_COUNT)\n",
        "\n",
        "  need_length = 1 + (n_frames - 1) * frame_step\n",
        "\n",
        "  if need_length > video_length:\n",
        "    start = 0\n",
        "  else:\n",
        "    max_start = video_length - need_length\n",
        "    start = random.randint(0, max_start + 1)\n",
        "\n",
        "  src.set(cv2.CAP_PROP_POS_FRAMES, start)\n",
        "  # ret is a boolean indicating whether read was successful, frame is the image itself\n",
        "  ret, frame = src.read()\n",
        "  result.append(format_frame(frame, output_size))\n",
        "\n",
        "  for _ in range(n_frames - 1):\n",
        "    for _ in range(frame_step):\n",
        "      ret, frame = src.read()\n",
        "    if ret:\n",
        "      frame = format_frame(frame, output_size)\n",
        "      result.append(frame)\n",
        "    else:\n",
        "      result.append(np.zeros_like(result[0]))\n",
        "  src.release()\n",
        "  result = np.array(result)[..., [2, 1, 0]]\n",
        "\n",
        "  return result"
      ],
      "metadata": {
        "id": "Z5NUK_SclRLy"
      },
      "execution_count": 14,
      "outputs": []
    },
    {
      "cell_type": "code",
      "source": [
        "def generate_frames(path, n_frames, training=False):\n",
        "    class_names = sorted(set(p.name for p in path.iterdir() if p.is_dir()))\n",
        "    class_ids_for_name = dict((name, idx) for idx, name in enumerate(class_names))\n",
        "\n",
        "    def get_files_and_class_names():\n",
        "        video_paths = list(path.glob('*/*.avi'))\n",
        "        classes = [p.parent.name for p in video_paths]\n",
        "        return video_paths, classes\n",
        "\n",
        "    video_paths, classes = get_files_and_class_names()\n",
        "\n",
        "    pairs = list(zip(video_paths, classes))\n",
        "\n",
        "    if training:\n",
        "        random.shuffle(pairs)\n",
        "\n",
        "    for path, name in pairs:\n",
        "        video_frames = frames_from_video_file(path, n_frames)\n",
        "        label = class_ids_for_name[name]  # Encode labels\n",
        "        yield video_frames, label"
      ],
      "metadata": {
        "id": "oeYYFLKzlTpv"
      },
      "execution_count": 15,
      "outputs": []
    },
    {
      "cell_type": "code",
      "source": [
        "def add_data_noise(frame):\n",
        "    # Add Gaussian noise to the frame\n",
        "    noise = tf.random.normal(shape=tf.shape(frame), mean=0.0, stddev=0.1)\n",
        "    noisy_frame = frame + noise\n",
        "    return noisy_frame"
      ],
      "metadata": {
        "id": "0Vkt0eh4lWFX"
      },
      "execution_count": 16,
      "outputs": []
    },
    {
      "cell_type": "code",
      "source": [
        "import tensorflow as tf\n",
        "\n",
        "# Define your data augmentation transformations using TensorFlow\n",
        "def apply_data_augmentation(frames, label):\n",
        "    # Create a tensor array to collect augmented frames\n",
        "    augmented_frames = tf.TensorArray(tf.float32, size=0, dynamic_size=True, clear_after_read=False)\n",
        "\n",
        "    # Loop over frames and apply augmentation\n",
        "    for frame in frames:\n",
        "        augmented_frame = apply_augmentation(frame)\n",
        "        noisy_frame = add_data_noise(augmented_frame)  # Add Gaussian noise to the frame\n",
        "        augmented_frames = augmented_frames.write(augmented_frames.size(), noisy_frame)\n",
        "\n",
        "    # Stack the augmented frames using tf.stack\n",
        "    augmented_frames_tensor = augmented_frames.stack()\n",
        "\n",
        "    # Manually calculate mean and std deviation for standardization\n",
        "    mean, variance = tf.nn.moments(augmented_frames_tensor, axes=[0, 1, 2], keepdims=True)\n",
        "    normalized_frames = (augmented_frames_tensor - mean) / tf.sqrt(variance + 1e-6)\n",
        "\n",
        "    return normalized_frames, label\n",
        "\n",
        "def apply_augmentation(frame):\n",
        "    # Resize the frame\n",
        "    resized_frame = tf.image.resize(frame, (224, 224))\n",
        "\n",
        "    # Randomly flip horizontally\n",
        "    horizontally_flipped_frame = tf.image.random_flip_left_right(resized_frame)\n",
        "\n",
        "    # Adjust color using brightness, contrast, saturation, and hue adjustments\n",
        "    adjusted_frame = tf.image.random_brightness(horizontally_flipped_frame, max_delta=0.2)\n",
        "    adjusted_frame = tf.image.random_contrast(adjusted_frame, lower=0.8, upper=1.2)\n",
        "    adjusted_frame = tf.image.random_saturation(adjusted_frame, lower=0.8, upper=1.2)\n",
        "    adjusted_frame = tf.image.random_hue(adjusted_frame, max_delta=0.1)\n",
        "\n",
        "    # Apply random rotation within [-10, 10] degrees\n",
        "    rotation_angle = tf.random.uniform(shape=(), minval=-10, maxval=10)\n",
        "    rotation_angle_radians = rotation_angle * (3.141592653589793 / 180.0)\n",
        "\n",
        "    # Apply rotation using tf.image.rot90\n",
        "    rotated_frame = tf.image.rot90(adjusted_frame, k=tf.cast(rotation_angle // 90, tf.int32))  # Rotate in 90-degree increments\n",
        "\n",
        "    # Randomly flip vertically\n",
        "    vertically_flipped_frame = tf.image.random_flip_up_down(rotated_frame)\n",
        "\n",
        "    return vertically_flipped_frame\n",
        "\n",
        "# Rest of your code...\n",
        "# Same as before...\n"
      ],
      "metadata": {
        "id": "It_a-tRilYeB"
      },
      "execution_count": 17,
      "outputs": []
    },
    {
      "cell_type": "code",
      "source": [
        "n_frames = 10\n",
        "batch_size = 8\n",
        "AUTOTUNE = tf.data.AUTOTUNE\n",
        "\n",
        "output_signature = (tf.TensorSpec(shape=(None, None, None, 3), dtype=tf.float32),\n",
        "                    tf.TensorSpec(shape=(), dtype=tf.int16))\n",
        "\n",
        "# Training dataset\n",
        "train_ds = tf.data.Dataset.from_generator(\n",
        "    lambda: generate_frames(subset_paths['train'], n_frames, training=True),\n",
        "    output_signature=output_signature)\n",
        "\n",
        "train_ds = train_ds.cache().shuffle(1000).prefetch(buffer_size = AUTOTUNE)\n",
        "train_ds = train_ds.batch(batch_size)\n",
        "\n",
        "# Validation dataset\n",
        "val_ds = tf.data.Dataset.from_generator(\n",
        "    lambda: generate_frames(subset_paths['val'], n_frames),\n",
        "    output_signature=output_signature)\n",
        "\n",
        "val_ds = val_ds.cache().shuffle(1000).prefetch(buffer_size = AUTOTUNE)\n",
        "val_ds = val_ds.batch(batch_size)\n",
        "\n",
        "# Test dataset\n",
        "test_ds = tf.data.Dataset.from_generator(\n",
        "    lambda: generate_frames(subset_paths['test'], n_frames),\n",
        "    output_signature=output_signature)\n",
        "\n",
        "test_ds = test_ds.batch(batch_size)\n"
      ],
      "metadata": {
        "id": "7oyPRnaZlbTX"
      },
      "execution_count": 53,
      "outputs": []
    },
    {
      "cell_type": "code",
      "source": [
        "train_frames, train_labels = next(iter(train_ds))\n",
        "print(f'Shape of training set of frames: {train_frames.shape}')\n",
        "print(f'Shape of training labels: {train_labels.shape}')\n",
        "\n",
        "val_frames, val_labels = next(iter(val_ds))\n",
        "print(f'Shape of validation set of frames: {val_frames.shape}')\n",
        "print(f'Shape of validation labels: {val_labels.shape}')"
      ],
      "metadata": {
        "colab": {
          "base_uri": "https://localhost:8080/"
        },
        "id": "pC2Nyt3Xld1J",
        "outputId": "ce2b03b5-1dc3-45de-a95a-7fa47ff7e7ab"
      },
      "execution_count": 48,
      "outputs": [
        {
          "output_type": "stream",
          "name": "stdout",
          "text": [
            "Shape of training set of frames: (8, 10, 224, 224, 3)\n",
            "Shape of training labels: (8,)\n",
            "Shape of validation set of frames: (8, 10, 224, 224, 3)\n",
            "Shape of validation labels: (8,)\n"
          ]
        }
      ]
    },
    {
      "cell_type": "code",
      "source": [
        "HEIGHT = 224\n",
        "WIDTH = 224"
      ],
      "metadata": {
        "id": "_4-G0OFIlgKd"
      },
      "execution_count": 54,
      "outputs": []
    },
    {
      "cell_type": "code",
      "source": [
        "from tensorflow.keras.layers import Conv2D, Conv3D, LayerNormalization, ReLU\n",
        "\n",
        "def Conv2Plus1D(inputs, filters, kernel_size, padding):\n",
        "    spatial_conv = Conv3D(filters=filters, kernel_size=(1, kernel_size[0], kernel_size[1]), padding=padding)(inputs)\n",
        "    temporal_conv = Conv3D(filters=filters, kernel_size=(kernel_size[2], 1, 1), padding=padding)(spatial_conv)\n",
        "    return temporal_conv"
      ],
      "metadata": {
        "id": "a35s989GliO5"
      },
      "execution_count": 50,
      "outputs": []
    },
    {
      "cell_type": "code",
      "source": [
        "def ResidualMain(inputs, filters, kernel_size):\n",
        "    conv2plus1d_1 = Conv2Plus1D(inputs, filters, kernel_size, padding='same')\n",
        "    norm_1 = LayerNormalization()(conv2plus1d_1)\n",
        "    relu_1 = ReLU()(norm_1)\n",
        "\n",
        "    conv2plus1d_2 = Conv2Plus1D(relu_1, filters, kernel_size, padding='same')\n",
        "    norm_2 = LayerNormalization()(conv2plus1d_2)\n",
        "\n",
        "    return norm_2"
      ],
      "metadata": {
        "id": "Z-hCscFhlkeB"
      },
      "execution_count": 51,
      "outputs": []
    },
    {
      "cell_type": "code",
      "source": [
        "from tensorflow.keras.layers import Dense, LayerNormalization\n",
        "\n",
        "def Project(inputs, units):\n",
        "    dense = Dense(units)(inputs)\n",
        "    norm = LayerNormalization()(dense)\n",
        "    return norm"
      ],
      "metadata": {
        "id": "p2pSZguZlmby"
      },
      "execution_count": 23,
      "outputs": []
    },
    {
      "cell_type": "code",
      "source": [
        "def add_residual_block(input, filters, kernel_size):\n",
        "  \"\"\"\n",
        "    Add residual blocks to the model. If the last dimensions of the input data\n",
        "    and filter size does not match, project it such that last dimension matches.\n",
        "  \"\"\"\n",
        "  out = ResidualMain(input,filters,\n",
        "                     kernel_size)\n",
        "\n",
        "  res = input\n",
        "  # Using the Keras functional APIs, project the last dimension of the tensor to\n",
        "  # match the new filter size\n",
        "  if out.shape[-1] != input.shape[-1]:\n",
        "    res = Project(res,out.shape[-1])\n",
        "\n",
        "  return layers.add([res, out])"
      ],
      "metadata": {
        "id": "dxI4_zUtlpCP"
      },
      "execution_count": 24,
      "outputs": []
    },
    {
      "cell_type": "code",
      "source": [
        "import einops\n",
        "from tensorflow.keras import layers, Model\n",
        "\n",
        "def ResizeVideo(video, height, width):\n",
        "    # Assume the input 'video' has shape (batch_size, num_frames, original_height, original_width, channels)\n",
        "    resized = layers.UpSampling3D(size=(1, height, width))(x)\n",
        "    # Reshape the video tensor to work with Resizing layer\n",
        "    reshaped_video = einops.rearrange(video, 'b t h w c -> (b t) h w c')\n",
        "\n",
        "    # Create a Resizing layer\n",
        "    resizing_layer = layers.Resizing(height, width)\n",
        "\n",
        "    # Apply resizing to the images in the video\n",
        "    resized_images = resizing_layer(reshaped_video)\n",
        "\n",
        "    # Restore the original video shape\n",
        "    resized_video = einops.rearrange(resized_images, '(b t) h w c -> b t h w c', t=video.shape[1])\n",
        "\n",
        "    return resized_video\n"
      ],
      "metadata": {
        "id": "9CTFbt_PlriN"
      },
      "execution_count": 25,
      "outputs": []
    },
    {
      "cell_type": "code",
      "source": [
        "input_shape = (None, 10, HEIGHT, WIDTH, 3)\n",
        "\n",
        "# Input layer\n",
        "input_layer = layers.Input(shape=input_shape[1:])\n",
        "x = input_layer\n",
        "\n",
        "\n",
        "# Initial Conv2Plus1D layer\n",
        "x = Conv2Plus1D(x,filters=16, kernel_size=(3, 7, 7), padding='same')\n",
        "x = layers.BatchNormalization()(x)\n",
        "x = layers.ReLU()(x)\n",
        "x = ResizeVideo(x, HEIGHT // 2, WIDTH // 2)\n",
        "\n",
        "# Block 1\n",
        "x = add_residual_block(x, 16, (3, 3, 3))\n",
        "x = ResizeVideo(x, HEIGHT // 4, WIDTH // 4)\n",
        "\n",
        "# Block 2\n",
        "x = add_residual_block(x, 32, (3, 3, 3))\n",
        "x = ResizeVideo(x, HEIGHT // 8, WIDTH // 8)\n",
        "\n",
        "# Block 3\n",
        "x = add_residual_block(x, 64, (3, 3, 3))\n",
        "x = ResizeVideo(x, HEIGHT // 16, WIDTH // 16)\n",
        "\n",
        "# Block 4\n",
        "x = add_residual_block(x, 128, (3, 3, 3))\n",
        "\n",
        "# Global Average Pooling and Dense layers\n",
        "\n",
        "x = layers.GlobalAveragePooling3D()(x)\n",
        "x = layers.Flatten()(x)\n",
        "x = layers.Dense(10)(x)\n",
        "\n",
        "# Create the model\n",
        "model = Model(inputs=input_layer, outputs=x)"
      ],
      "metadata": {
        "id": "T_jDuV-NluJO"
      },
      "execution_count": 55,
      "outputs": []
    },
    {
      "cell_type": "code",
      "source": [
        "from tensorflow.keras.callbacks import EarlyStopping\n",
        "\n",
        "# Define early stopping callback\n",
        "early_stopping = EarlyStopping(monitor='val_loss', patience=5, restore_best_weights=True)"
      ],
      "metadata": {
        "id": "jLcqdK2wpPP8"
      },
      "execution_count": 56,
      "outputs": []
    },
    {
      "cell_type": "code",
      "source": [
        "frames, label = next(iter(train_ds))\n",
        "model.build(frames)"
      ],
      "metadata": {
        "id": "rSQdu5KKlw-U"
      },
      "execution_count": 57,
      "outputs": []
    },
    {
      "cell_type": "code",
      "source": [
        "model.compile(loss = keras.losses.SparseCategoricalCrossentropy(from_logits=True),\n",
        "              optimizer = keras.optimizers.Adam(learning_rate = 0.0001),\n",
        "              metrics = ['accuracy'])"
      ],
      "metadata": {
        "id": "5txMjVSDlzIq"
      },
      "execution_count": 58,
      "outputs": []
    },
    {
      "cell_type": "code",
      "source": [
        "history = model.fit(x = train_ds,\n",
        "                    epochs = 40,\n",
        "                    validation_data = val_ds,\n",
        "                    callbacks=[early_stopping] )"
      ],
      "metadata": {
        "colab": {
          "base_uri": "https://localhost:8080/"
        },
        "id": "v_YPJ4_bl1Xp",
        "outputId": "593a3b0d-3a42-4c22-8b98-743bb7fba651"
      },
      "execution_count": 59,
      "outputs": [
        {
          "output_type": "stream",
          "name": "stdout",
          "text": [
            "Epoch 1/40\n",
            "38/38 [==============================] - 49s 1s/step - loss: 2.4701 - accuracy: 0.1467 - val_loss: 2.2583 - val_accuracy: 0.2200\n",
            "Epoch 2/40\n",
            "38/38 [==============================] - 26s 681ms/step - loss: 2.1807 - accuracy: 0.2367 - val_loss: 2.2101 - val_accuracy: 0.1700\n",
            "Epoch 3/40\n",
            "38/38 [==============================] - 27s 700ms/step - loss: 2.1297 - accuracy: 0.2433 - val_loss: 2.1441 - val_accuracy: 0.2300\n",
            "Epoch 4/40\n",
            "38/38 [==============================] - 26s 679ms/step - loss: 2.0241 - accuracy: 0.2400 - val_loss: 2.0115 - val_accuracy: 0.2700\n",
            "Epoch 5/40\n",
            "38/38 [==============================] - 26s 685ms/step - loss: 1.9323 - accuracy: 0.2800 - val_loss: 2.2451 - val_accuracy: 0.2400\n",
            "Epoch 6/40\n",
            "38/38 [==============================] - 26s 684ms/step - loss: 1.9027 - accuracy: 0.3167 - val_loss: 2.0305 - val_accuracy: 0.3300\n",
            "Epoch 7/40\n",
            "38/38 [==============================] - 26s 687ms/step - loss: 1.7711 - accuracy: 0.3700 - val_loss: 1.9204 - val_accuracy: 0.3000\n",
            "Epoch 8/40\n",
            "38/38 [==============================] - 26s 691ms/step - loss: 1.7945 - accuracy: 0.3167 - val_loss: 1.9126 - val_accuracy: 0.3300\n",
            "Epoch 9/40\n",
            "38/38 [==============================] - 26s 684ms/step - loss: 1.7174 - accuracy: 0.3267 - val_loss: 2.2310 - val_accuracy: 0.2800\n",
            "Epoch 10/40\n",
            "38/38 [==============================] - 26s 681ms/step - loss: 1.6226 - accuracy: 0.3933 - val_loss: 2.0042 - val_accuracy: 0.3400\n",
            "Epoch 11/40\n",
            "38/38 [==============================] - 26s 699ms/step - loss: 1.5835 - accuracy: 0.4333 - val_loss: 1.6884 - val_accuracy: 0.3800\n",
            "Epoch 12/40\n",
            "38/38 [==============================] - 26s 680ms/step - loss: 1.5986 - accuracy: 0.4067 - val_loss: 1.7330 - val_accuracy: 0.3300\n",
            "Epoch 13/40\n",
            "38/38 [==============================] - 26s 682ms/step - loss: 1.4320 - accuracy: 0.4833 - val_loss: 1.9871 - val_accuracy: 0.2500\n",
            "Epoch 14/40\n",
            "38/38 [==============================] - 26s 694ms/step - loss: 1.4693 - accuracy: 0.4767 - val_loss: 1.6385 - val_accuracy: 0.4000\n",
            "Epoch 15/40\n",
            "38/38 [==============================] - 26s 683ms/step - loss: 1.3223 - accuracy: 0.5267 - val_loss: 1.6389 - val_accuracy: 0.3700\n",
            "Epoch 16/40\n",
            "38/38 [==============================] - 26s 678ms/step - loss: 1.3955 - accuracy: 0.4833 - val_loss: 1.9441 - val_accuracy: 0.3900\n",
            "Epoch 17/40\n",
            "38/38 [==============================] - 27s 706ms/step - loss: 1.4294 - accuracy: 0.4833 - val_loss: 1.5305 - val_accuracy: 0.4600\n",
            "Epoch 18/40\n",
            "38/38 [==============================] - 26s 675ms/step - loss: 1.3119 - accuracy: 0.5200 - val_loss: 1.5167 - val_accuracy: 0.4200\n",
            "Epoch 19/40\n",
            "38/38 [==============================] - 26s 699ms/step - loss: 1.3165 - accuracy: 0.4933 - val_loss: 1.7591 - val_accuracy: 0.3900\n",
            "Epoch 20/40\n",
            "38/38 [==============================] - 26s 679ms/step - loss: 1.2272 - accuracy: 0.5600 - val_loss: 1.6382 - val_accuracy: 0.4500\n",
            "Epoch 21/40\n",
            "38/38 [==============================] - 27s 701ms/step - loss: 1.1963 - accuracy: 0.5400 - val_loss: 1.7038 - val_accuracy: 0.3700\n",
            "Epoch 22/40\n",
            "38/38 [==============================] - 26s 681ms/step - loss: 1.1703 - accuracy: 0.6000 - val_loss: 1.5048 - val_accuracy: 0.4600\n",
            "Epoch 23/40\n",
            "38/38 [==============================] - 26s 681ms/step - loss: 1.1914 - accuracy: 0.5533 - val_loss: 1.5727 - val_accuracy: 0.4600\n",
            "Epoch 24/40\n",
            "38/38 [==============================] - 27s 701ms/step - loss: 1.0824 - accuracy: 0.6100 - val_loss: 1.4363 - val_accuracy: 0.5500\n",
            "Epoch 25/40\n",
            "38/38 [==============================] - 26s 680ms/step - loss: 1.0750 - accuracy: 0.6300 - val_loss: 1.4093 - val_accuracy: 0.4800\n",
            "Epoch 26/40\n",
            "38/38 [==============================] - 26s 680ms/step - loss: 1.1228 - accuracy: 0.5667 - val_loss: 1.4611 - val_accuracy: 0.4500\n",
            "Epoch 27/40\n",
            "38/38 [==============================] - 26s 685ms/step - loss: 0.9603 - accuracy: 0.6700 - val_loss: 1.3098 - val_accuracy: 0.5300\n",
            "Epoch 28/40\n",
            "38/38 [==============================] - 26s 683ms/step - loss: 0.9811 - accuracy: 0.6567 - val_loss: 1.4437 - val_accuracy: 0.5300\n",
            "Epoch 29/40\n",
            "38/38 [==============================] - 26s 686ms/step - loss: 0.9470 - accuracy: 0.6500 - val_loss: 1.4145 - val_accuracy: 0.4600\n",
            "Epoch 30/40\n",
            "38/38 [==============================] - 26s 682ms/step - loss: 0.9340 - accuracy: 0.6800 - val_loss: 1.2245 - val_accuracy: 0.5800\n",
            "Epoch 31/40\n",
            "38/38 [==============================] - 26s 684ms/step - loss: 0.9354 - accuracy: 0.6833 - val_loss: 1.4647 - val_accuracy: 0.4800\n",
            "Epoch 32/40\n",
            "38/38 [==============================] - 26s 686ms/step - loss: 0.8775 - accuracy: 0.7100 - val_loss: 1.2364 - val_accuracy: 0.5900\n",
            "Epoch 33/40\n",
            "38/38 [==============================] - 26s 686ms/step - loss: 0.8171 - accuracy: 0.7133 - val_loss: 1.3255 - val_accuracy: 0.5600\n",
            "Epoch 34/40\n",
            "38/38 [==============================] - 26s 686ms/step - loss: 0.8604 - accuracy: 0.7233 - val_loss: 1.4017 - val_accuracy: 0.5200\n",
            "Epoch 35/40\n",
            "38/38 [==============================] - 26s 683ms/step - loss: 0.8151 - accuracy: 0.7233 - val_loss: 1.1371 - val_accuracy: 0.6100\n",
            "Epoch 36/40\n",
            "38/38 [==============================] - 26s 682ms/step - loss: 0.7362 - accuracy: 0.7667 - val_loss: 1.3735 - val_accuracy: 0.5300\n",
            "Epoch 37/40\n",
            "38/38 [==============================] - 26s 682ms/step - loss: 0.7423 - accuracy: 0.7533 - val_loss: 1.1627 - val_accuracy: 0.5600\n",
            "Epoch 38/40\n",
            "38/38 [==============================] - 26s 683ms/step - loss: 0.7216 - accuracy: 0.7600 - val_loss: 1.2589 - val_accuracy: 0.5500\n",
            "Epoch 39/40\n",
            "38/38 [==============================] - 26s 680ms/step - loss: 0.7362 - accuracy: 0.7400 - val_loss: 1.0741 - val_accuracy: 0.5900\n",
            "Epoch 40/40\n",
            "38/38 [==============================] - 26s 686ms/step - loss: 0.7034 - accuracy: 0.7633 - val_loss: 1.1329 - val_accuracy: 0.6000\n"
          ]
        }
      ]
    },
    {
      "cell_type": "code",
      "source": [
        "def plot_history(history):\n",
        "  \"\"\"\n",
        "    Plotting training and validation learning curves.\n",
        "\n",
        "    Args:\n",
        "      history: model history with all the metric measures\n",
        "  \"\"\"\n",
        "  fig, (ax1, ax2) = plt.subplots(2)\n",
        "\n",
        "  fig.set_size_inches(18.5, 10.5)\n",
        "\n",
        "  # Plot loss\n",
        "  ax1.set_title('Loss')\n",
        "  ax1.plot(history.history['loss'], label = 'train')\n",
        "  ax1.plot(history.history['val_loss'], label = 'test')\n",
        "  ax1.set_ylabel('Loss')\n",
        "\n",
        "  # Determine upper bound of y-axis\n",
        "  max_loss = max(history.history['loss'] + history.history['val_loss'])\n",
        "\n",
        "  ax1.set_ylim([0, np.ceil(max_loss)])\n",
        "  ax1.set_xlabel('Epoch')\n",
        "  ax1.legend(['Train', 'Validation'])\n",
        "\n",
        "  # Plot accuracy\n",
        "  ax2.set_title('Accuracy')\n",
        "  ax2.plot(history.history['accuracy'],  label = 'train')\n",
        "  ax2.plot(history.history['val_accuracy'], label = 'test')\n",
        "  ax2.set_ylabel('Accuracy')\n",
        "  ax2.set_ylim([0, 1])\n",
        "  ax2.set_xlabel('Epoch')\n",
        "  ax2.legend(['Train', 'Validation'])\n",
        "\n",
        "  plt.show()\n",
        "\n",
        "plot_history(history)"
      ],
      "metadata": {
        "colab": {
          "base_uri": "https://localhost:8080/",
          "height": 726
        },
        "id": "WdHyVPO0qF8e",
        "outputId": "920fa2f6-b533-47a9-fb93-0f1f65a4a232"
      },
      "execution_count": 60,
      "outputs": [
        {
          "output_type": "display_data",
          "data": {
            "text/plain": [
              "<Figure size 1850x1050 with 2 Axes>"
            ],
            "image/png": "[encoded data removed]"
          },
          "metadata": {}
        }
      ]
    },
    {
      "cell_type": "code",
      "source": [
        "model.evaluate(test_ds, return_dict=True)"
      ],
      "metadata": {
        "colab": {
          "base_uri": "https://localhost:8080/"
        },
        "id": "Pf958IXdqLXO",
        "outputId": "3807f908-93d8-47bc-a168-8a741ea516fd"
      },
      "execution_count": 61,
      "outputs": [
        {
          "output_type": "stream",
          "name": "stdout",
          "text": [
            "13/13 [==============================] - 14s 1s/step - loss: 0.9540 - accuracy: 0.6400\n"
          ]
        },
        {
          "output_type": "execute_result",
          "data": {
            "text/plain": [
              "{'loss': 0.9539720416069031, 'accuracy': 0.6399999856948853}"
            ]
          },
          "metadata": {},
          "execution_count": 61
        }
      ]
    }
  ]
}