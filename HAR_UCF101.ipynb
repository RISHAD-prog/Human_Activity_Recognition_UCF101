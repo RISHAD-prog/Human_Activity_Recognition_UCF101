{
  "cells": [
    {
      "cell_type": "markdown",
      "metadata": {
        "id": "view-in-github",
        "colab_type": "text"
      },
      "source": [
        "<a href=\"https://colab.research.google.com/github/RISHAD-prog/Human_Activity_Recognition_UCF101/blob/main/HAR_UCF101.ipynb\" target=\"_parent\"><img src=\"https://colab.research.google.com/assets/colab-badge.svg\" alt=\"Open In Colab\"/></a>"
      ]
    },
    {
      "cell_type": "code",
      "execution_count": 1,
      "metadata": {
        "colab": {
          "base_uri": "https://localhost:8080/",
          "height": 1000
        },
        "id": "996LWyXqkYPu",
        "outputId": "3f0b6491-e716-44b4-edea-9d3f1e4ea80a"
      },
      "outputs": [
        {
          "output_type": "stream",
          "name": "stdout",
          "text": [
            "Collecting remotezip\n",
            "  Downloading remotezip-0.12.1.tar.gz (7.5 kB)\n",
            "  Preparing metadata (setup.py) ... \u001b[?25l\u001b[?25hdone\n",
            "Requirement already satisfied: tqdm in /usr/local/lib/python3.10/dist-packages (4.66.1)\n",
            "Requirement already satisfied: opencv-python in /usr/local/lib/python3.10/dist-packages (4.8.0.76)\n",
            "Collecting einops\n",
            "  Downloading einops-0.6.1-py3-none-any.whl (42 kB)\n",
            "\u001b[2K     \u001b[90m━━━━━━━━━━━━━━━━━━━━━━━━━━━━━━━━━━━━━━━━\u001b[0m \u001b[32m42.2/42.2 kB\u001b[0m \u001b[31m1.4 MB/s\u001b[0m eta \u001b[36m0:00:00\u001b[0m\n",
            "\u001b[?25hRequirement already satisfied: requests in /usr/local/lib/python3.10/dist-packages (from remotezip) (2.31.0)\n",
            "Requirement already satisfied: tabulate in /usr/local/lib/python3.10/dist-packages (from remotezip) (0.9.0)\n",
            "Requirement already satisfied: numpy>=1.21.2 in /usr/local/lib/python3.10/dist-packages (from opencv-python) (1.23.5)\n",
            "Requirement already satisfied: charset-normalizer<4,>=2 in /usr/local/lib/python3.10/dist-packages (from requests->remotezip) (3.2.0)\n",
            "Requirement already satisfied: idna<4,>=2.5 in /usr/local/lib/python3.10/dist-packages (from requests->remotezip) (3.4)\n",
            "Requirement already satisfied: urllib3<3,>=1.21.1 in /usr/local/lib/python3.10/dist-packages (from requests->remotezip) (2.0.4)\n",
            "Requirement already satisfied: certifi>=2017.4.17 in /usr/local/lib/python3.10/dist-packages (from requests->remotezip) (2023.7.22)\n",
            "Building wheels for collected packages: remotezip\n",
            "  Building wheel for remotezip (setup.py) ... \u001b[?25l\u001b[?25hdone\n",
            "  Created wheel for remotezip: filename=remotezip-0.12.1-py3-none-any.whl size=7934 sha256=07f2b932dfb307348aaf4c59257e50ac75f74f8bc0d55cf66774dece76d5338b\n",
            "  Stored in directory: /root/.cache/pip/wheels/fc/76/04/beed1a6df4eb7430ee13c3900746edd517e5e597298d1f73f3\n",
            "Successfully built remotezip\n",
            "Installing collected packages: einops, remotezip\n",
            "Successfully installed einops-0.6.1 remotezip-0.12.1\n",
            "Collecting tensorflow==2.10.0\n",
            "  Downloading tensorflow-2.10.0-cp310-cp310-manylinux_2_17_x86_64.manylinux2014_x86_64.whl (578.0 MB)\n",
            "\u001b[2K     \u001b[90m━━━━━━━━━━━━━━━━━━━━━━━━━━━━━━━━━━━━━━━\u001b[0m \u001b[32m578.0/578.0 MB\u001b[0m \u001b[31m2.7 MB/s\u001b[0m eta \u001b[36m0:00:00\u001b[0m\n",
            "\u001b[?25hRequirement already satisfied: absl-py>=1.0.0 in /usr/local/lib/python3.10/dist-packages (from tensorflow==2.10.0) (1.4.0)\n",
            "Requirement already satisfied: astunparse>=1.6.0 in /usr/local/lib/python3.10/dist-packages (from tensorflow==2.10.0) (1.6.3)\n",
            "Requirement already satisfied: flatbuffers>=2.0 in /usr/local/lib/python3.10/dist-packages (from tensorflow==2.10.0) (23.5.26)\n",
            "Requirement already satisfied: gast<=0.4.0,>=0.2.1 in /usr/local/lib/python3.10/dist-packages (from tensorflow==2.10.0) (0.4.0)\n",
            "Requirement already satisfied: google-pasta>=0.1.1 in /usr/local/lib/python3.10/dist-packages (from tensorflow==2.10.0) (0.2.0)\n",
            "Requirement already satisfied: grpcio<2.0,>=1.24.3 in /usr/local/lib/python3.10/dist-packages (from tensorflow==2.10.0) (1.57.0)\n",
            "Requirement already satisfied: h5py>=2.9.0 in /usr/local/lib/python3.10/dist-packages (from tensorflow==2.10.0) (3.9.0)\n",
            "Collecting keras<2.11,>=2.10.0 (from tensorflow==2.10.0)\n",
            "  Downloading keras-2.10.0-py2.py3-none-any.whl (1.7 MB)\n",
            "\u001b[2K     \u001b[90m━━━━━━━━━━━━━━━━━━━━━━━━━━━━━━━━━━━━━━━━\u001b[0m \u001b[32m1.7/1.7 MB\u001b[0m \u001b[31m62.7 MB/s\u001b[0m eta \u001b[36m0:00:00\u001b[0m\n",
            "\u001b[?25hCollecting keras-preprocessing>=1.1.1 (from tensorflow==2.10.0)\n",
            "  Downloading Keras_Preprocessing-1.1.2-py2.py3-none-any.whl (42 kB)\n",
            "\u001b[2K     \u001b[90m━━━━━━━━━━━━━━━━━━━━━━━━━━━━━━━━━━━━━━━━\u001b[0m \u001b[32m42.6/42.6 kB\u001b[0m \u001b[31m5.4 MB/s\u001b[0m eta \u001b[36m0:00:00\u001b[0m\n",
            "\u001b[?25hRequirement already satisfied: libclang>=13.0.0 in /usr/local/lib/python3.10/dist-packages (from tensorflow==2.10.0) (16.0.6)\n",
            "Requirement already satisfied: numpy>=1.20 in /usr/local/lib/python3.10/dist-packages (from tensorflow==2.10.0) (1.23.5)\n",
            "Requirement already satisfied: opt-einsum>=2.3.2 in /usr/local/lib/python3.10/dist-packages (from tensorflow==2.10.0) (3.3.0)\n",
            "Requirement already satisfied: packaging in /usr/local/lib/python3.10/dist-packages (from tensorflow==2.10.0) (23.1)\n",
            "Collecting protobuf<3.20,>=3.9.2 (from tensorflow==2.10.0)\n",
            "  Downloading protobuf-3.19.6-cp310-cp310-manylinux_2_17_x86_64.manylinux2014_x86_64.whl (1.1 MB)\n",
            "\u001b[2K     \u001b[90m━━━━━━━━━━━━━━━━━━━━━━━━━━━━━━━━━━━━━━━━\u001b[0m \u001b[32m1.1/1.1 MB\u001b[0m \u001b[31m42.6 MB/s\u001b[0m eta \u001b[36m0:00:00\u001b[0m\n",
            "\u001b[?25hRequirement already satisfied: setuptools in /usr/local/lib/python3.10/dist-packages (from tensorflow==2.10.0) (67.7.2)\n",
            "Requirement already satisfied: six>=1.12.0 in /usr/local/lib/python3.10/dist-packages (from tensorflow==2.10.0) (1.16.0)\n",
            "Collecting tensorboard<2.11,>=2.10 (from tensorflow==2.10.0)\n",
            "  Downloading tensorboard-2.10.1-py3-none-any.whl (5.9 MB)\n",
            "\u001b[2K     \u001b[90m━━━━━━━━━━━━━━━━━━━━━━━━━━━━━━━━━━━━━━━━\u001b[0m \u001b[32m5.9/5.9 MB\u001b[0m \u001b[31m78.3 MB/s\u001b[0m eta \u001b[36m0:00:00\u001b[0m\n",
            "\u001b[?25hRequirement already satisfied: tensorflow-io-gcs-filesystem>=0.23.1 in /usr/local/lib/python3.10/dist-packages (from tensorflow==2.10.0) (0.33.0)\n",
            "Collecting tensorflow-estimator<2.11,>=2.10.0 (from tensorflow==2.10.0)\n",
            "  Downloading tensorflow_estimator-2.10.0-py2.py3-none-any.whl (438 kB)\n",
            "\u001b[2K     \u001b[90m━━━━━━━━━━━━━━━━━━━━━━━━━━━━━━━━━━━━━━\u001b[0m \u001b[32m438.7/438.7 kB\u001b[0m \u001b[31m41.2 MB/s\u001b[0m eta \u001b[36m0:00:00\u001b[0m\n",
            "\u001b[?25hRequirement already satisfied: termcolor>=1.1.0 in /usr/local/lib/python3.10/dist-packages (from tensorflow==2.10.0) (2.3.0)\n",
            "Requirement already satisfied: typing-extensions>=3.6.6 in /usr/local/lib/python3.10/dist-packages (from tensorflow==2.10.0) (4.7.1)\n",
            "Requirement already satisfied: wrapt>=1.11.0 in /usr/local/lib/python3.10/dist-packages (from tensorflow==2.10.0) (1.14.1)\n",
            "Requirement already satisfied: wheel<1.0,>=0.23.0 in /usr/local/lib/python3.10/dist-packages (from astunparse>=1.6.0->tensorflow==2.10.0) (0.41.2)\n",
            "Requirement already satisfied: google-auth<3,>=1.6.3 in /usr/local/lib/python3.10/dist-packages (from tensorboard<2.11,>=2.10->tensorflow==2.10.0) (2.17.3)\n",
            "Collecting google-auth-oauthlib<0.5,>=0.4.1 (from tensorboard<2.11,>=2.10->tensorflow==2.10.0)\n",
            "  Downloading google_auth_oauthlib-0.4.6-py2.py3-none-any.whl (18 kB)\n",
            "Requirement already satisfied: markdown>=2.6.8 in /usr/local/lib/python3.10/dist-packages (from tensorboard<2.11,>=2.10->tensorflow==2.10.0) (3.4.4)\n",
            "Requirement already satisfied: requests<3,>=2.21.0 in /usr/local/lib/python3.10/dist-packages (from tensorboard<2.11,>=2.10->tensorflow==2.10.0) (2.31.0)\n",
            "Collecting tensorboard-data-server<0.7.0,>=0.6.0 (from tensorboard<2.11,>=2.10->tensorflow==2.10.0)\n",
            "  Downloading tensorboard_data_server-0.6.1-py3-none-manylinux2010_x86_64.whl (4.9 MB)\n",
            "\u001b[2K     \u001b[90m━━━━━━━━━━━━━━━━━━━━━━━━━━━━━━━━━━━━━━━━\u001b[0m \u001b[32m4.9/4.9 MB\u001b[0m \u001b[31m76.7 MB/s\u001b[0m eta \u001b[36m0:00:00\u001b[0m\n",
            "\u001b[?25hCollecting tensorboard-plugin-wit>=1.6.0 (from tensorboard<2.11,>=2.10->tensorflow==2.10.0)\n",
            "  Downloading tensorboard_plugin_wit-1.8.1-py3-none-any.whl (781 kB)\n",
            "\u001b[2K     \u001b[90m━━━━━━━━━━━━━━━━━━━━━━━━━━━━━━━━━━━━━━\u001b[0m \u001b[32m781.3/781.3 kB\u001b[0m \u001b[31m48.4 MB/s\u001b[0m eta \u001b[36m0:00:00\u001b[0m\n",
            "\u001b[?25hRequirement already satisfied: werkzeug>=1.0.1 in /usr/local/lib/python3.10/dist-packages (from tensorboard<2.11,>=2.10->tensorflow==2.10.0) (2.3.7)\n",
            "Requirement already satisfied: cachetools<6.0,>=2.0.0 in /usr/local/lib/python3.10/dist-packages (from google-auth<3,>=1.6.3->tensorboard<2.11,>=2.10->tensorflow==2.10.0) (5.3.1)\n",
            "Requirement already satisfied: pyasn1-modules>=0.2.1 in /usr/local/lib/python3.10/dist-packages (from google-auth<3,>=1.6.3->tensorboard<2.11,>=2.10->tensorflow==2.10.0) (0.3.0)\n",
            "Requirement already satisfied: rsa<5,>=3.1.4 in /usr/local/lib/python3.10/dist-packages (from google-auth<3,>=1.6.3->tensorboard<2.11,>=2.10->tensorflow==2.10.0) (4.9)\n",
            "Requirement already satisfied: requests-oauthlib>=0.7.0 in /usr/local/lib/python3.10/dist-packages (from google-auth-oauthlib<0.5,>=0.4.1->tensorboard<2.11,>=2.10->tensorflow==2.10.0) (1.3.1)\n",
            "Requirement already satisfied: charset-normalizer<4,>=2 in /usr/local/lib/python3.10/dist-packages (from requests<3,>=2.21.0->tensorboard<2.11,>=2.10->tensorflow==2.10.0) (3.2.0)\n",
            "Requirement already satisfied: idna<4,>=2.5 in /usr/local/lib/python3.10/dist-packages (from requests<3,>=2.21.0->tensorboard<2.11,>=2.10->tensorflow==2.10.0) (3.4)\n",
            "Requirement already satisfied: urllib3<3,>=1.21.1 in /usr/local/lib/python3.10/dist-packages (from requests<3,>=2.21.0->tensorboard<2.11,>=2.10->tensorflow==2.10.0) (2.0.4)\n",
            "Requirement already satisfied: certifi>=2017.4.17 in /usr/local/lib/python3.10/dist-packages (from requests<3,>=2.21.0->tensorboard<2.11,>=2.10->tensorflow==2.10.0) (2023.7.22)\n",
            "Requirement already satisfied: MarkupSafe>=2.1.1 in /usr/local/lib/python3.10/dist-packages (from werkzeug>=1.0.1->tensorboard<2.11,>=2.10->tensorflow==2.10.0) (2.1.3)\n",
            "Requirement already satisfied: pyasn1<0.6.0,>=0.4.6 in /usr/local/lib/python3.10/dist-packages (from pyasn1-modules>=0.2.1->google-auth<3,>=1.6.3->tensorboard<2.11,>=2.10->tensorflow==2.10.0) (0.5.0)\n",
            "Requirement already satisfied: oauthlib>=3.0.0 in /usr/local/lib/python3.10/dist-packages (from requests-oauthlib>=0.7.0->google-auth-oauthlib<0.5,>=0.4.1->tensorboard<2.11,>=2.10->tensorflow==2.10.0) (3.2.2)\n",
            "Installing collected packages: tensorboard-plugin-wit, keras, tensorflow-estimator, tensorboard-data-server, protobuf, keras-preprocessing, google-auth-oauthlib, tensorboard, tensorflow\n",
            "  Attempting uninstall: keras\n",
            "    Found existing installation: keras 2.12.0\n",
            "    Uninstalling keras-2.12.0:\n",
            "      Successfully uninstalled keras-2.12.0\n",
            "  Attempting uninstall: tensorflow-estimator\n",
            "    Found existing installation: tensorflow-estimator 2.12.0\n",
            "    Uninstalling tensorflow-estimator-2.12.0:\n",
            "      Successfully uninstalled tensorflow-estimator-2.12.0\n",
            "  Attempting uninstall: tensorboard-data-server\n",
            "    Found existing installation: tensorboard-data-server 0.7.1\n",
            "    Uninstalling tensorboard-data-server-0.7.1:\n",
            "      Successfully uninstalled tensorboard-data-server-0.7.1\n",
            "  Attempting uninstall: protobuf\n",
            "    Found existing installation: protobuf 3.20.3\n",
            "    Uninstalling protobuf-3.20.3:\n",
            "      Successfully uninstalled protobuf-3.20.3\n",
            "  Attempting uninstall: google-auth-oauthlib\n",
            "    Found existing installation: google-auth-oauthlib 1.0.0\n",
            "    Uninstalling google-auth-oauthlib-1.0.0:\n",
            "      Successfully uninstalled google-auth-oauthlib-1.0.0\n",
            "  Attempting uninstall: tensorboard\n",
            "    Found existing installation: tensorboard 2.12.3\n",
            "    Uninstalling tensorboard-2.12.3:\n",
            "      Successfully uninstalled tensorboard-2.12.3\n",
            "  Attempting uninstall: tensorflow\n",
            "    Found existing installation: tensorflow 2.12.0\n",
            "    Uninstalling tensorflow-2.12.0:\n",
            "      Successfully uninstalled tensorflow-2.12.0\n",
            "\u001b[31mERROR: pip's dependency resolver does not currently take into account all the packages that are installed. This behaviour is the source of the following dependency conflicts.\n",
            "tensorflow-datasets 4.9.2 requires protobuf>=3.20, but you have protobuf 3.19.6 which is incompatible.\n",
            "tensorflow-metadata 1.14.0 requires protobuf<4.21,>=3.20.3, but you have protobuf 3.19.6 which is incompatible.\u001b[0m\u001b[31m\n",
            "\u001b[0mSuccessfully installed google-auth-oauthlib-0.4.6 keras-2.10.0 keras-preprocessing-1.1.2 protobuf-3.19.6 tensorboard-2.10.1 tensorboard-data-server-0.6.1 tensorboard-plugin-wit-1.8.1 tensorflow-2.10.0 tensorflow-estimator-2.10.0\n"
          ]
        },
        {
          "output_type": "display_data",
          "data": {
            "application/vnd.colab-display-data+json": {
              "pip_warning": {
                "packages": [
                  "google"
                ]
              }
            }
          },
          "metadata": {}
        }
      ],
      "source": [
        "!pip install remotezip tqdm opencv-python einops\n",
        "# Install TensorFlow 2.10\n",
        "!pip install tensorflow==2.10.0"
      ]
    },
    {
      "cell_type": "code",
      "execution_count": 2,
      "metadata": {
        "id": "TCO8_GrCkvTy"
      },
      "outputs": [],
      "source": [
        "import tqdm\n",
        "import random\n",
        "import pathlib\n",
        "import itertools\n",
        "import collections\n",
        "\n",
        "import cv2\n",
        "import einops\n",
        "import numpy as np\n",
        "import remotezip as rz\n",
        "import seaborn as sns\n",
        "import matplotlib.pyplot as plt\n",
        "\n",
        "import tensorflow as tf\n",
        "import keras\n",
        "from keras import layers"
      ]
    },
    {
      "cell_type": "code",
      "execution_count": 3,
      "metadata": {
        "id": "ETNth3x-kySa"
      },
      "outputs": [],
      "source": [
        "URL = 'https://storage.googleapis.com/thumos14_files/UCF101_videos.zip'"
      ]
    },
    {
      "cell_type": "code",
      "execution_count": 4,
      "metadata": {
        "id": "6_DfRDVak1U1"
      },
      "outputs": [],
      "source": [
        "def list_files_per_class(zip_url):\n",
        "  \"\"\"\n",
        "    List the files in each class of the dataset given the zip URL.\n",
        "\n",
        "    Args:\n",
        "      zip_url: URL from which the files can be unzipped.\n",
        "\n",
        "    Return:\n",
        "      files: List of files in each of the classes.\n",
        "  \"\"\"\n",
        "  files = []\n",
        "  with rz.RemoteZip(URL) as zip:\n",
        "    for zip_info in zip.infolist():\n",
        "      files.append(zip_info.filename)\n",
        "  return files"
      ]
    },
    {
      "cell_type": "code",
      "execution_count": 5,
      "metadata": {
        "id": "TjmqSQqpk4Ck"
      },
      "outputs": [],
      "source": [
        "def get_class(fname):\n",
        "  \"\"\"\n",
        "    Retrieve the name of the class given a filename.\n",
        "\n",
        "    Args:\n",
        "      fname: Name of the file in the UCF101 dataset.\n",
        "\n",
        "    Return:\n",
        "      Class that the file belongs to.\n",
        "  \"\"\"\n",
        "  return fname.split('_')[-3]"
      ]
    },
    {
      "cell_type": "code",
      "execution_count": 6,
      "metadata": {
        "id": "2m87pTZOk62Y"
      },
      "outputs": [],
      "source": [
        "def download_from_zip(zip_url, to_dir, file_names):\n",
        "\n",
        "  with rz.RemoteZip(zip_url) as zip:\n",
        "    for fn in tqdm.tqdm(file_names):\n",
        "      class_name = fn.split('_')[-3]\n",
        "      zip.extract(fn, str(to_dir / class_name))\n",
        "      unzipped_file = to_dir / class_name / fn\n",
        "\n",
        "      fn = pathlib.Path(fn).parts[-1]\n",
        "      output_file = to_dir / class_name / fn\n",
        "      unzipped_file.rename(output_file)"
      ]
    },
    {
      "cell_type": "code",
      "execution_count": 7,
      "metadata": {
        "id": "xrZsgNRFk9Rh"
      },
      "outputs": [],
      "source": [
        "def split_class_lists(files_for_class, count):\n",
        "\n",
        "  split_files = []\n",
        "  remainder = {}\n",
        "  for cls in files_for_class:\n",
        "    split_files.extend(files_for_class[cls][:count])\n",
        "    remainder[cls] = files_for_class[cls][count:]\n",
        "  return split_files, remainder"
      ]
    },
    {
      "cell_type": "code",
      "execution_count": 8,
      "metadata": {
        "id": "-ItfuOegk_ww"
      },
      "outputs": [],
      "source": [
        "def get_files_per_class(files):\n",
        "  \"\"\"\n",
        "    Retrieve the files that belong to each class.\n",
        "\n",
        "    Args:\n",
        "      files: List of files in the dataset.\n",
        "\n",
        "    Return:\n",
        "      Dictionary of class names (key) and files (values).\n",
        "  \"\"\"\n",
        "  files_for_class = collections.defaultdict(list)\n",
        "  for fname in files:\n",
        "    class_name = get_class(fname)\n",
        "    files_for_class[class_name].append(fname)\n",
        "  return files_for_class"
      ]
    },
    {
      "cell_type": "code",
      "execution_count": 9,
      "metadata": {
        "id": "34_Qd5culDif"
      },
      "outputs": [],
      "source": [
        "def download_ufc_101_subset(zip_url, num_classes, splits, download_dir):\n",
        "  \"\"\"\n",
        "    Download a subset of the UFC101 dataset and split them into various parts, such as\n",
        "    training, validation, and test.\n",
        "\n",
        "    Args:\n",
        "      zip_url: Zip URL containing data.\n",
        "      num_classes: Number of labels.\n",
        "      splits: Dictionary specifying the training, validation, test, etc. (key) division of data\n",
        "              (value is number of files per split).\n",
        "      download_dir: Directory to download data to.\n",
        "\n",
        "    Return:\n",
        "      dir: Posix path of the resulting directories containing the splits of data.\n",
        "  \"\"\"\n",
        "  files = list_files_per_class(zip_url)\n",
        "  for f in files:\n",
        "    tokens = f.split('/')\n",
        "    if len(tokens) <= 2:\n",
        "      files.remove(f) # Remove that item from the list if it does not have a filename\n",
        "\n",
        "  files_for_class = get_files_per_class(files)\n",
        "\n",
        "  classes = list(files_for_class.keys())[:num_classes]\n",
        "\n",
        "  for cls in classes:\n",
        "    new_files_for_class = files_for_class[cls]\n",
        "    random.shuffle(new_files_for_class)\n",
        "    files_for_class[cls] = new_files_for_class\n",
        "\n",
        "  # Only use the number of classes you want in the dictionary\n",
        "  files_for_class = {x: files_for_class[x] for x in list(files_for_class)[:num_classes]}\n",
        "\n",
        "  dirs = {}\n",
        "  for split_name, split_count in splits.items():\n",
        "    print(split_name, \":\")\n",
        "    split_dir = download_dir / split_name\n",
        "    split_files, files_for_class = split_class_lists(files_for_class, split_count)\n",
        "    download_from_zip(zip_url, split_dir, split_files)\n",
        "    dirs[split_name] = split_dir\n",
        "\n",
        "  return dirs"
      ]
    },
    {
      "cell_type": "code",
      "execution_count": 10,
      "metadata": {
        "colab": {
          "base_uri": "https://localhost:8080/"
        },
        "id": "k6fLNjT_lGBl",
        "outputId": "f54b57af-de63-49ec-c5ef-c1a4d0ca9d56"
      },
      "outputs": [
        {
          "output_type": "stream",
          "name": "stdout",
          "text": [
            "train :\n"
          ]
        },
        {
          "output_type": "stream",
          "name": "stderr",
          "text": [
            "100%|██████████| 300/300 [06:29<00:00,  1.30s/it]\n"
          ]
        },
        {
          "output_type": "stream",
          "name": "stdout",
          "text": [
            "val :\n"
          ]
        },
        {
          "output_type": "stream",
          "name": "stderr",
          "text": [
            "100%|██████████| 100/100 [02:00<00:00,  1.20s/it]\n"
          ]
        },
        {
          "output_type": "stream",
          "name": "stdout",
          "text": [
            "test :\n"
          ]
        },
        {
          "output_type": "stream",
          "name": "stderr",
          "text": [
            "100%|██████████| 100/100 [02:30<00:00,  1.51s/it]\n"
          ]
        }
      ],
      "source": [
        "download_dir = pathlib.Path('./UCF101_subset/')\n",
        "subset_paths = download_ufc_101_subset(URL,\n",
        "                        num_classes = 10,\n",
        "                        splits = {\"train\": 30, \"val\": 10, \"test\": 10},\n",
        "                        download_dir = download_dir)"
      ]
    },
    {
      "cell_type": "code",
      "execution_count": null,
      "metadata": {
        "id": "Q6z6qT4W7nUC"
      },
      "outputs": [],
      "source": [
        "subset_paths ={\n",
        "  \"train\": pathlib.PosixPath('./UCF101_subset/train'),\n",
        "  \"val\": pathlib.PosixPath('./UCF101_subset/val'),\n",
        "  \"test\": pathlib.PosixPath('./UCF101_subset/test')\n",
        "}"
      ]
    },
    {
      "cell_type": "code",
      "execution_count": null,
      "metadata": {
        "colab": {
          "base_uri": "https://localhost:8080/"
        },
        "id": "CQXJ_2aJlI0d",
        "outputId": "246de6db-949c-466c-f0c5-47dfba36e682"
      },
      "outputs": [
        {
          "output_type": "stream",
          "name": "stdout",
          "text": [
            "Total videos: 750\n"
          ]
        }
      ],
      "source": [
        "download_dir = pathlib.Path('/content/UCF101_subset/')\n",
        "video_count_train = len(list(download_dir.glob('train/*/*.avi')))\n",
        "video_count_val = len(list(download_dir.glob('val/*/*.avi')))\n",
        "video_count_test = len(list(download_dir.glob('test/*/*.avi')))\n",
        "video_total = video_count_train + video_count_val + video_count_test\n",
        "print(f\"Total videos: {video_total}\")"
      ]
    },
    {
      "cell_type": "code",
      "execution_count": null,
      "metadata": {
        "colab": {
          "base_uri": "https://localhost:8080/"
        },
        "id": "qhMAPbTZlLQ0",
        "outputId": "291bbcc7-0951-4944-f4de-1aa054ef85f2"
      },
      "outputs": [
        {
          "name": "stdout",
          "output_type": "stream",
          "text": [
            "find: ‘/content/drive/MyDrive/Thesis/UCF101_subset’: No such file or directory\n"
          ]
        }
      ],
      "source": [
        "!find /content/drive/MyDrive/Thesis/UCF101_subset"
      ]
    },
    {
      "cell_type": "code",
      "execution_count": 11,
      "metadata": {
        "id": "6Sp9OovelOxQ"
      },
      "outputs": [],
      "source": [
        "def format_frame(frame, output_size):\n",
        " frame = tf.image.convert_image_dtype(frame, tf.float32)\n",
        " frame = tf.image.resize_with_pad(frame, *output_size)\n",
        " return frame"
      ]
    },
    {
      "cell_type": "code",
      "execution_count": 12,
      "metadata": {
        "id": "Z5NUK_SclRLy"
      },
      "outputs": [],
      "source": [
        "def frames_from_video_file(video_path, n_frames, output_size = (224,224), frame_step = 15):\n",
        "\n",
        "  result = []\n",
        "  src = cv2.VideoCapture(str(video_path))\n",
        "\n",
        "  video_length = src.get(cv2.CAP_PROP_FRAME_COUNT)\n",
        "\n",
        "  need_length = 1 + (n_frames - 1) * frame_step\n",
        "\n",
        "  if need_length > video_length:\n",
        "    start = 0\n",
        "  else:\n",
        "    max_start = video_length - need_length\n",
        "    start = random.randint(0, max_start + 1)\n",
        "\n",
        "  src.set(cv2.CAP_PROP_POS_FRAMES, start)\n",
        "  # ret is a boolean indicating whether read was successful, frame is the image itself\n",
        "  ret, frame = src.read()\n",
        "  result.append(format_frame(frame, output_size))\n",
        "\n",
        "  for _ in range(n_frames - 1):\n",
        "    for _ in range(frame_step):\n",
        "      ret, frame = src.read()\n",
        "    if ret:\n",
        "      frame = format_frame(frame, output_size)\n",
        "      result.append(frame)\n",
        "    else:\n",
        "      result.append(np.zeros_like(result[0]))\n",
        "  src.release()\n",
        "  result = np.array(result)[..., [2, 1, 0]]\n",
        "\n",
        "  return result"
      ]
    },
    {
      "cell_type": "code",
      "execution_count": 32,
      "metadata": {
        "id": "oeYYFLKzlTpv"
      },
      "outputs": [],
      "source": [
        "class_ids_for_name = {}\n",
        "def generate_frames(path, n_frames, training=False):\n",
        "    class_names = sorted(set(p.name for p in path.iterdir() if p.is_dir()))\n",
        "    class_ids_for_name.update({name: idx for idx, name in enumerate(class_names)})\n",
        "\n",
        "    def get_files_and_class_names():\n",
        "        video_paths = list(path.glob('*/*.avi'))\n",
        "        classes = [p.parent.name for p in video_paths]\n",
        "        return video_paths, classes\n",
        "\n",
        "    video_paths, classes = get_files_and_class_names()\n",
        "\n",
        "    pairs = list(zip(video_paths, classes))\n",
        "\n",
        "    if training:\n",
        "        random.shuffle(pairs)\n",
        "\n",
        "    for path, name in pairs:\n",
        "        video_frames = frames_from_video_file(path, n_frames)\n",
        "        label = class_ids_for_name[name]  # Encode labels\n",
        "        yield video_frames, label"
      ]
    },
    {
      "cell_type": "code",
      "execution_count": null,
      "metadata": {
        "id": "0Vkt0eh4lWFX"
      },
      "outputs": [],
      "source": [
        "def add_data_noise(frame):\n",
        "    # Add Gaussian noise to the frame\n",
        "    noise = tf.random.normal(shape=tf.shape(frame), mean=0.0, stddev=0.1)\n",
        "    noisy_frame = frame + noise\n",
        "    return noisy_frame"
      ]
    },
    {
      "cell_type": "code",
      "execution_count": null,
      "metadata": {
        "id": "It_a-tRilYeB"
      },
      "outputs": [],
      "source": [
        "import tensorflow as tf\n",
        "\n",
        "# Define your data augmentation transformations using TensorFlow\n",
        "def apply_data_augmentation(frames, label):\n",
        "    # Create a tensor array to collect augmented frames\n",
        "    augmented_frames = tf.TensorArray(tf.float32, size=0, dynamic_size=True, clear_after_read=False)\n",
        "\n",
        "    # Loop over frames and apply augmentation\n",
        "    for frame in frames:\n",
        "        augmented_frame = apply_augmentation(frame)\n",
        "        noisy_frame = add_data_noise(augmented_frame)  # Add Gaussian noise to the frame\n",
        "        augmented_frames = augmented_frames.write(augmented_frames.size(), noisy_frame)\n",
        "\n",
        "    # Stack the augmented frames using tf.stack\n",
        "    augmented_frames_tensor = augmented_frames.stack()\n",
        "\n",
        "    # Manually calculate mean and std deviation for standardization\n",
        "    mean, variance = tf.nn.moments(augmented_frames_tensor, axes=[0, 1, 2], keepdims=True)\n",
        "    normalized_frames = (augmented_frames_tensor - mean) / tf.sqrt(variance + 1e-6)\n",
        "\n",
        "    return normalized_frames, label\n",
        "\n",
        "def apply_augmentation(frame):\n",
        "    # Resize the frame\n",
        "    resized_frame = tf.image.resize(frame, (224, 224))\n",
        "\n",
        "    # Randomly flip horizontally\n",
        "    horizontally_flipped_frame = tf.image.random_flip_left_right(resized_frame)\n",
        "\n",
        "    # Adjust color using brightness, contrast, saturation, and hue adjustments\n",
        "    adjusted_frame = tf.image.random_brightness(horizontally_flipped_frame, max_delta=0.2)\n",
        "    adjusted_frame = tf.image.random_contrast(adjusted_frame, lower=0.8, upper=1.2)\n",
        "    adjusted_frame = tf.image.random_saturation(adjusted_frame, lower=0.8, upper=1.2)\n",
        "    adjusted_frame = tf.image.random_hue(adjusted_frame, max_delta=0.1)\n",
        "\n",
        "    # Apply random rotation within [-10, 10] degrees\n",
        "    rotation_angle = tf.random.uniform(shape=(), minval=-10, maxval=10)\n",
        "    rotation_angle_radians = rotation_angle * (3.141592653589793 / 180.0)\n",
        "\n",
        "    # Apply rotation using tf.image.rot90\n",
        "    rotated_frame = tf.image.rot90(adjusted_frame, k=tf.cast(rotation_angle // 90, tf.int32))  # Rotate in 90-degree increments\n",
        "\n",
        "    # Randomly flip vertically\n",
        "    vertically_flipped_frame = tf.image.random_flip_up_down(rotated_frame)\n",
        "\n",
        "    return vertically_flipped_frame\n",
        "\n",
        "# Rest of your code...\n",
        "# Same as before...\n"
      ]
    },
    {
      "cell_type": "code",
      "execution_count": 33,
      "metadata": {
        "id": "7oyPRnaZlbTX"
      },
      "outputs": [],
      "source": [
        "n_frames = 10\n",
        "batch_size = 10\n",
        "AUTOTUNE = tf.data.AUTOTUNE\n",
        "\n",
        "output_signature = (tf.TensorSpec(shape=(None, None, None, 3), dtype=tf.float32),\n",
        "                    tf.TensorSpec(shape=(), dtype=tf.int16))\n",
        "\n",
        "# Training dataset\n",
        "train_ds = tf.data.Dataset.from_generator(\n",
        "    lambda: generate_frames(subset_paths['train'], n_frames, training=True),\n",
        "    output_signature=output_signature)\n",
        "\n",
        "train_ds = train_ds.cache().shuffle(1000).prefetch(buffer_size = AUTOTUNE)\n",
        "train_ds = train_ds.batch(batch_size)\n",
        "\n",
        "# Validation dataset\n",
        "val_ds = tf.data.Dataset.from_generator(\n",
        "    lambda: generate_frames(subset_paths['val'], n_frames),\n",
        "    output_signature=output_signature)\n",
        "\n",
        "val_ds = val_ds.cache().shuffle(1000).prefetch(buffer_size = AUTOTUNE)\n",
        "val_ds = val_ds.batch(batch_size)\n",
        "\n",
        "# Test dataset\n",
        "test_ds = tf.data.Dataset.from_generator(\n",
        "    lambda: generate_frames(subset_paths['test'], n_frames),\n",
        "    output_signature=output_signature)\n",
        "\n",
        "test_ds = test_ds.batch(batch_size)\n"
      ]
    },
    {
      "cell_type": "code",
      "execution_count": null,
      "metadata": {
        "colab": {
          "base_uri": "https://localhost:8080/"
        },
        "id": "pC2Nyt3Xld1J",
        "outputId": "7900e4b2-03ac-46f7-bebe-ce24ceba08fa"
      },
      "outputs": [
        {
          "name": "stdout",
          "output_type": "stream",
          "text": [
            "Shape of training set of frames: (8, 15, 224, 224, 3)\n",
            "Shape of training labels: (8,)\n",
            "Shape of validation set of frames: (8, 15, 224, 224, 3)\n",
            "Shape of validation labels: (8,)\n"
          ]
        }
      ],
      "source": [
        "train_frames, train_labels = next(iter(train_ds))\n",
        "print(f'Shape of training set of frames: {train_frames.shape}')\n",
        "print(f'Shape of training labels: {train_labels.shape}')\n",
        "\n",
        "val_frames, val_labels = next(iter(val_ds))\n",
        "print(f'Shape of validation set of frames: {val_frames.shape}')\n",
        "print(f'Shape of validation labels: {val_labels.shape}')"
      ]
    },
    {
      "cell_type": "code",
      "execution_count": 15,
      "metadata": {
        "id": "_4-G0OFIlgKd"
      },
      "outputs": [],
      "source": [
        "HEIGHT = 224\n",
        "WIDTH = 224"
      ]
    },
    {
      "cell_type": "code",
      "execution_count": 16,
      "metadata": {
        "id": "a35s989GliO5"
      },
      "outputs": [],
      "source": [
        "from tensorflow.keras.layers import Conv2D, Conv3D, LayerNormalization, ReLU\n",
        "\n",
        "def Conv2Plus1D(inputs, filters, kernel_size, padding):\n",
        "    spatial_conv = Conv3D(filters=filters, kernel_size=(1, kernel_size[0], kernel_size[1]), padding=padding)(inputs)\n",
        "    temporal_conv = Conv3D(filters=filters, kernel_size=(kernel_size[2], 1, 1), padding=padding)(spatial_conv)\n",
        "    return temporal_conv"
      ]
    },
    {
      "cell_type": "code",
      "execution_count": 17,
      "metadata": {
        "id": "Z-hCscFhlkeB"
      },
      "outputs": [],
      "source": [
        "#This code defines a function named ResidualMain that implements a component of a\n",
        "#residual network (ResNet) using the previously defined Conv2Plus1D function and some additional layers for normalization and activation\n",
        "\n",
        "def ResidualMain(inputs, filters, kernel_size):\n",
        "    conv2plus1d_1 = Conv2Plus1D(inputs, filters, kernel_size, padding='same')\n",
        "    norm_1 = LayerNormalization()(conv2plus1d_1)\n",
        "    relu_1 = ReLU()(norm_1)\n",
        "\n",
        "    conv2plus1d_2 = Conv2Plus1D(relu_1, filters, kernel_size, padding='same')\n",
        "    norm_2 = LayerNormalization()(conv2plus1d_2)\n",
        "\n",
        "    return norm_2"
      ]
    },
    {
      "cell_type": "code",
      "execution_count": 18,
      "metadata": {
        "id": "p2pSZguZlmby"
      },
      "outputs": [],
      "source": [
        "from tensorflow.keras.layers import Dense, LayerNormalization\n",
        "\n",
        "def Project(inputs, units):\n",
        "    dense = Dense(units)(inputs)\n",
        "    norm = LayerNormalization()(dense)\n",
        "    return norm"
      ]
    },
    {
      "cell_type": "code",
      "execution_count": 19,
      "metadata": {
        "id": "dxI4_zUtlpCP"
      },
      "outputs": [],
      "source": [
        "def add_residual_block(input, filters, kernel_size):\n",
        "  \"\"\"\n",
        "    Add residual blocks to the model. If the last dimensions of the input data\n",
        "    and filter size does not match, project it such that last dimension matches.\n",
        "  \"\"\"\n",
        "  out = ResidualMain(input,filters,\n",
        "                     kernel_size)\n",
        "\n",
        "  res = input\n",
        "  # Using the Keras functional APIs, project the last dimension of the tensor to\n",
        "  # match the new filter size\n",
        "  if out.shape[-1] != input.shape[-1]:\n",
        "    res = Project(res,out.shape[-1])\n",
        "\n",
        "  return layers.add([res, out])"
      ]
    },
    {
      "cell_type": "code",
      "execution_count": 20,
      "metadata": {
        "id": "9CTFbt_PlriN"
      },
      "outputs": [],
      "source": [
        "import einops\n",
        "from tensorflow.keras import layers, Model\n",
        "\n",
        "def ResizeVideo(video, height, width):\n",
        "    # Assume the input 'video' has shape (batch_size, num_frames, original_height, original_width, channels)\n",
        "    resized = layers.UpSampling3D(size=(1, height, width))(x)\n",
        "    # Reshape the video tensor to work with Resizing layer\n",
        "    reshaped_video = einops.rearrange(video, 'b t h w c -> (b t) h w c')\n",
        "\n",
        "    # Create a Resizing layer\n",
        "    resizing_layer = layers.Resizing(height, width)\n",
        "\n",
        "    # Apply resizing to the images in the video\n",
        "    resized_images = resizing_layer(reshaped_video)\n",
        "\n",
        "    # Restore the original video shape\n",
        "    resized_video = einops.rearrange(resized_images, '(b t) h w c -> b t h w c', t=video.shape[1])\n",
        "\n",
        "    return resized_video\n"
      ]
    },
    {
      "cell_type": "code",
      "execution_count": 21,
      "metadata": {
        "id": "T_jDuV-NluJO"
      },
      "outputs": [],
      "source": [
        "import numpy as np\n",
        "input_shape = (None, 10, HEIGHT, WIDTH, 3)\n",
        "\n",
        "# Input layer\n",
        "input_layer = layers.Input(shape=input_shape[1:])\n",
        "x = input_layer\n",
        "\n",
        "\n",
        "# Initial Conv2Plus1D layer\n",
        "x = Conv2Plus1D(x,filters=16, kernel_size=(3, 7, 7), padding='same')\n",
        "x = layers.BatchNormalization()(x)\n",
        "x = layers.ReLU()(x)\n",
        "x = ResizeVideo(x, HEIGHT // 2, WIDTH // 2)\n",
        "\n",
        "# Block 1\n",
        "x = add_residual_block(x, 16, (3, 3, 3))\n",
        "x = ResizeVideo(x, HEIGHT // 4, WIDTH // 4)\n",
        "\n",
        "# Block 2\n",
        "x = add_residual_block(x, 32, (3, 3, 3))\n",
        "x = ResizeVideo(x, HEIGHT // 8, WIDTH // 8)\n",
        "\n",
        "# Block 3\n",
        "x = add_residual_block(x, 64, (3, 3, 3))\n",
        "x = ResizeVideo(x, HEIGHT // 16, WIDTH // 16)\n",
        "\n",
        "# Block 4\n",
        "x = add_residual_block(x, 128, (3, 3, 3))\n",
        "x = ResizeVideo(x, HEIGHT // 32, WIDTH // 32)\n",
        "\n",
        "x = add_residual_block(x, 256, (3, 3, 3))\n",
        "x = ResizeVideo(x, HEIGHT // 64, WIDTH // 64)\n",
        "\n",
        "\n",
        "x = add_residual_block(x, 512, (3, 3, 3))\n",
        "# Global Average Pooling and Dense layers\n",
        "\n",
        "x = tf.keras.layers.Attention()([x, x])\n",
        "\n",
        "x = layers.GlobalAveragePooling3D()(x)\n",
        "x = layers.Flatten()(x)\n",
        "x = layers.Dense(10)(x)\n",
        "\n",
        "# Create the model\n",
        "model = Model(inputs=input_layer, outputs=x)"
      ]
    },
    {
      "cell_type": "code",
      "execution_count": null,
      "metadata": {
        "colab": {
          "base_uri": "https://localhost:8080/"
        },
        "id": "_o3mbzMu8fGF",
        "outputId": "bc2900c5-1449-4e94-b8e5-f965eba421ab"
      },
      "outputs": [
        {
          "name": "stdout",
          "output_type": "stream",
          "text": [
            "tf.Tensor([ 9  1  7 12 11  1  7  6], shape=(8,), dtype=int16)\n",
            "tf.Tensor([ 6 14  2 14  3  6 13 11], shape=(8,), dtype=int16)\n",
            "tf.Tensor([11 12  7  7 10 12  4  0], shape=(8,), dtype=int16)\n",
            "tf.Tensor([ 6 14  4 11  3  2  8  4], shape=(8,), dtype=int16)\n",
            "tf.Tensor([ 8  1 14 10  6  5  9  1], shape=(8,), dtype=int16)\n",
            "tf.Tensor([ 8  3  6  8  7 13  4  3], shape=(8,), dtype=int16)\n",
            "tf.Tensor([ 7  2  7  3 10 11  8 14], shape=(8,), dtype=int16)\n",
            "tf.Tensor([10 14  2 14  3 13  2  8], shape=(8,), dtype=int16)\n",
            "tf.Tensor([ 1  1 13  0  8 12 10  9], shape=(8,), dtype=int16)\n",
            "tf.Tensor([ 2 12  8 14  7 14 11  6], shape=(8,), dtype=int16)\n",
            "tf.Tensor([ 9 11  1 11  9 12 10 14], shape=(8,), dtype=int16)\n",
            "tf.Tensor([ 6  1  3  7 12  0 12  6], shape=(8,), dtype=int16)\n",
            "tf.Tensor([ 4  1 13 13  7  2  5  1], shape=(8,), dtype=int16)\n",
            "tf.Tensor([12  7  5  4  1  7 14  1], shape=(8,), dtype=int16)\n",
            "tf.Tensor([ 5 13  6  4  2 12  6  9], shape=(8,), dtype=int16)\n",
            "tf.Tensor([ 0  5 13  2  6 13  3 13], shape=(8,), dtype=int16)\n",
            "tf.Tensor([ 9  9 11  8  3 14  4 11], shape=(8,), dtype=int16)\n",
            "tf.Tensor([ 6 10  6  9  5  1  5 12], shape=(8,), dtype=int16)\n",
            "tf.Tensor([ 5  1 13  4  2  2  8  2], shape=(8,), dtype=int16)\n",
            "tf.Tensor([ 5 14 11  5 13  5  9  5], shape=(8,), dtype=int16)\n",
            "tf.Tensor([ 2 11  6  6  8  4  3  7], shape=(8,), dtype=int16)\n",
            "tf.Tensor([ 6  5  0  0 10 12  0 10], shape=(8,), dtype=int16)\n",
            "tf.Tensor([13  3 10 10  5  9  5  8], shape=(8,), dtype=int16)\n",
            "tf.Tensor([ 8 10  4  1  7 11 14 11], shape=(8,), dtype=int16)\n",
            "tf.Tensor([ 0 11 10 14  8  9  9  9], shape=(8,), dtype=int16)\n",
            "tf.Tensor([ 0  8  0 11 13  3  0  7], shape=(8,), dtype=int16)\n",
            "tf.Tensor([11 13  2  9  9  9 10  1], shape=(8,), dtype=int16)\n",
            "tf.Tensor([12 12 13 12  2  8  0  5], shape=(8,), dtype=int16)\n",
            "tf.Tensor([ 2 11  0  8 11  4  6  3], shape=(8,), dtype=int16)\n",
            "tf.Tensor([ 5  9 10  6  3 10  5  0], shape=(8,), dtype=int16)\n",
            "tf.Tensor([ 1  2 13  9  3 13  0  6], shape=(8,), dtype=int16)\n",
            "tf.Tensor([14 13  4  6  7  3  7  4], shape=(8,), dtype=int16)\n",
            "tf.Tensor([ 7  0  4  0 13  1  3 10], shape=(8,), dtype=int16)\n",
            "tf.Tensor([ 6  5  0  4  4 13  2  0], shape=(8,), dtype=int16)\n",
            "tf.Tensor([ 0 10  9  5  2  3  4 12], shape=(8,), dtype=int16)\n",
            "tf.Tensor([ 4 14 10  6  0 11 14  9], shape=(8,), dtype=int16)\n",
            "tf.Tensor([13 14  8 14 10  3  1 11], shape=(8,), dtype=int16)\n",
            "tf.Tensor([14  0  6  3  2  1  3  9], shape=(8,), dtype=int16)\n",
            "tf.Tensor([ 0  7  8 11  9 11  5 11], shape=(8,), dtype=int16)\n",
            "tf.Tensor([ 0  1  6 12  6  5  4  5], shape=(8,), dtype=int16)\n",
            "tf.Tensor([12 12  3  4  6  9 14 14], shape=(8,), dtype=int16)\n",
            "tf.Tensor([ 7 12  1  7 11 13  7  0], shape=(8,), dtype=int16)\n",
            "tf.Tensor([10  2  3  4 14  7  8 11], shape=(8,), dtype=int16)\n",
            "tf.Tensor([ 8 10  2  8  1 10  8  1], shape=(8,), dtype=int16)\n",
            "tf.Tensor([ 2 13 10  9  4 12  5  4], shape=(8,), dtype=int16)\n",
            "tf.Tensor([ 4  0  5  8 11 10  3  3], shape=(8,), dtype=int16)\n",
            "tf.Tensor([12  5 12 14  4 11  9  3], shape=(8,), dtype=int16)\n",
            "tf.Tensor([ 0 13  7  8  6  3 12 11], shape=(8,), dtype=int16)\n",
            "tf.Tensor([ 2  2  5  3 10  8  1  1], shape=(8,), dtype=int16)\n",
            "tf.Tensor([11 14 14  8  3  1  8  4], shape=(8,), dtype=int16)\n",
            "tf.Tensor([ 3  0  6 10  8  2  4 12], shape=(8,), dtype=int16)\n",
            "tf.Tensor([ 7  2 13  7  1  9 10  5], shape=(8,), dtype=int16)\n",
            "tf.Tensor([ 7  4  2  8 12  2  6 13], shape=(8,), dtype=int16)\n",
            "tf.Tensor([ 7  9  5 12 12  9 12  4], shape=(8,), dtype=int16)\n",
            "tf.Tensor([14  5 13  1 10 14  0  0], shape=(8,), dtype=int16)\n",
            "tf.Tensor([13 13  7 12  2 10  7  1], shape=(8,), dtype=int16)\n",
            "tf.Tensor([ 9 14], shape=(2,), dtype=int16)\n"
          ]
        }
      ],
      "source": [
        "for frames, label in train_ds:\n",
        "    print(label)"
      ]
    },
    {
      "cell_type": "code",
      "execution_count": 22,
      "metadata": {
        "id": "rSQdu5KKlw-U"
      },
      "outputs": [],
      "source": [
        "frames, label = next(iter(train_ds))\n",
        "model.build(frames)"
      ]
    },
    {
      "cell_type": "code",
      "source": [
        "model.compile(loss = keras.losses.SparseCategoricalCrossentropy(from_logits=True),\n",
        "              optimizer = keras.optimizers.Adam(learning_rate = 0.0001),\n",
        "              metrics = ['accuracy'])"
      ],
      "metadata": {
        "id": "lHy13smDv6hQ"
      },
      "execution_count": 23,
      "outputs": []
    },
    {
      "cell_type": "code",
      "execution_count": null,
      "metadata": {
        "id": "B9GIHo3xiyc_"
      },
      "outputs": [],
      "source": [
        "# model.save('3D_CNN_model.h5')  # Save the model architecture and weights"
      ]
    },
    {
      "cell_type": "code",
      "execution_count": null,
      "metadata": {
        "id": "7d8hxH51i3Bv"
      },
      "outputs": [],
      "source": [
        "# from tensorflow.keras.models import load_model\n",
        "# # loaded_model = load_model('3D_CNN_model.h5')"
      ]
    },
    {
      "cell_type": "code",
      "source": [
        "# print(\"Loaded model output shape:\", loaded_model_output.shape)"
      ],
      "metadata": {
        "colab": {
          "base_uri": "https://localhost:8080/"
        },
        "id": "J1ShJBZ290U-",
        "outputId": "e9ba5206-df5a-49f7-ab80-b141d33813f0"
      },
      "execution_count": null,
      "outputs": [
        {
          "output_type": "stream",
          "name": "stdout",
          "text": [
            "Loaded model output shape: (None, 128)\n"
          ]
        }
      ]
    },
    {
      "cell_type": "code",
      "source": [
        "# num_classes = 15\n",
        "# loaded_model_output = loaded_model.layers[-2].output\n",
        "# # transfer_input = layers.Dense(num_classes, activation='softmax')(loaded_model.layers[-2].output)\n",
        "# # x = transfer_input\n",
        "\n",
        "# # reshaped_output = layers.Reshape((10, HEIGHT, WIDTH, 3))(x)  # Assuming HEIGHT and WIDTH are defined\n",
        "# # reshaped_output = layers.RepeatVector(10)(reshaped_output)\n",
        "# reshaped_output = tf.reshape(loaded_model_output, (-1, 10, HEIGHT, WIDTH, 128))\n",
        "\n",
        "# # Add more layers for transfer learning\n",
        "# x = Conv2Plus1D(reshaped_output, filters=128, kernel_size=(3, 3, 3), padding='same')\n",
        "# x = layers.BatchNormalization()(x)\n",
        "# x = layers.ReLU()(x)\n",
        "# x = ResizeVideo(x, HEIGHT // 2, WIDTH // 2)\n",
        "# x = add_residual_block(x, 64, (3, 3, 3))\n",
        "# x = ResizeVideo(x, HEIGHT // 16, WIDTH // 16)\n",
        "# x = add_residual_block(x, 128, (3, 3, 3))\n",
        "# x = layers.GlobalAveragePooling3D()(x)\n",
        "# x = Dense(128, activation='relu')(x)\n",
        "# x = layers.Dense(num_classes, activation='softmax')(x)\n",
        "# new_model = Model(inputs=loaded_model.input, outputs=x)"
      ],
      "metadata": {
        "id": "UuTdqPXoqVfK"
      },
      "execution_count": null,
      "outputs": []
    },
    {
      "cell_type": "code",
      "source": [
        "# num_classes = 15\n",
        "# loaded_model_output = loaded_model.layers[-2].output\n",
        "# #x = Dense(10 * HEIGHT * WIDTH * 3, activation='relu')(loaded_model_output)  # Additional layer\n",
        "# reshaped_output = layers.reshape( (-1, 10, HEIGHT, WIDTH, 3))(loaded_model_output)\n",
        "# # Add your custom layers here\n",
        "# x = Conv2Plus1D(reshaped_output, filters=128, kernel_size=(3, 3, 3), padding='same')\n",
        "# x = layers.BatchNormalization()(x)\n",
        "# x = layers.ReLU()(x)\n",
        "# x = ResizeVideo(x, HEIGHT // 2, WIDTH // 2)\n",
        "# x = add_residual_block(x, 64, (3, 3, 3))\n",
        "# x = ResizeVideo(x, HEIGHT // 16, WIDTH // 16)\n",
        "# x = add_residual_block(x, 128, (3, 3, 3))\n",
        "\n",
        "# # Continue building the new model\n",
        "# x = layers.GlobalAveragePooling3D()(x)\n",
        "# x = Dense(128, activation='relu')(x)\n",
        "# x = layers.Dense(num_classes, activation='softmax')(x)\n",
        "# new_model = Model(inputs=loaded_model.input, outputs=x)"
      ],
      "metadata": {
        "id": "jrTUfZ3e_DTd"
      },
      "execution_count": null,
      "outputs": []
    },
    {
      "cell_type": "code",
      "execution_count": null,
      "metadata": {
        "id": "5txMjVSDlzIq"
      },
      "outputs": [],
      "source": [
        "# loaded_model.compile(loss = keras.losses.SparseCategoricalCrossentropy(from_logits=True),\n",
        "#               optimizer = keras.optimizers.Adam(learning_rate = 0.0001),\n",
        "#               metrics = ['accuracy'])\n",
        "model.compile(loss='categorical_crossentropy',\n",
        "                       optimizer=keras.optimizers.Adam(learning_rate=0.0001/10),\n",
        "                       metrics=['accuracy'])"
      ]
    },
    {
      "cell_type": "code",
      "source": [
        "# train_ds_encoded = train_ds.map(lambda x, y: (x, tf.one_hot(tf.cast(y, tf.int32), num_classes)))\n",
        "\n",
        "# # One-hot encode the labels in the validation dataset\n",
        "# val_ds_encoded = val_ds.map(lambda x, y: (x, tf.one_hot(tf.cast(y, tf.int32), num_classes)))\n",
        "\n",
        "# # One-hot encode the labels in the test dataset\n",
        "# test_ds_encoded = test_ds.map(lambda x, y: (x, tf.one_hot(tf.cast(y, tf.int32), num_classes)))"
      ],
      "metadata": {
        "id": "okrPs-EAqD00"
      },
      "execution_count": null,
      "outputs": []
    },
    {
      "cell_type": "code",
      "execution_count": null,
      "metadata": {
        "colab": {
          "base_uri": "https://localhost:8080/"
        },
        "id": "QB-Ho_hs0Qn0",
        "outputId": "e9020ae8-af44-4cfd-f716-2a0034b36bdb"
      },
      "outputs": [
        {
          "output_type": "stream",
          "name": "stdout",
          "text": [
            "Model: \"model_3\"\n",
            "__________________________________________________________________________________________________\n",
            " Layer (type)                   Output Shape         Param #     Connected to                     \n",
            "==================================================================================================\n",
            " input_1 (InputLayer)           [(None, 15, 224, 22  0           []                               \n",
            "                                4, 3)]                                                            \n",
            "                                                                                                  \n",
            " conv3d (Conv3D)                (None, 15, 224, 224  1024        ['input_1[0][0]']                \n",
            "                                , 16)                                                             \n",
            "                                                                                                  \n",
            " conv3d_1 (Conv3D)              (None, 15, 224, 224  1808        ['conv3d[0][0]']                 \n",
            "                                , 16)                                                             \n",
            "                                                                                                  \n",
            " batch_normalization (BatchNorm  (None, 15, 224, 224  64         ['conv3d_1[0][0]']               \n",
            " alization)                     , 16)                                                             \n",
            "                                                                                                  \n",
            " re_lu (ReLU)                   (None, 15, 224, 224  0           ['batch_normalization[0][0]']    \n",
            "                                , 16)                                                             \n",
            "                                                                                                  \n",
            " tf.compat.v1.shape (TFOpLambda  (5,)                0           ['re_lu[0][0]']                  \n",
            " )                                                                                                \n",
            "                                                                                                  \n",
            " tf.__operators__.getitem (Slic  ()                  0           ['tf.compat.v1.shape[0][0]']     \n",
            " ingOpLambda)                                                                                     \n",
            "                                                                                                  \n",
            " tf.__operators__.getitem_1 (Sl  ()                  0           ['tf.compat.v1.shape[0][0]']     \n",
            " icingOpLambda)                                                                                   \n",
            "                                                                                                  \n",
            " tf.__operators__.getitem_2 (Sl  ()                  0           ['tf.compat.v1.shape[0][0]']     \n",
            " icingOpLambda)                                                                                   \n",
            "                                                                                                  \n",
            " tf.__operators__.getitem_3 (Sl  ()                  0           ['tf.compat.v1.shape[0][0]']     \n",
            " icingOpLambda)                                                                                   \n",
            "                                                                                                  \n",
            " tf.__operators__.getitem_4 (Sl  ()                  0           ['tf.compat.v1.shape[0][0]']     \n",
            " icingOpLambda)                                                                                   \n",
            "                                                                                                  \n",
            " tf.compat.v1.floor_div (TFOpLa  ()                  0           ['tf.__operators__.getitem[0][0]'\n",
            " mbda)                                                           ]                                \n",
            "                                                                                                  \n",
            " tf.compat.v1.floor_div_1 (TFOp  ()                  0           ['tf.__operators__.getitem_1[0][0\n",
            " Lambda)                                                         ]']                              \n",
            "                                                                                                  \n",
            " tf.compat.v1.floor_div_2 (TFOp  ()                  0           ['tf.__operators__.getitem_2[0][0\n",
            " Lambda)                                                         ]']                              \n",
            "                                                                                                  \n",
            " tf.compat.v1.floor_div_3 (TFOp  ()                  0           ['tf.__operators__.getitem_3[0][0\n",
            " Lambda)                                                         ]']                              \n",
            "                                                                                                  \n",
            " tf.compat.v1.floor_div_4 (TFOp  ()                  0           ['tf.__operators__.getitem_4[0][0\n",
            " Lambda)                                                         ]']                              \n",
            "                                                                                                  \n",
            " tf.reshape (TFOpLambda)        (None, 15, 224, 224  0           ['re_lu[0][0]',                  \n",
            "                                , 16)                             'tf.compat.v1.floor_div[0][0]', \n",
            "                                                                  'tf.compat.v1.floor_div_1[0][0]'\n",
            "                                                                 , 'tf.compat.v1.floor_div_2[0][0]\n",
            "                                                                 ',                               \n",
            "                                                                  'tf.compat.v1.floor_div_3[0][0]'\n",
            "                                                                 , 'tf.compat.v1.floor_div_4[0][0]\n",
            "                                                                 ']                               \n",
            "                                                                                                  \n",
            " tf.math.multiply (TFOpLambda)  ()                   0           ['tf.compat.v1.floor_div[0][0]'] \n",
            "                                                                                                  \n",
            " tf.compat.v1.transpose (TFOpLa  (None, 15, 224, 224  0          ['tf.reshape[0][0]']             \n",
            " mbda)                          , 16)                                                             \n",
            "                                                                                                  \n",
            " tf.math.multiply_1 (TFOpLambda  ()                  0           ['tf.math.multiply[0][0]',       \n",
            " )                                                                'tf.compat.v1.floor_div_1[0][0]'\n",
            "                                                                 ]                                \n",
            "                                                                                                  \n",
            " tf.math.multiply_2 (TFOpLambda  ()                  0           ['tf.compat.v1.floor_div_2[0][0]'\n",
            " )                                                               ]                                \n",
            "                                                                                                  \n",
            " tf.math.multiply_3 (TFOpLambda  ()                  0           ['tf.compat.v1.floor_div_3[0][0]'\n",
            " )                                                               ]                                \n",
            "                                                                                                  \n",
            " tf.math.multiply_4 (TFOpLambda  ()                  0           ['tf.compat.v1.floor_div_4[0][0]'\n",
            " )                                                               ]                                \n",
            "                                                                                                  \n",
            " tf.reshape_1 (TFOpLambda)      (None, 224, 224, 16  0           ['tf.compat.v1.transpose[0][0]', \n",
            "                                )                                 'tf.math.multiply_1[0][0]',     \n",
            "                                                                  'tf.math.multiply_2[0][0]',     \n",
            "                                                                  'tf.math.multiply_3[0][0]',     \n",
            "                                                                  'tf.math.multiply_4[0][0]']     \n",
            "                                                                                                  \n",
            " resizing (Resizing)            (None, 112, 112, 16  0           ['tf.reshape_1[0][0]']           \n",
            "                                )                                                                 \n",
            "                                                                                                  \n",
            " tf.compat.v1.shape_1 (TFOpLamb  (4,)                0           ['resizing[0][0]']               \n",
            " da)                                                                                              \n",
            "                                                                                                  \n",
            " tf.__operators__.getitem_5 (Sl  ()                  0           ['tf.compat.v1.shape_1[0][0]']   \n",
            " icingOpLambda)                                                                                   \n",
            "                                                                                                  \n",
            " tf.__operators__.getitem_6 (Sl  ()                  0           ['tf.compat.v1.shape_1[0][0]']   \n",
            " icingOpLambda)                                                                                   \n",
            "                                                                                                  \n",
            " tf.__operators__.getitem_7 (Sl  ()                  0           ['tf.compat.v1.shape_1[0][0]']   \n",
            " icingOpLambda)                                                                                   \n",
            "                                                                                                  \n",
            " tf.__operators__.getitem_8 (Sl  ()                  0           ['tf.compat.v1.shape_1[0][0]']   \n",
            " icingOpLambda)                                                                                   \n",
            "                                                                                                  \n",
            " tf.compat.v1.floor_div_5 (TFOp  ()                  0           ['tf.__operators__.getitem_5[0][0\n",
            " Lambda)                                                         ]']                              \n",
            "                                                                                                  \n",
            " tf.compat.v1.floor_div_6 (TFOp  ()                  0           ['tf.__operators__.getitem_6[0][0\n",
            " Lambda)                                                         ]']                              \n",
            "                                                                                                  \n",
            " tf.compat.v1.floor_div_7 (TFOp  ()                  0           ['tf.__operators__.getitem_7[0][0\n",
            " Lambda)                                                         ]']                              \n",
            "                                                                                                  \n",
            " tf.compat.v1.floor_div_8 (TFOp  ()                  0           ['tf.__operators__.getitem_8[0][0\n",
            " Lambda)                                                         ]']                              \n",
            "                                                                                                  \n",
            " tf.reshape_2 (TFOpLambda)      (None, 15, 112, 112  0           ['resizing[0][0]',               \n",
            "                                , 16)                             'tf.compat.v1.floor_div_5[0][0]'\n",
            "                                                                 , 'tf.compat.v1.floor_div_6[0][0]\n",
            "                                                                 ',                               \n",
            "                                                                  'tf.compat.v1.floor_div_7[0][0]'\n",
            "                                                                 , 'tf.compat.v1.floor_div_8[0][0]\n",
            "                                                                 ']                               \n",
            "                                                                                                  \n",
            " tf.compat.v1.transpose_1 (TFOp  (None, 15, 112, 112  0          ['tf.reshape_2[0][0]']           \n",
            " Lambda)                        , 16)                                                             \n",
            "                                                                                                  \n",
            " tf.math.multiply_5 (TFOpLambda  ()                  0           ['tf.compat.v1.floor_div_5[0][0]'\n",
            " )                                                               ]                                \n",
            "                                                                                                  \n",
            " tf.math.multiply_6 (TFOpLambda  ()                  0           ['tf.compat.v1.floor_div_6[0][0]'\n",
            " )                                                               ]                                \n",
            "                                                                                                  \n",
            " tf.math.multiply_7 (TFOpLambda  ()                  0           ['tf.compat.v1.floor_div_7[0][0]'\n",
            " )                                                               ]                                \n",
            "                                                                                                  \n",
            " tf.math.multiply_8 (TFOpLambda  ()                  0           ['tf.compat.v1.floor_div_8[0][0]'\n",
            " )                                                               ]                                \n",
            "                                                                                                  \n",
            " tf.reshape_3 (TFOpLambda)      (None, 15, 112, 112  0           ['tf.compat.v1.transpose_1[0][0]'\n",
            "                                , 16)                            , 'tf.math.multiply_5[0][0]',    \n",
            "                                                                  'tf.math.multiply_6[0][0]',     \n",
            "                                                                  'tf.math.multiply_7[0][0]',     \n",
            "                                                                  'tf.math.multiply_8[0][0]']     \n",
            "                                                                                                  \n",
            " conv3d_2 (Conv3D)              (None, 15, 112, 112  2320        ['tf.reshape_3[0][0]']           \n",
            "                                , 16)                                                             \n",
            "                                                                                                  \n",
            " conv3d_3 (Conv3D)              (None, 15, 112, 112  784         ['conv3d_2[0][0]']               \n",
            "                                , 16)                                                             \n",
            "                                                                                                  \n",
            " layer_normalization (LayerNorm  (None, 15, 112, 112  32         ['conv3d_3[0][0]']               \n",
            " alization)                     , 16)                                                             \n",
            "                                                                                                  \n",
            " re_lu_1 (ReLU)                 (None, 15, 112, 112  0           ['layer_normalization[0][0]']    \n",
            "                                , 16)                                                             \n",
            "                                                                                                  \n",
            " conv3d_4 (Conv3D)              (None, 15, 112, 112  2320        ['re_lu_1[0][0]']                \n",
            "                                , 16)                                                             \n",
            "                                                                                                  \n",
            " conv3d_5 (Conv3D)              (None, 15, 112, 112  784         ['conv3d_4[0][0]']               \n",
            "                                , 16)                                                             \n",
            "                                                                                                  \n",
            " layer_normalization_1 (LayerNo  (None, 15, 112, 112  32         ['conv3d_5[0][0]']               \n",
            " rmalization)                   , 16)                                                             \n",
            "                                                                                                  \n",
            " add (Add)                      (None, 15, 112, 112  0           ['tf.reshape_3[0][0]',           \n",
            "                                , 16)                             'layer_normalization_1[0][0]']  \n",
            "                                                                                                  \n",
            " tf.compat.v1.shape_2 (TFOpLamb  (5,)                0           ['add[0][0]']                    \n",
            " da)                                                                                              \n",
            "                                                                                                  \n",
            " tf.__operators__.getitem_9 (Sl  ()                  0           ['tf.compat.v1.shape_2[0][0]']   \n",
            " icingOpLambda)                                                                                   \n",
            "                                                                                                  \n",
            " tf.__operators__.getitem_10 (S  ()                  0           ['tf.compat.v1.shape_2[0][0]']   \n",
            " licingOpLambda)                                                                                  \n",
            "                                                                                                  \n",
            " tf.__operators__.getitem_11 (S  ()                  0           ['tf.compat.v1.shape_2[0][0]']   \n",
            " licingOpLambda)                                                                                  \n",
            "                                                                                                  \n",
            " tf.__operators__.getitem_12 (S  ()                  0           ['tf.compat.v1.shape_2[0][0]']   \n",
            " licingOpLambda)                                                                                  \n",
            "                                                                                                  \n",
            " tf.__operators__.getitem_13 (S  ()                  0           ['tf.compat.v1.shape_2[0][0]']   \n",
            " licingOpLambda)                                                                                  \n",
            "                                                                                                  \n",
            " tf.compat.v1.floor_div_9 (TFOp  ()                  0           ['tf.__operators__.getitem_9[0][0\n",
            " Lambda)                                                         ]']                              \n",
            "                                                                                                  \n",
            " tf.compat.v1.floor_div_10 (TFO  ()                  0           ['tf.__operators__.getitem_10[0][\n",
            " pLambda)                                                        0]']                             \n",
            "                                                                                                  \n",
            " tf.compat.v1.floor_div_11 (TFO  ()                  0           ['tf.__operators__.getitem_11[0][\n",
            " pLambda)                                                        0]']                             \n",
            "                                                                                                  \n",
            " tf.compat.v1.floor_div_12 (TFO  ()                  0           ['tf.__operators__.getitem_12[0][\n",
            " pLambda)                                                        0]']                             \n",
            "                                                                                                  \n",
            " tf.compat.v1.floor_div_13 (TFO  ()                  0           ['tf.__operators__.getitem_13[0][\n",
            " pLambda)                                                        0]']                             \n",
            "                                                                                                  \n",
            " tf.reshape_4 (TFOpLambda)      (None, 15, 112, 112  0           ['add[0][0]',                    \n",
            "                                , 16)                             'tf.compat.v1.floor_div_9[0][0]'\n",
            "                                                                 , 'tf.compat.v1.floor_div_10[0][0\n",
            "                                                                 ]',                              \n",
            "                                                                  'tf.compat.v1.floor_div_11[0][0]\n",
            "                                                                 ',                               \n",
            "                                                                  'tf.compat.v1.floor_div_12[0][0]\n",
            "                                                                 ',                               \n",
            "                                                                  'tf.compat.v1.floor_div_13[0][0]\n",
            "                                                                 ']                               \n",
            "                                                                                                  \n",
            " tf.math.multiply_9 (TFOpLambda  ()                  0           ['tf.compat.v1.floor_div_9[0][0]'\n",
            " )                                                               ]                                \n",
            "                                                                                                  \n",
            " tf.compat.v1.transpose_2 (TFOp  (None, 15, 112, 112  0          ['tf.reshape_4[0][0]']           \n",
            " Lambda)                        , 16)                                                             \n",
            "                                                                                                  \n",
            " tf.math.multiply_10 (TFOpLambd  ()                  0           ['tf.math.multiply_9[0][0]',     \n",
            " a)                                                               'tf.compat.v1.floor_div_10[0][0]\n",
            "                                                                 ']                               \n",
            "                                                                                                  \n",
            " tf.math.multiply_11 (TFOpLambd  ()                  0           ['tf.compat.v1.floor_div_11[0][0]\n",
            " a)                                                              ']                               \n",
            "                                                                                                  \n",
            " tf.math.multiply_12 (TFOpLambd  ()                  0           ['tf.compat.v1.floor_div_12[0][0]\n",
            " a)                                                              ']                               \n",
            "                                                                                                  \n",
            " tf.math.multiply_13 (TFOpLambd  ()                  0           ['tf.compat.v1.floor_div_13[0][0]\n",
            " a)                                                              ']                               \n",
            "                                                                                                  \n",
            " tf.reshape_5 (TFOpLambda)      (None, 112, 112, 16  0           ['tf.compat.v1.transpose_2[0][0]'\n",
            "                                )                                , 'tf.math.multiply_10[0][0]',   \n",
            "                                                                  'tf.math.multiply_11[0][0]',    \n",
            "                                                                  'tf.math.multiply_12[0][0]',    \n",
            "                                                                  'tf.math.multiply_13[0][0]']    \n",
            "                                                                                                  \n",
            " resizing_1 (Resizing)          (None, 56, 56, 16)   0           ['tf.reshape_5[0][0]']           \n",
            "                                                                                                  \n",
            " tf.compat.v1.shape_3 (TFOpLamb  (4,)                0           ['resizing_1[0][0]']             \n",
            " da)                                                                                              \n",
            "                                                                                                  \n",
            " tf.__operators__.getitem_14 (S  ()                  0           ['tf.compat.v1.shape_3[0][0]']   \n",
            " licingOpLambda)                                                                                  \n",
            "                                                                                                  \n",
            " tf.__operators__.getitem_15 (S  ()                  0           ['tf.compat.v1.shape_3[0][0]']   \n",
            " licingOpLambda)                                                                                  \n",
            "                                                                                                  \n",
            " tf.__operators__.getitem_16 (S  ()                  0           ['tf.compat.v1.shape_3[0][0]']   \n",
            " licingOpLambda)                                                                                  \n",
            "                                                                                                  \n",
            " tf.__operators__.getitem_17 (S  ()                  0           ['tf.compat.v1.shape_3[0][0]']   \n",
            " licingOpLambda)                                                                                  \n",
            "                                                                                                  \n",
            " tf.compat.v1.floor_div_14 (TFO  ()                  0           ['tf.__operators__.getitem_14[0][\n",
            " pLambda)                                                        0]']                             \n",
            "                                                                                                  \n",
            " tf.compat.v1.floor_div_15 (TFO  ()                  0           ['tf.__operators__.getitem_15[0][\n",
            " pLambda)                                                        0]']                             \n",
            "                                                                                                  \n",
            " tf.compat.v1.floor_div_16 (TFO  ()                  0           ['tf.__operators__.getitem_16[0][\n",
            " pLambda)                                                        0]']                             \n",
            "                                                                                                  \n",
            " tf.compat.v1.floor_div_17 (TFO  ()                  0           ['tf.__operators__.getitem_17[0][\n",
            " pLambda)                                                        0]']                             \n",
            "                                                                                                  \n",
            " tf.reshape_6 (TFOpLambda)      (None, 15, 56, 56,   0           ['resizing_1[0][0]',             \n",
            "                                16)                               'tf.compat.v1.floor_div_14[0][0]\n",
            "                                                                 ',                               \n",
            "                                                                  'tf.compat.v1.floor_div_15[0][0]\n",
            "                                                                 ',                               \n",
            "                                                                  'tf.compat.v1.floor_div_16[0][0]\n",
            "                                                                 ',                               \n",
            "                                                                  'tf.compat.v1.floor_div_17[0][0]\n",
            "                                                                 ']                               \n",
            "                                                                                                  \n",
            " tf.compat.v1.transpose_3 (TFOp  (None, 15, 56, 56,   0          ['tf.reshape_6[0][0]']           \n",
            " Lambda)                        16)                                                               \n",
            "                                                                                                  \n",
            " tf.math.multiply_14 (TFOpLambd  ()                  0           ['tf.compat.v1.floor_div_14[0][0]\n",
            " a)                                                              ']                               \n",
            "                                                                                                  \n",
            " tf.math.multiply_15 (TFOpLambd  ()                  0           ['tf.compat.v1.floor_div_15[0][0]\n",
            " a)                                                              ']                               \n",
            "                                                                                                  \n",
            " tf.math.multiply_16 (TFOpLambd  ()                  0           ['tf.compat.v1.floor_div_16[0][0]\n",
            " a)                                                              ']                               \n",
            "                                                                                                  \n",
            " tf.math.multiply_17 (TFOpLambd  ()                  0           ['tf.compat.v1.floor_div_17[0][0]\n",
            " a)                                                              ']                               \n",
            "                                                                                                  \n",
            " tf.reshape_7 (TFOpLambda)      (None, 15, 56, 56,   0           ['tf.compat.v1.transpose_3[0][0]'\n",
            "                                16)                              , 'tf.math.multiply_14[0][0]',   \n",
            "                                                                  'tf.math.multiply_15[0][0]',    \n",
            "                                                                  'tf.math.multiply_16[0][0]',    \n",
            "                                                                  'tf.math.multiply_17[0][0]']    \n",
            "                                                                                                  \n",
            " conv3d_6 (Conv3D)              (None, 15, 56, 56,   4640        ['tf.reshape_7[0][0]']           \n",
            "                                32)                                                               \n",
            "                                                                                                  \n",
            " conv3d_7 (Conv3D)              (None, 15, 56, 56,   3104        ['conv3d_6[0][0]']               \n",
            "                                32)                                                               \n",
            "                                                                                                  \n",
            " layer_normalization_2 (LayerNo  (None, 15, 56, 56,   64         ['conv3d_7[0][0]']               \n",
            " rmalization)                   32)                                                               \n",
            "                                                                                                  \n",
            " re_lu_2 (ReLU)                 (None, 15, 56, 56,   0           ['layer_normalization_2[0][0]']  \n",
            "                                32)                                                               \n",
            "                                                                                                  \n",
            " conv3d_8 (Conv3D)              (None, 15, 56, 56,   9248        ['re_lu_2[0][0]']                \n",
            "                                32)                                                               \n",
            "                                                                                                  \n",
            " dense (Dense)                  (None, 15, 56, 56,   544         ['tf.reshape_7[0][0]']           \n",
            "                                32)                                                               \n",
            "                                                                                                  \n",
            " conv3d_9 (Conv3D)              (None, 15, 56, 56,   3104        ['conv3d_8[0][0]']               \n",
            "                                32)                                                               \n",
            "                                                                                                  \n",
            " layer_normalization_4 (LayerNo  (None, 15, 56, 56,   64         ['dense[0][0]']                  \n",
            " rmalization)                   32)                                                               \n",
            "                                                                                                  \n",
            " layer_normalization_3 (LayerNo  (None, 15, 56, 56,   64         ['conv3d_9[0][0]']               \n",
            " rmalization)                   32)                                                               \n",
            "                                                                                                  \n",
            " add_1 (Add)                    (None, 15, 56, 56,   0           ['layer_normalization_4[0][0]',  \n",
            "                                32)                               'layer_normalization_3[0][0]']  \n",
            "                                                                                                  \n",
            " tf.compat.v1.shape_4 (TFOpLamb  (5,)                0           ['add_1[0][0]']                  \n",
            " da)                                                                                              \n",
            "                                                                                                  \n",
            " tf.__operators__.getitem_18 (S  ()                  0           ['tf.compat.v1.shape_4[0][0]']   \n",
            " licingOpLambda)                                                                                  \n",
            "                                                                                                  \n",
            " tf.__operators__.getitem_19 (S  ()                  0           ['tf.compat.v1.shape_4[0][0]']   \n",
            " licingOpLambda)                                                                                  \n",
            "                                                                                                  \n",
            " tf.__operators__.getitem_20 (S  ()                  0           ['tf.compat.v1.shape_4[0][0]']   \n",
            " licingOpLambda)                                                                                  \n",
            "                                                                                                  \n",
            " tf.__operators__.getitem_21 (S  ()                  0           ['tf.compat.v1.shape_4[0][0]']   \n",
            " licingOpLambda)                                                                                  \n",
            "                                                                                                  \n",
            " tf.__operators__.getitem_22 (S  ()                  0           ['tf.compat.v1.shape_4[0][0]']   \n",
            " licingOpLambda)                                                                                  \n",
            "                                                                                                  \n",
            " tf.compat.v1.floor_div_18 (TFO  ()                  0           ['tf.__operators__.getitem_18[0][\n",
            " pLambda)                                                        0]']                             \n",
            "                                                                                                  \n",
            " tf.compat.v1.floor_div_19 (TFO  ()                  0           ['tf.__operators__.getitem_19[0][\n",
            " pLambda)                                                        0]']                             \n",
            "                                                                                                  \n",
            " tf.compat.v1.floor_div_20 (TFO  ()                  0           ['tf.__operators__.getitem_20[0][\n",
            " pLambda)                                                        0]']                             \n",
            "                                                                                                  \n",
            " tf.compat.v1.floor_div_21 (TFO  ()                  0           ['tf.__operators__.getitem_21[0][\n",
            " pLambda)                                                        0]']                             \n",
            "                                                                                                  \n",
            " tf.compat.v1.floor_div_22 (TFO  ()                  0           ['tf.__operators__.getitem_22[0][\n",
            " pLambda)                                                        0]']                             \n",
            "                                                                                                  \n",
            " tf.reshape_8 (TFOpLambda)      (None, 15, 56, 56,   0           ['add_1[0][0]',                  \n",
            "                                32)                               'tf.compat.v1.floor_div_18[0][0]\n",
            "                                                                 ',                               \n",
            "                                                                  'tf.compat.v1.floor_div_19[0][0]\n",
            "                                                                 ',                               \n",
            "                                                                  'tf.compat.v1.floor_div_20[0][0]\n",
            "                                                                 ',                               \n",
            "                                                                  'tf.compat.v1.floor_div_21[0][0]\n",
            "                                                                 ',                               \n",
            "                                                                  'tf.compat.v1.floor_div_22[0][0]\n",
            "                                                                 ']                               \n",
            "                                                                                                  \n",
            " tf.math.multiply_18 (TFOpLambd  ()                  0           ['tf.compat.v1.floor_div_18[0][0]\n",
            " a)                                                              ']                               \n",
            "                                                                                                  \n",
            " tf.compat.v1.transpose_4 (TFOp  (None, 15, 56, 56,   0          ['tf.reshape_8[0][0]']           \n",
            " Lambda)                        32)                                                               \n",
            "                                                                                                  \n",
            " tf.math.multiply_19 (TFOpLambd  ()                  0           ['tf.math.multiply_18[0][0]',    \n",
            " a)                                                               'tf.compat.v1.floor_div_19[0][0]\n",
            "                                                                 ']                               \n",
            "                                                                                                  \n",
            " tf.math.multiply_20 (TFOpLambd  ()                  0           ['tf.compat.v1.floor_div_20[0][0]\n",
            " a)                                                              ']                               \n",
            "                                                                                                  \n",
            " tf.math.multiply_21 (TFOpLambd  ()                  0           ['tf.compat.v1.floor_div_21[0][0]\n",
            " a)                                                              ']                               \n",
            "                                                                                                  \n",
            " tf.math.multiply_22 (TFOpLambd  ()                  0           ['tf.compat.v1.floor_div_22[0][0]\n",
            " a)                                                              ']                               \n",
            "                                                                                                  \n",
            " tf.reshape_9 (TFOpLambda)      (None, 56, 56, 32)   0           ['tf.compat.v1.transpose_4[0][0]'\n",
            "                                                                 , 'tf.math.multiply_19[0][0]',   \n",
            "                                                                  'tf.math.multiply_20[0][0]',    \n",
            "                                                                  'tf.math.multiply_21[0][0]',    \n",
            "                                                                  'tf.math.multiply_22[0][0]']    \n",
            "                                                                                                  \n",
            " resizing_2 (Resizing)          (None, 28, 28, 32)   0           ['tf.reshape_9[0][0]']           \n",
            "                                                                                                  \n",
            " tf.compat.v1.shape_5 (TFOpLamb  (4,)                0           ['resizing_2[0][0]']             \n",
            " da)                                                                                              \n",
            "                                                                                                  \n",
            " tf.__operators__.getitem_23 (S  ()                  0           ['tf.compat.v1.shape_5[0][0]']   \n",
            " licingOpLambda)                                                                                  \n",
            "                                                                                                  \n",
            " tf.__operators__.getitem_24 (S  ()                  0           ['tf.compat.v1.shape_5[0][0]']   \n",
            " licingOpLambda)                                                                                  \n",
            "                                                                                                  \n",
            " tf.__operators__.getitem_25 (S  ()                  0           ['tf.compat.v1.shape_5[0][0]']   \n",
            " licingOpLambda)                                                                                  \n",
            "                                                                                                  \n",
            " tf.__operators__.getitem_26 (S  ()                  0           ['tf.compat.v1.shape_5[0][0]']   \n",
            " licingOpLambda)                                                                                  \n",
            "                                                                                                  \n",
            " tf.compat.v1.floor_div_23 (TFO  ()                  0           ['tf.__operators__.getitem_23[0][\n",
            " pLambda)                                                        0]']                             \n",
            "                                                                                                  \n",
            " tf.compat.v1.floor_div_24 (TFO  ()                  0           ['tf.__operators__.getitem_24[0][\n",
            " pLambda)                                                        0]']                             \n",
            "                                                                                                  \n",
            " tf.compat.v1.floor_div_25 (TFO  ()                  0           ['tf.__operators__.getitem_25[0][\n",
            " pLambda)                                                        0]']                             \n",
            "                                                                                                  \n",
            " tf.compat.v1.floor_div_26 (TFO  ()                  0           ['tf.__operators__.getitem_26[0][\n",
            " pLambda)                                                        0]']                             \n",
            "                                                                                                  \n",
            " tf.reshape_10 (TFOpLambda)     (None, 15, 28, 28,   0           ['resizing_2[0][0]',             \n",
            "                                32)                               'tf.compat.v1.floor_div_23[0][0]\n",
            "                                                                 ',                               \n",
            "                                                                  'tf.compat.v1.floor_div_24[0][0]\n",
            "                                                                 ',                               \n",
            "                                                                  'tf.compat.v1.floor_div_25[0][0]\n",
            "                                                                 ',                               \n",
            "                                                                  'tf.compat.v1.floor_div_26[0][0]\n",
            "                                                                 ']                               \n",
            "                                                                                                  \n",
            " tf.compat.v1.transpose_5 (TFOp  (None, 15, 28, 28,   0          ['tf.reshape_10[0][0]']          \n",
            " Lambda)                        32)                                                               \n",
            "                                                                                                  \n",
            " tf.math.multiply_23 (TFOpLambd  ()                  0           ['tf.compat.v1.floor_div_23[0][0]\n",
            " a)                                                              ']                               \n",
            "                                                                                                  \n",
            " tf.math.multiply_24 (TFOpLambd  ()                  0           ['tf.compat.v1.floor_div_24[0][0]\n",
            " a)                                                              ']                               \n",
            "                                                                                                  \n",
            " tf.math.multiply_25 (TFOpLambd  ()                  0           ['tf.compat.v1.floor_div_25[0][0]\n",
            " a)                                                              ']                               \n",
            "                                                                                                  \n",
            " tf.math.multiply_26 (TFOpLambd  ()                  0           ['tf.compat.v1.floor_div_26[0][0]\n",
            " a)                                                              ']                               \n",
            "                                                                                                  \n",
            " tf.reshape_11 (TFOpLambda)     (None, 15, 28, 28,   0           ['tf.compat.v1.transpose_5[0][0]'\n",
            "                                32)                              , 'tf.math.multiply_23[0][0]',   \n",
            "                                                                  'tf.math.multiply_24[0][0]',    \n",
            "                                                                  'tf.math.multiply_25[0][0]',    \n",
            "                                                                  'tf.math.multiply_26[0][0]']    \n",
            "                                                                                                  \n",
            " conv3d_10 (Conv3D)             (None, 15, 28, 28,   18496       ['tf.reshape_11[0][0]']          \n",
            "                                64)                                                               \n",
            "                                                                                                  \n",
            " conv3d_11 (Conv3D)             (None, 15, 28, 28,   12352       ['conv3d_10[0][0]']              \n",
            "                                64)                                                               \n",
            "                                                                                                  \n",
            " layer_normalization_5 (LayerNo  (None, 15, 28, 28,   128        ['conv3d_11[0][0]']              \n",
            " rmalization)                   64)                                                               \n",
            "                                                                                                  \n",
            " re_lu_3 (ReLU)                 (None, 15, 28, 28,   0           ['layer_normalization_5[0][0]']  \n",
            "                                64)                                                               \n",
            "                                                                                                  \n",
            " conv3d_12 (Conv3D)             (None, 15, 28, 28,   36928       ['re_lu_3[0][0]']                \n",
            "                                64)                                                               \n",
            "                                                                                                  \n",
            " dense_1 (Dense)                (None, 15, 28, 28,   2112        ['tf.reshape_11[0][0]']          \n",
            "                                64)                                                               \n",
            "                                                                                                  \n",
            " conv3d_13 (Conv3D)             (None, 15, 28, 28,   12352       ['conv3d_12[0][0]']              \n",
            "                                64)                                                               \n",
            "                                                                                                  \n",
            " layer_normalization_7 (LayerNo  (None, 15, 28, 28,   128        ['dense_1[0][0]']                \n",
            " rmalization)                   64)                                                               \n",
            "                                                                                                  \n",
            " layer_normalization_6 (LayerNo  (None, 15, 28, 28,   128        ['conv3d_13[0][0]']              \n",
            " rmalization)                   64)                                                               \n",
            "                                                                                                  \n",
            " add_2 (Add)                    (None, 15, 28, 28,   0           ['layer_normalization_7[0][0]',  \n",
            "                                64)                               'layer_normalization_6[0][0]']  \n",
            "                                                                                                  \n",
            " tf.compat.v1.shape_6 (TFOpLamb  (5,)                0           ['add_2[0][0]']                  \n",
            " da)                                                                                              \n",
            "                                                                                                  \n",
            " tf.__operators__.getitem_27 (S  ()                  0           ['tf.compat.v1.shape_6[0][0]']   \n",
            " licingOpLambda)                                                                                  \n",
            "                                                                                                  \n",
            " tf.__operators__.getitem_28 (S  ()                  0           ['tf.compat.v1.shape_6[0][0]']   \n",
            " licingOpLambda)                                                                                  \n",
            "                                                                                                  \n",
            " tf.__operators__.getitem_29 (S  ()                  0           ['tf.compat.v1.shape_6[0][0]']   \n",
            " licingOpLambda)                                                                                  \n",
            "                                                                                                  \n",
            " tf.__operators__.getitem_30 (S  ()                  0           ['tf.compat.v1.shape_6[0][0]']   \n",
            " licingOpLambda)                                                                                  \n",
            "                                                                                                  \n",
            " tf.__operators__.getitem_31 (S  ()                  0           ['tf.compat.v1.shape_6[0][0]']   \n",
            " licingOpLambda)                                                                                  \n",
            "                                                                                                  \n",
            " tf.compat.v1.floor_div_27 (TFO  ()                  0           ['tf.__operators__.getitem_27[0][\n",
            " pLambda)                                                        0]']                             \n",
            "                                                                                                  \n",
            " tf.compat.v1.floor_div_28 (TFO  ()                  0           ['tf.__operators__.getitem_28[0][\n",
            " pLambda)                                                        0]']                             \n",
            "                                                                                                  \n",
            " tf.compat.v1.floor_div_29 (TFO  ()                  0           ['tf.__operators__.getitem_29[0][\n",
            " pLambda)                                                        0]']                             \n",
            "                                                                                                  \n",
            " tf.compat.v1.floor_div_30 (TFO  ()                  0           ['tf.__operators__.getitem_30[0][\n",
            " pLambda)                                                        0]']                             \n",
            "                                                                                                  \n",
            " tf.compat.v1.floor_div_31 (TFO  ()                  0           ['tf.__operators__.getitem_31[0][\n",
            " pLambda)                                                        0]']                             \n",
            "                                                                                                  \n",
            " tf.reshape_12 (TFOpLambda)     (None, 15, 28, 28,   0           ['add_2[0][0]',                  \n",
            "                                64)                               'tf.compat.v1.floor_div_27[0][0]\n",
            "                                                                 ',                               \n",
            "                                                                  'tf.compat.v1.floor_div_28[0][0]\n",
            "                                                                 ',                               \n",
            "                                                                  'tf.compat.v1.floor_div_29[0][0]\n",
            "                                                                 ',                               \n",
            "                                                                  'tf.compat.v1.floor_div_30[0][0]\n",
            "                                                                 ',                               \n",
            "                                                                  'tf.compat.v1.floor_div_31[0][0]\n",
            "                                                                 ']                               \n",
            "                                                                                                  \n",
            " tf.math.multiply_27 (TFOpLambd  ()                  0           ['tf.compat.v1.floor_div_27[0][0]\n",
            " a)                                                              ']                               \n",
            "                                                                                                  \n",
            " tf.compat.v1.transpose_6 (TFOp  (None, 15, 28, 28,   0          ['tf.reshape_12[0][0]']          \n",
            " Lambda)                        64)                                                               \n",
            "                                                                                                  \n",
            " tf.math.multiply_28 (TFOpLambd  ()                  0           ['tf.math.multiply_27[0][0]',    \n",
            " a)                                                               'tf.compat.v1.floor_div_28[0][0]\n",
            "                                                                 ']                               \n",
            "                                                                                                  \n",
            " tf.math.multiply_29 (TFOpLambd  ()                  0           ['tf.compat.v1.floor_div_29[0][0]\n",
            " a)                                                              ']                               \n",
            "                                                                                                  \n",
            " tf.math.multiply_30 (TFOpLambd  ()                  0           ['tf.compat.v1.floor_div_30[0][0]\n",
            " a)                                                              ']                               \n",
            "                                                                                                  \n",
            " tf.math.multiply_31 (TFOpLambd  ()                  0           ['tf.compat.v1.floor_div_31[0][0]\n",
            " a)                                                              ']                               \n",
            "                                                                                                  \n",
            " tf.reshape_13 (TFOpLambda)     (None, 28, 28, 64)   0           ['tf.compat.v1.transpose_6[0][0]'\n",
            "                                                                 , 'tf.math.multiply_28[0][0]',   \n",
            "                                                                  'tf.math.multiply_29[0][0]',    \n",
            "                                                                  'tf.math.multiply_30[0][0]',    \n",
            "                                                                  'tf.math.multiply_31[0][0]']    \n",
            "                                                                                                  \n",
            " resizing_3 (Resizing)          (None, 14, 14, 64)   0           ['tf.reshape_13[0][0]']          \n",
            "                                                                                                  \n",
            " tf.compat.v1.shape_7 (TFOpLamb  (4,)                0           ['resizing_3[0][0]']             \n",
            " da)                                                                                              \n",
            "                                                                                                  \n",
            " tf.__operators__.getitem_32 (S  ()                  0           ['tf.compat.v1.shape_7[0][0]']   \n",
            " licingOpLambda)                                                                                  \n",
            "                                                                                                  \n",
            " tf.__operators__.getitem_33 (S  ()                  0           ['tf.compat.v1.shape_7[0][0]']   \n",
            " licingOpLambda)                                                                                  \n",
            "                                                                                                  \n",
            " tf.__operators__.getitem_34 (S  ()                  0           ['tf.compat.v1.shape_7[0][0]']   \n",
            " licingOpLambda)                                                                                  \n",
            "                                                                                                  \n",
            " tf.__operators__.getitem_35 (S  ()                  0           ['tf.compat.v1.shape_7[0][0]']   \n",
            " licingOpLambda)                                                                                  \n",
            "                                                                                                  \n",
            " tf.compat.v1.floor_div_32 (TFO  ()                  0           ['tf.__operators__.getitem_32[0][\n",
            " pLambda)                                                        0]']                             \n",
            "                                                                                                  \n",
            " tf.compat.v1.floor_div_33 (TFO  ()                  0           ['tf.__operators__.getitem_33[0][\n",
            " pLambda)                                                        0]']                             \n",
            "                                                                                                  \n",
            " tf.compat.v1.floor_div_34 (TFO  ()                  0           ['tf.__operators__.getitem_34[0][\n",
            " pLambda)                                                        0]']                             \n",
            "                                                                                                  \n",
            " tf.compat.v1.floor_div_35 (TFO  ()                  0           ['tf.__operators__.getitem_35[0][\n",
            " pLambda)                                                        0]']                             \n",
            "                                                                                                  \n",
            " tf.reshape_14 (TFOpLambda)     (None, 15, 14, 14,   0           ['resizing_3[0][0]',             \n",
            "                                64)                               'tf.compat.v1.floor_div_32[0][0]\n",
            "                                                                 ',                               \n",
            "                                                                  'tf.compat.v1.floor_div_33[0][0]\n",
            "                                                                 ',                               \n",
            "                                                                  'tf.compat.v1.floor_div_34[0][0]\n",
            "                                                                 ',                               \n",
            "                                                                  'tf.compat.v1.floor_div_35[0][0]\n",
            "                                                                 ']                               \n",
            "                                                                                                  \n",
            " tf.compat.v1.transpose_7 (TFOp  (None, 15, 14, 14,   0          ['tf.reshape_14[0][0]']          \n",
            " Lambda)                        64)                                                               \n",
            "                                                                                                  \n",
            " tf.math.multiply_32 (TFOpLambd  ()                  0           ['tf.compat.v1.floor_div_32[0][0]\n",
            " a)                                                              ']                               \n",
            "                                                                                                  \n",
            " tf.math.multiply_33 (TFOpLambd  ()                  0           ['tf.compat.v1.floor_div_33[0][0]\n",
            " a)                                                              ']                               \n",
            "                                                                                                  \n",
            " tf.math.multiply_34 (TFOpLambd  ()                  0           ['tf.compat.v1.floor_div_34[0][0]\n",
            " a)                                                              ']                               \n",
            "                                                                                                  \n",
            " tf.math.multiply_35 (TFOpLambd  ()                  0           ['tf.compat.v1.floor_div_35[0][0]\n",
            " a)                                                              ']                               \n",
            "                                                                                                  \n",
            " tf.reshape_15 (TFOpLambda)     (None, 15, 14, 14,   0           ['tf.compat.v1.transpose_7[0][0]'\n",
            "                                64)                              , 'tf.math.multiply_32[0][0]',   \n",
            "                                                                  'tf.math.multiply_33[0][0]',    \n",
            "                                                                  'tf.math.multiply_34[0][0]',    \n",
            "                                                                  'tf.math.multiply_35[0][0]']    \n",
            "                                                                                                  \n",
            " conv3d_14 (Conv3D)             (None, 15, 14, 14,   73856       ['tf.reshape_15[0][0]']          \n",
            "                                128)                                                              \n",
            "                                                                                                  \n",
            " conv3d_15 (Conv3D)             (None, 15, 14, 14,   49280       ['conv3d_14[0][0]']              \n",
            "                                128)                                                              \n",
            "                                                                                                  \n",
            " layer_normalization_8 (LayerNo  (None, 15, 14, 14,   256        ['conv3d_15[0][0]']              \n",
            " rmalization)                   128)                                                              \n",
            "                                                                                                  \n",
            " re_lu_4 (ReLU)                 (None, 15, 14, 14,   0           ['layer_normalization_8[0][0]']  \n",
            "                                128)                                                              \n",
            "                                                                                                  \n",
            " conv3d_16 (Conv3D)             (None, 15, 14, 14,   147584      ['re_lu_4[0][0]']                \n",
            "                                128)                                                              \n",
            "                                                                                                  \n",
            " dense_2 (Dense)                (None, 15, 14, 14,   8320        ['tf.reshape_15[0][0]']          \n",
            "                                128)                                                              \n",
            "                                                                                                  \n",
            " conv3d_17 (Conv3D)             (None, 15, 14, 14,   49280       ['conv3d_16[0][0]']              \n",
            "                                128)                                                              \n",
            "                                                                                                  \n",
            " layer_normalization_10 (LayerN  (None, 15, 14, 14,   256        ['dense_2[0][0]']                \n",
            " ormalization)                  128)                                                              \n",
            "                                                                                                  \n",
            " layer_normalization_9 (LayerNo  (None, 15, 14, 14,   256        ['conv3d_17[0][0]']              \n",
            " rmalization)                   128)                                                              \n",
            "                                                                                                  \n",
            " add_3 (Add)                    (None, 15, 14, 14,   0           ['layer_normalization_10[0][0]', \n",
            "                                128)                              'layer_normalization_9[0][0]']  \n",
            "                                                                                                  \n",
            " global_average_pooling3d (Glob  (None, 128)         0           ['add_3[0][0]']                  \n",
            " alAveragePooling3D)                                                                              \n",
            "                                                                                                  \n",
            " flatten (Flatten)              (None, 128)          0           ['global_average_pooling3d[0][0]'\n",
            "                                                                 ]                                \n",
            "                                                                                                  \n",
            " tf.reshape_27 (TFOpLambda)     (None, 10, 224, 224  0           ['flatten[0][0]']                \n",
            "                                , 128)                                                            \n",
            "                                                                                                  \n",
            " conv3d_32 (Conv3D)             (None, 10, 224, 224  147584      ['tf.reshape_27[0][0]']          \n",
            "                                , 128)                                                            \n",
            "                                                                                                  \n",
            " conv3d_33 (Conv3D)             (None, 10, 224, 224  49280       ['conv3d_32[0][0]']              \n",
            "                                , 128)                                                            \n",
            "                                                                                                  \n",
            " batch_normalization_4 (BatchNo  (None, 10, 224, 224  512        ['conv3d_33[0][0]']              \n",
            " rmalization)                   , 128)                                                            \n",
            "                                                                                                  \n",
            " re_lu_10 (ReLU)                (None, 10, 224, 224  0           ['batch_normalization_4[0][0]']  \n",
            "                                , 128)                                                            \n",
            "                                                                                                  \n",
            " tf.compat.v1.shape_12 (TFOpLam  (5,)                0           ['re_lu_10[0][0]']               \n",
            " bda)                                                                                             \n",
            "                                                                                                  \n",
            " tf.__operators__.getitem_54 (S  ()                  0           ['tf.compat.v1.shape_12[0][0]']  \n",
            " licingOpLambda)                                                                                  \n",
            "                                                                                                  \n",
            " tf.__operators__.getitem_55 (S  ()                  0           ['tf.compat.v1.shape_12[0][0]']  \n",
            " licingOpLambda)                                                                                  \n",
            "                                                                                                  \n",
            " tf.__operators__.getitem_56 (S  ()                  0           ['tf.compat.v1.shape_12[0][0]']  \n",
            " licingOpLambda)                                                                                  \n",
            "                                                                                                  \n",
            " tf.__operators__.getitem_57 (S  ()                  0           ['tf.compat.v1.shape_12[0][0]']  \n",
            " licingOpLambda)                                                                                  \n",
            "                                                                                                  \n",
            " tf.__operators__.getitem_58 (S  ()                  0           ['tf.compat.v1.shape_12[0][0]']  \n",
            " licingOpLambda)                                                                                  \n",
            "                                                                                                  \n",
            " tf.compat.v1.floor_div_54 (TFO  ()                  0           ['tf.__operators__.getitem_54[0][\n",
            " pLambda)                                                        0]']                             \n",
            "                                                                                                  \n",
            " tf.compat.v1.floor_div_55 (TFO  ()                  0           ['tf.__operators__.getitem_55[0][\n",
            " pLambda)                                                        0]']                             \n",
            "                                                                                                  \n",
            " tf.compat.v1.floor_div_56 (TFO  ()                  0           ['tf.__operators__.getitem_56[0][\n",
            " pLambda)                                                        0]']                             \n",
            "                                                                                                  \n",
            " tf.compat.v1.floor_div_57 (TFO  ()                  0           ['tf.__operators__.getitem_57[0][\n",
            " pLambda)                                                        0]']                             \n",
            "                                                                                                  \n",
            " tf.compat.v1.floor_div_58 (TFO  ()                  0           ['tf.__operators__.getitem_58[0][\n",
            " pLambda)                                                        0]']                             \n",
            "                                                                                                  \n",
            " tf.reshape_28 (TFOpLambda)     (None, 10, 224, 224  0           ['re_lu_10[0][0]',               \n",
            "                                , 128)                            'tf.compat.v1.floor_div_54[0][0]\n",
            "                                                                 ',                               \n",
            "                                                                  'tf.compat.v1.floor_div_55[0][0]\n",
            "                                                                 ',                               \n",
            "                                                                  'tf.compat.v1.floor_div_56[0][0]\n",
            "                                                                 ',                               \n",
            "                                                                  'tf.compat.v1.floor_div_57[0][0]\n",
            "                                                                 ',                               \n",
            "                                                                  'tf.compat.v1.floor_div_58[0][0]\n",
            "                                                                 ']                               \n",
            "                                                                                                  \n",
            " tf.math.multiply_54 (TFOpLambd  ()                  0           ['tf.compat.v1.floor_div_54[0][0]\n",
            " a)                                                              ']                               \n",
            "                                                                                                  \n",
            " tf.compat.v1.transpose_12 (TFO  (None, 10, 224, 224  0          ['tf.reshape_28[0][0]']          \n",
            " pLambda)                       , 128)                                                            \n",
            "                                                                                                  \n",
            " tf.math.multiply_55 (TFOpLambd  ()                  0           ['tf.math.multiply_54[0][0]',    \n",
            " a)                                                               'tf.compat.v1.floor_div_55[0][0]\n",
            "                                                                 ']                               \n",
            "                                                                                                  \n",
            " tf.math.multiply_56 (TFOpLambd  ()                  0           ['tf.compat.v1.floor_div_56[0][0]\n",
            " a)                                                              ']                               \n",
            "                                                                                                  \n",
            " tf.math.multiply_57 (TFOpLambd  ()                  0           ['tf.compat.v1.floor_div_57[0][0]\n",
            " a)                                                              ']                               \n",
            "                                                                                                  \n",
            " tf.math.multiply_58 (TFOpLambd  ()                  0           ['tf.compat.v1.floor_div_58[0][0]\n",
            " a)                                                              ']                               \n",
            "                                                                                                  \n",
            " tf.reshape_29 (TFOpLambda)     (None, 224, 224, 12  0           ['tf.compat.v1.transpose_12[0][0]\n",
            "                                8)                               ',                               \n",
            "                                                                  'tf.math.multiply_55[0][0]',    \n",
            "                                                                  'tf.math.multiply_56[0][0]',    \n",
            "                                                                  'tf.math.multiply_57[0][0]',    \n",
            "                                                                  'tf.math.multiply_58[0][0]']    \n",
            "                                                                                                  \n",
            " resizing_6 (Resizing)          (None, 112, 112, 12  0           ['tf.reshape_29[0][0]']          \n",
            "                                8)                                                                \n",
            "                                                                                                  \n",
            " tf.compat.v1.shape_13 (TFOpLam  (4,)                0           ['resizing_6[0][0]']             \n",
            " bda)                                                                                             \n",
            "                                                                                                  \n",
            " tf.__operators__.getitem_59 (S  ()                  0           ['tf.compat.v1.shape_13[0][0]']  \n",
            " licingOpLambda)                                                                                  \n",
            "                                                                                                  \n",
            " tf.__operators__.getitem_60 (S  ()                  0           ['tf.compat.v1.shape_13[0][0]']  \n",
            " licingOpLambda)                                                                                  \n",
            "                                                                                                  \n",
            " tf.__operators__.getitem_61 (S  ()                  0           ['tf.compat.v1.shape_13[0][0]']  \n",
            " licingOpLambda)                                                                                  \n",
            "                                                                                                  \n",
            " tf.__operators__.getitem_62 (S  ()                  0           ['tf.compat.v1.shape_13[0][0]']  \n",
            " licingOpLambda)                                                                                  \n",
            "                                                                                                  \n",
            " tf.compat.v1.floor_div_59 (TFO  ()                  0           ['tf.__operators__.getitem_59[0][\n",
            " pLambda)                                                        0]']                             \n",
            "                                                                                                  \n",
            " tf.compat.v1.floor_div_60 (TFO  ()                  0           ['tf.__operators__.getitem_60[0][\n",
            " pLambda)                                                        0]']                             \n",
            "                                                                                                  \n",
            " tf.compat.v1.floor_div_61 (TFO  ()                  0           ['tf.__operators__.getitem_61[0][\n",
            " pLambda)                                                        0]']                             \n",
            "                                                                                                  \n",
            " tf.compat.v1.floor_div_62 (TFO  ()                  0           ['tf.__operators__.getitem_62[0][\n",
            " pLambda)                                                        0]']                             \n",
            "                                                                                                  \n",
            " tf.reshape_30 (TFOpLambda)     (None, 10, 112, 112  0           ['resizing_6[0][0]',             \n",
            "                                , 128)                            'tf.compat.v1.floor_div_59[0][0]\n",
            "                                                                 ',                               \n",
            "                                                                  'tf.compat.v1.floor_div_60[0][0]\n",
            "                                                                 ',                               \n",
            "                                                                  'tf.compat.v1.floor_div_61[0][0]\n",
            "                                                                 ',                               \n",
            "                                                                  'tf.compat.v1.floor_div_62[0][0]\n",
            "                                                                 ']                               \n",
            "                                                                                                  \n",
            " tf.compat.v1.transpose_13 (TFO  (None, 10, 112, 112  0          ['tf.reshape_30[0][0]']          \n",
            " pLambda)                       , 128)                                                            \n",
            "                                                                                                  \n",
            " tf.math.multiply_59 (TFOpLambd  ()                  0           ['tf.compat.v1.floor_div_59[0][0]\n",
            " a)                                                              ']                               \n",
            "                                                                                                  \n",
            " tf.math.multiply_60 (TFOpLambd  ()                  0           ['tf.compat.v1.floor_div_60[0][0]\n",
            " a)                                                              ']                               \n",
            "                                                                                                  \n",
            " tf.math.multiply_61 (TFOpLambd  ()                  0           ['tf.compat.v1.floor_div_61[0][0]\n",
            " a)                                                              ']                               \n",
            "                                                                                                  \n",
            " tf.math.multiply_62 (TFOpLambd  ()                  0           ['tf.compat.v1.floor_div_62[0][0]\n",
            " a)                                                              ']                               \n",
            "                                                                                                  \n",
            " tf.reshape_31 (TFOpLambda)     (None, 10, 112, 112  0           ['tf.compat.v1.transpose_13[0][0]\n",
            "                                , 128)                           ',                               \n",
            "                                                                  'tf.math.multiply_59[0][0]',    \n",
            "                                                                  'tf.math.multiply_60[0][0]',    \n",
            "                                                                  'tf.math.multiply_61[0][0]',    \n",
            "                                                                  'tf.math.multiply_62[0][0]']    \n",
            "                                                                                                  \n",
            " conv3d_34 (Conv3D)             (None, 10, 112, 112  73792       ['tf.reshape_31[0][0]']          \n",
            "                                , 64)                                                             \n",
            "                                                                                                  \n",
            " conv3d_35 (Conv3D)             (None, 10, 112, 112  12352       ['conv3d_34[0][0]']              \n",
            "                                , 64)                                                             \n",
            "                                                                                                  \n",
            " layer_normalization_17 (LayerN  (None, 10, 112, 112  128        ['conv3d_35[0][0]']              \n",
            " ormalization)                  , 64)                                                             \n",
            "                                                                                                  \n",
            " re_lu_11 (ReLU)                (None, 10, 112, 112  0           ['layer_normalization_17[0][0]'] \n",
            "                                , 64)                                                             \n",
            "                                                                                                  \n",
            " conv3d_36 (Conv3D)             (None, 10, 112, 112  36928       ['re_lu_11[0][0]']               \n",
            "                                , 64)                                                             \n",
            "                                                                                                  \n",
            " dense_12 (Dense)               (None, 10, 112, 112  8256        ['tf.reshape_31[0][0]']          \n",
            "                                , 64)                                                             \n",
            "                                                                                                  \n",
            " conv3d_37 (Conv3D)             (None, 10, 112, 112  12352       ['conv3d_36[0][0]']              \n",
            "                                , 64)                                                             \n",
            "                                                                                                  \n",
            " layer_normalization_19 (LayerN  (None, 10, 112, 112  128        ['dense_12[0][0]']               \n",
            " ormalization)                  , 64)                                                             \n",
            "                                                                                                  \n",
            " layer_normalization_18 (LayerN  (None, 10, 112, 112  128        ['conv3d_37[0][0]']              \n",
            " ormalization)                  , 64)                                                             \n",
            "                                                                                                  \n",
            " add_6 (Add)                    (None, 10, 112, 112  0           ['layer_normalization_19[0][0]', \n",
            "                                , 64)                             'layer_normalization_18[0][0]'] \n",
            "                                                                                                  \n",
            " tf.compat.v1.shape_14 (TFOpLam  (5,)                0           ['add_6[0][0]']                  \n",
            " bda)                                                                                             \n",
            "                                                                                                  \n",
            " tf.__operators__.getitem_63 (S  ()                  0           ['tf.compat.v1.shape_14[0][0]']  \n",
            " licingOpLambda)                                                                                  \n",
            "                                                                                                  \n",
            " tf.__operators__.getitem_64 (S  ()                  0           ['tf.compat.v1.shape_14[0][0]']  \n",
            " licingOpLambda)                                                                                  \n",
            "                                                                                                  \n",
            " tf.__operators__.getitem_65 (S  ()                  0           ['tf.compat.v1.shape_14[0][0]']  \n",
            " licingOpLambda)                                                                                  \n",
            "                                                                                                  \n",
            " tf.__operators__.getitem_66 (S  ()                  0           ['tf.compat.v1.shape_14[0][0]']  \n",
            " licingOpLambda)                                                                                  \n",
            "                                                                                                  \n",
            " tf.__operators__.getitem_67 (S  ()                  0           ['tf.compat.v1.shape_14[0][0]']  \n",
            " licingOpLambda)                                                                                  \n",
            "                                                                                                  \n",
            " tf.compat.v1.floor_div_63 (TFO  ()                  0           ['tf.__operators__.getitem_63[0][\n",
            " pLambda)                                                        0]']                             \n",
            "                                                                                                  \n",
            " tf.compat.v1.floor_div_64 (TFO  ()                  0           ['tf.__operators__.getitem_64[0][\n",
            " pLambda)                                                        0]']                             \n",
            "                                                                                                  \n",
            " tf.compat.v1.floor_div_65 (TFO  ()                  0           ['tf.__operators__.getitem_65[0][\n",
            " pLambda)                                                        0]']                             \n",
            "                                                                                                  \n",
            " tf.compat.v1.floor_div_66 (TFO  ()                  0           ['tf.__operators__.getitem_66[0][\n",
            " pLambda)                                                        0]']                             \n",
            "                                                                                                  \n",
            " tf.compat.v1.floor_div_67 (TFO  ()                  0           ['tf.__operators__.getitem_67[0][\n",
            " pLambda)                                                        0]']                             \n",
            "                                                                                                  \n",
            " tf.reshape_32 (TFOpLambda)     (None, 10, 112, 112  0           ['add_6[0][0]',                  \n",
            "                                , 64)                             'tf.compat.v1.floor_div_63[0][0]\n",
            "                                                                 ',                               \n",
            "                                                                  'tf.compat.v1.floor_div_64[0][0]\n",
            "                                                                 ',                               \n",
            "                                                                  'tf.compat.v1.floor_div_65[0][0]\n",
            "                                                                 ',                               \n",
            "                                                                  'tf.compat.v1.floor_div_66[0][0]\n",
            "                                                                 ',                               \n",
            "                                                                  'tf.compat.v1.floor_div_67[0][0]\n",
            "                                                                 ']                               \n",
            "                                                                                                  \n",
            " tf.math.multiply_63 (TFOpLambd  ()                  0           ['tf.compat.v1.floor_div_63[0][0]\n",
            " a)                                                              ']                               \n",
            "                                                                                                  \n",
            " tf.compat.v1.transpose_14 (TFO  (None, 10, 112, 112  0          ['tf.reshape_32[0][0]']          \n",
            " pLambda)                       , 64)                                                             \n",
            "                                                                                                  \n",
            " tf.math.multiply_64 (TFOpLambd  ()                  0           ['tf.math.multiply_63[0][0]',    \n",
            " a)                                                               'tf.compat.v1.floor_div_64[0][0]\n",
            "                                                                 ']                               \n",
            "                                                                                                  \n",
            " tf.math.multiply_65 (TFOpLambd  ()                  0           ['tf.compat.v1.floor_div_65[0][0]\n",
            " a)                                                              ']                               \n",
            "                                                                                                  \n",
            " tf.math.multiply_66 (TFOpLambd  ()                  0           ['tf.compat.v1.floor_div_66[0][0]\n",
            " a)                                                              ']                               \n",
            "                                                                                                  \n",
            " tf.math.multiply_67 (TFOpLambd  ()                  0           ['tf.compat.v1.floor_div_67[0][0]\n",
            " a)                                                              ']                               \n",
            "                                                                                                  \n",
            " tf.reshape_33 (TFOpLambda)     (None, 112, 112, 64  0           ['tf.compat.v1.transpose_14[0][0]\n",
            "                                )                                ',                               \n",
            "                                                                  'tf.math.multiply_64[0][0]',    \n",
            "                                                                  'tf.math.multiply_65[0][0]',    \n",
            "                                                                  'tf.math.multiply_66[0][0]',    \n",
            "                                                                  'tf.math.multiply_67[0][0]']    \n",
            "                                                                                                  \n",
            " resizing_7 (Resizing)          (None, 14, 14, 64)   0           ['tf.reshape_33[0][0]']          \n",
            "                                                                                                  \n",
            " tf.compat.v1.shape_15 (TFOpLam  (4,)                0           ['resizing_7[0][0]']             \n",
            " bda)                                                                                             \n",
            "                                                                                                  \n",
            " tf.__operators__.getitem_68 (S  ()                  0           ['tf.compat.v1.shape_15[0][0]']  \n",
            " licingOpLambda)                                                                                  \n",
            "                                                                                                  \n",
            " tf.__operators__.getitem_69 (S  ()                  0           ['tf.compat.v1.shape_15[0][0]']  \n",
            " licingOpLambda)                                                                                  \n",
            "                                                                                                  \n",
            " tf.__operators__.getitem_70 (S  ()                  0           ['tf.compat.v1.shape_15[0][0]']  \n",
            " licingOpLambda)                                                                                  \n",
            "                                                                                                  \n",
            " tf.__operators__.getitem_71 (S  ()                  0           ['tf.compat.v1.shape_15[0][0]']  \n",
            " licingOpLambda)                                                                                  \n",
            "                                                                                                  \n",
            " tf.compat.v1.floor_div_68 (TFO  ()                  0           ['tf.__operators__.getitem_68[0][\n",
            " pLambda)                                                        0]']                             \n",
            "                                                                                                  \n",
            " tf.compat.v1.floor_div_69 (TFO  ()                  0           ['tf.__operators__.getitem_69[0][\n",
            " pLambda)                                                        0]']                             \n",
            "                                                                                                  \n",
            " tf.compat.v1.floor_div_70 (TFO  ()                  0           ['tf.__operators__.getitem_70[0][\n",
            " pLambda)                                                        0]']                             \n",
            "                                                                                                  \n",
            " tf.compat.v1.floor_div_71 (TFO  ()                  0           ['tf.__operators__.getitem_71[0][\n",
            " pLambda)                                                        0]']                             \n",
            "                                                                                                  \n",
            " tf.reshape_34 (TFOpLambda)     (None, 10, 14, 14,   0           ['resizing_7[0][0]',             \n",
            "                                64)                               'tf.compat.v1.floor_div_68[0][0]\n",
            "                                                                 ',                               \n",
            "                                                                  'tf.compat.v1.floor_div_69[0][0]\n",
            "                                                                 ',                               \n",
            "                                                                  'tf.compat.v1.floor_div_70[0][0]\n",
            "                                                                 ',                               \n",
            "                                                                  'tf.compat.v1.floor_div_71[0][0]\n",
            "                                                                 ']                               \n",
            "                                                                                                  \n",
            " tf.compat.v1.transpose_15 (TFO  (None, 10, 14, 14,   0          ['tf.reshape_34[0][0]']          \n",
            " pLambda)                       64)                                                               \n",
            "                                                                                                  \n",
            " tf.math.multiply_68 (TFOpLambd  ()                  0           ['tf.compat.v1.floor_div_68[0][0]\n",
            " a)                                                              ']                               \n",
            "                                                                                                  \n",
            " tf.math.multiply_69 (TFOpLambd  ()                  0           ['tf.compat.v1.floor_div_69[0][0]\n",
            " a)                                                              ']                               \n",
            "                                                                                                  \n",
            " tf.math.multiply_70 (TFOpLambd  ()                  0           ['tf.compat.v1.floor_div_70[0][0]\n",
            " a)                                                              ']                               \n",
            "                                                                                                  \n",
            " tf.math.multiply_71 (TFOpLambd  ()                  0           ['tf.compat.v1.floor_div_71[0][0]\n",
            " a)                                                              ']                               \n",
            "                                                                                                  \n",
            " tf.reshape_35 (TFOpLambda)     (None, 10, 14, 14,   0           ['tf.compat.v1.transpose_15[0][0]\n",
            "                                64)                              ',                               \n",
            "                                                                  'tf.math.multiply_68[0][0]',    \n",
            "                                                                  'tf.math.multiply_69[0][0]',    \n",
            "                                                                  'tf.math.multiply_70[0][0]',    \n",
            "                                                                  'tf.math.multiply_71[0][0]']    \n",
            "                                                                                                  \n",
            " conv3d_38 (Conv3D)             (None, 10, 14, 14,   73856       ['tf.reshape_35[0][0]']          \n",
            "                                128)                                                              \n",
            "                                                                                                  \n",
            " conv3d_39 (Conv3D)             (None, 10, 14, 14,   49280       ['conv3d_38[0][0]']              \n",
            "                                128)                                                              \n",
            "                                                                                                  \n",
            " layer_normalization_20 (LayerN  (None, 10, 14, 14,   256        ['conv3d_39[0][0]']              \n",
            " ormalization)                  128)                                                              \n",
            "                                                                                                  \n",
            " re_lu_12 (ReLU)                (None, 10, 14, 14,   0           ['layer_normalization_20[0][0]'] \n",
            "                                128)                                                              \n",
            "                                                                                                  \n",
            " conv3d_40 (Conv3D)             (None, 10, 14, 14,   147584      ['re_lu_12[0][0]']               \n",
            "                                128)                                                              \n",
            "                                                                                                  \n",
            " dense_13 (Dense)               (None, 10, 14, 14,   8320        ['tf.reshape_35[0][0]']          \n",
            "                                128)                                                              \n",
            "                                                                                                  \n",
            " conv3d_41 (Conv3D)             (None, 10, 14, 14,   49280       ['conv3d_40[0][0]']              \n",
            "                                128)                                                              \n",
            "                                                                                                  \n",
            " layer_normalization_22 (LayerN  (None, 10, 14, 14,   256        ['dense_13[0][0]']               \n",
            " ormalization)                  128)                                                              \n",
            "                                                                                                  \n",
            " layer_normalization_21 (LayerN  (None, 10, 14, 14,   256        ['conv3d_41[0][0]']              \n",
            " ormalization)                  128)                                                              \n",
            "                                                                                                  \n",
            " add_7 (Add)                    (None, 10, 14, 14,   0           ['layer_normalization_22[0][0]', \n",
            "                                128)                              'layer_normalization_21[0][0]'] \n",
            "                                                                                                  \n",
            " global_average_pooling3d_4 (Gl  (None, 128)         0           ['add_7[0][0]']                  \n",
            " obalAveragePooling3D)                                                                            \n",
            "                                                                                                  \n",
            " dense_14 (Dense)               (None, 128)          16512       ['global_average_pooling3d_4[0][0\n",
            "                                                                 ]']                              \n",
            "                                                                                                  \n",
            " dense_15 (Dense)               (None, 15)           1935        ['dense_14[0][0]']               \n",
            "                                                                                                  \n",
            "==================================================================================================\n",
            "Total params: 1,130,687\n",
            "Trainable params: 1,130,399\n",
            "Non-trainable params: 288\n",
            "__________________________________________________________________________________________________\n"
          ]
        }
      ],
      "source": [
        "# new_model.summary()"
      ]
    },
    {
      "cell_type": "code",
      "execution_count": null,
      "metadata": {
        "id": "jLcqdK2wpPP8"
      },
      "outputs": [],
      "source": [
        "# from tensorflow.keras.callbacks import EarlyStopping\n",
        "\n",
        "# # Define early stopping callback\n",
        "# early_stopping = EarlyStopping(monitor='val_loss', patience=5, restore_best_weights=True)"
      ]
    },
    {
      "cell_type": "code",
      "source": [
        "# for layer in loaded_model.layers[-15:]:\n",
        "#     layer.trainable = True"
      ],
      "metadata": {
        "id": "7LGMTKMrqPJy"
      },
      "execution_count": null,
      "outputs": []
    },
    {
      "cell_type": "code",
      "source": [
        "# print(\"Input data shape:\", train_ds_encoded.element_spec)"
      ],
      "metadata": {
        "colab": {
          "base_uri": "https://localhost:8080/"
        },
        "id": "VFW4Tgf-5q7h",
        "outputId": "1914d2f2-3805-44ff-fd62-f9029613b152"
      },
      "execution_count": null,
      "outputs": [
        {
          "output_type": "stream",
          "name": "stdout",
          "text": [
            "Input data shape: (TensorSpec(shape=(None, None, None, None, 3), dtype=tf.float32, name=None), TensorSpec(shape=(None, 15), dtype=tf.float32, name=None))\n"
          ]
        }
      ]
    },
    {
      "cell_type": "code",
      "execution_count": 24,
      "metadata": {
        "colab": {
          "base_uri": "https://localhost:8080/"
        },
        "id": "v_YPJ4_bl1Xp",
        "outputId": "f33d8c2c-511b-407f-e1ad-168426c67443"
      },
      "outputs": [
        {
          "output_type": "stream",
          "name": "stdout",
          "text": [
            "Epoch 1/20\n",
            "30/30 [==============================] - 63s 2s/step - loss: 3.6704 - accuracy: 0.1433 - val_loss: 2.5358 - val_accuracy: 0.1600\n",
            "Epoch 2/20\n",
            "30/30 [==============================] - 25s 837ms/step - loss: 2.4070 - accuracy: 0.1633 - val_loss: 2.4367 - val_accuracy: 0.1800\n",
            "Epoch 3/20\n",
            "30/30 [==============================] - 25s 853ms/step - loss: 2.1484 - accuracy: 0.2700 - val_loss: 2.1571 - val_accuracy: 0.2800\n",
            "Epoch 4/20\n",
            "30/30 [==============================] - 26s 859ms/step - loss: 2.0403 - accuracy: 0.2700 - val_loss: 2.2255 - val_accuracy: 0.3000\n",
            "Epoch 5/20\n",
            "30/30 [==============================] - 26s 862ms/step - loss: 1.9210 - accuracy: 0.3633 - val_loss: 2.2248 - val_accuracy: 0.3100\n",
            "Epoch 6/20\n",
            "30/30 [==============================] - 26s 856ms/step - loss: 1.8500 - accuracy: 0.3633 - val_loss: 1.9956 - val_accuracy: 0.3500\n",
            "Epoch 7/20\n",
            "30/30 [==============================] - 26s 859ms/step - loss: 1.8376 - accuracy: 0.3533 - val_loss: 2.7366 - val_accuracy: 0.1400\n",
            "Epoch 8/20\n",
            "30/30 [==============================] - 26s 863ms/step - loss: 1.7536 - accuracy: 0.4000 - val_loss: 2.1111 - val_accuracy: 0.2300\n",
            "Epoch 9/20\n",
            "30/30 [==============================] - 26s 853ms/step - loss: 1.5661 - accuracy: 0.4533 - val_loss: 2.5435 - val_accuracy: 0.2800\n",
            "Epoch 10/20\n",
            "30/30 [==============================] - 26s 854ms/step - loss: 1.5080 - accuracy: 0.4633 - val_loss: 1.7992 - val_accuracy: 0.2600\n",
            "Epoch 11/20\n",
            "30/30 [==============================] - 26s 858ms/step - loss: 1.2805 - accuracy: 0.5167 - val_loss: 1.6627 - val_accuracy: 0.4000\n",
            "Epoch 12/20\n",
            "30/30 [==============================] - 26s 861ms/step - loss: 1.1832 - accuracy: 0.5633 - val_loss: 1.4552 - val_accuracy: 0.4800\n",
            "Epoch 13/20\n",
            "30/30 [==============================] - 26s 857ms/step - loss: 1.2414 - accuracy: 0.5500 - val_loss: 1.3435 - val_accuracy: 0.5500\n",
            "Epoch 14/20\n",
            "30/30 [==============================] - 26s 857ms/step - loss: 0.9936 - accuracy: 0.6333 - val_loss: 1.2019 - val_accuracy: 0.5000\n",
            "Epoch 15/20\n",
            "30/30 [==============================] - 26s 854ms/step - loss: 0.8287 - accuracy: 0.6967 - val_loss: 1.2542 - val_accuracy: 0.5600\n",
            "Epoch 16/20\n",
            "30/30 [==============================] - 26s 855ms/step - loss: 1.0706 - accuracy: 0.6233 - val_loss: 1.2597 - val_accuracy: 0.5300\n",
            "Epoch 17/20\n",
            "30/30 [==============================] - 26s 853ms/step - loss: 0.6534 - accuracy: 0.7767 - val_loss: 1.0712 - val_accuracy: 0.5700\n",
            "Epoch 18/20\n",
            "30/30 [==============================] - 26s 855ms/step - loss: 0.5276 - accuracy: 0.7933 - val_loss: 1.4393 - val_accuracy: 0.6100\n",
            "Epoch 19/20\n",
            "30/30 [==============================] - 26s 862ms/step - loss: 0.5206 - accuracy: 0.8133 - val_loss: 1.1669 - val_accuracy: 0.6000\n",
            "Epoch 20/20\n",
            "30/30 [==============================] - 25s 850ms/step - loss: 0.3989 - accuracy: 0.8533 - val_loss: 1.2699 - val_accuracy: 0.6400\n"
          ]
        }
      ],
      "source": [
        "history = model.fit(\n",
        "    x=train_ds,\n",
        "    epochs=20,\n",
        "    validation_data=val_ds\n",
        ")"
      ]
    },
    {
      "cell_type": "code",
      "execution_count": 25,
      "metadata": {
        "colab": {
          "base_uri": "https://localhost:8080/",
          "height": 678
        },
        "id": "WdHyVPO0qF8e",
        "outputId": "944e4843-07e8-415f-ffb2-de95d5ab9612"
      },
      "outputs": [
        {
          "output_type": "display_data",
          "data": {
            "text/plain": [
              "<Figure size 1850x1050 with 2 Axes>"
            ],
            "image/png": "[encoded data removed]"
          },
          "metadata": {}
        }
      ],
      "source": [
        "def plot_history(history):\n",
        "  \"\"\"\n",
        "    Plotting training and validation learning curves.\n",
        "\n",
        "    Args:\n",
        "      history: model history with all the metric measures\n",
        "  \"\"\"\n",
        "  fig, (ax1, ax2) = plt.subplots(2)\n",
        "\n",
        "  fig.set_size_inches(18.5, 10.5)\n",
        "\n",
        "  # Plot loss\n",
        "  ax1.set_title('Loss')\n",
        "  ax1.plot(history.history['loss'], label = 'train')\n",
        "  ax1.plot(history.history['val_loss'], label = 'test')\n",
        "  ax1.set_ylabel('Loss')\n",
        "\n",
        "  # Determine upper bound of y-axis\n",
        "  max_loss = max(history.history['loss'] + history.history['val_loss'])\n",
        "\n",
        "  ax1.set_ylim([0, np.ceil(max_loss)])\n",
        "  ax1.set_xlabel('Epoch')\n",
        "  ax1.legend(['Train', 'Validation'])\n",
        "\n",
        "  # Plot accuracy\n",
        "  ax2.set_title('Accuracy')\n",
        "  ax2.plot(history.history['accuracy'],  label = 'train')\n",
        "  ax2.plot(history.history['val_accuracy'], label = 'test')\n",
        "  ax2.set_ylabel('Accuracy')\n",
        "  ax2.set_ylim([0, 1])\n",
        "  ax2.set_xlabel('Epoch')\n",
        "  ax2.legend(['Train', 'Validation'])\n",
        "\n",
        "  plt.show()\n",
        "\n",
        "plot_history(history)"
      ]
    },
    {
      "cell_type": "code",
      "execution_count": 26,
      "metadata": {
        "colab": {
          "base_uri": "https://localhost:8080/"
        },
        "id": "Pf958IXdqLXO",
        "outputId": "497aca25-90e7-4617-dc89-a41e9b69781a"
      },
      "outputs": [
        {
          "output_type": "stream",
          "name": "stdout",
          "text": [
            "10/10 [==============================] - 14s 1s/step - loss: 1.0239 - accuracy: 0.6400\n"
          ]
        },
        {
          "output_type": "execute_result",
          "data": {
            "text/plain": [
              "{'loss': 1.023913860321045, 'accuracy': 0.6399999856948853}"
            ]
          },
          "metadata": {},
          "execution_count": 26
        }
      ],
      "source": [
        "model.evaluate(test_ds, return_dict=True)"
      ]
    },
    {
      "cell_type": "code",
      "source": [
        "def get_actual_predicted_labels(dataset):\n",
        "  \"\"\"\n",
        "    Create a list of actual ground truth values and the predictions from the model.\n",
        "\n",
        "    Args:\n",
        "      dataset: An iterable data structure, such as a TensorFlow Dataset, with features and labels.\n",
        "\n",
        "    Return:\n",
        "      Ground truth and predicted values for a particular dataset.\n",
        "  \"\"\"\n",
        "  actual = [labels for _, labels in dataset.unbatch()]\n",
        "  predicted = model.predict(dataset)\n",
        "\n",
        "  actual = tf.stack(actual, axis=0)\n",
        "  predicted = tf.concat(predicted, axis=0)\n",
        "  predicted = tf.argmax(predicted, axis=1)\n",
        "\n",
        "  return actual, predicted"
      ],
      "metadata": {
        "id": "9N0YKK_S1iXg"
      },
      "execution_count": 27,
      "outputs": []
    },
    {
      "cell_type": "code",
      "source": [
        "def plot_confusion_matrix(actual, predicted, labels, ds_type):\n",
        "  cm = tf.math.confusion_matrix(actual, predicted)\n",
        "  ax = sns.heatmap(cm, annot=True, fmt='g')\n",
        "  sns.set(rc={'figure.figsize':(12, 12)})\n",
        "  sns.set(font_scale=1.4)\n",
        "  ax.set_title('Confusion matrix of action recognition for ' + ds_type)\n",
        "  ax.set_xlabel('Predicted Action')\n",
        "  ax.set_ylabel('Actual Action')\n",
        "  plt.xticks(rotation=90)\n",
        "  plt.yticks(rotation=0)\n",
        "  ax.xaxis.set_ticklabels(labels)\n",
        "  ax.yaxis.set_ticklabels(labels)"
      ],
      "metadata": {
        "id": "cLc0Jz5j1lXI"
      },
      "execution_count": 28,
      "outputs": []
    },
    {
      "cell_type": "code",
      "source": [
        "for _ in generate_frames(subset_paths['train'], n_frames, training=True):\n",
        "    pass\n",
        "\n",
        "# Now, you can access class_ids_for_name outside the function\n",
        "labels = class_ids_for_name\n",
        "print(labels)"
      ],
      "metadata": {
        "colab": {
          "base_uri": "https://localhost:8080/"
        },
        "id": "OPQAl1bg1qGy",
        "outputId": "92043b27-f9be-4557-f403-5d67d147b84d"
      },
      "execution_count": 35,
      "outputs": [
        {
          "output_type": "stream",
          "name": "stdout",
          "text": [
            "{'ApplyEyeMakeup': 0, 'ApplyLipstick': 1, 'Archery': 2, 'BabyCrawling': 3, 'BalanceBeam': 4, 'BandMarching': 5, 'BaseballPitch': 6, 'Basketball': 7, 'BasketballDunk': 8, 'BenchPress': 9}\n"
          ]
        }
      ]
    },
    {
      "cell_type": "code",
      "source": [
        "actual, predicted = get_actual_predicted_labels(train_ds)\n",
        "plot_confusion_matrix(actual, predicted, labels, 'training')"
      ],
      "metadata": {
        "colab": {
          "base_uri": "https://localhost:8080/",
          "height": 598
        },
        "id": "M99FMAiL_XZT",
        "outputId": "95b90a1b-2ae0-4312-c00b-4c6fff1d9e23"
      },
      "execution_count": 36,
      "outputs": [
        {
          "output_type": "stream",
          "name": "stdout",
          "text": [
            "30/30 [==============================] - 11s 292ms/step\n"
          ]
        },
        {
          "output_type": "display_data",
          "data": {
            "text/plain": [
              "<Figure size 640x480 with 2 Axes>"
            ],
            "image/png": "[encoded data removed]"
          },
          "metadata": {}
        }
      ]
    },
    {
      "cell_type": "code",
      "source": [
        "actual, predicted = get_actual_predicted_labels(test_ds)\n",
        "plot_confusion_matrix(actual, predicted, labels, 'test')"
      ],
      "metadata": {
        "colab": {
          "base_uri": "https://localhost:8080/",
          "height": 1000
        },
        "id": "oG-Pc0qdAXX7",
        "outputId": "5e6e044b-4353-4034-d912-4be8f977caae"
      },
      "execution_count": 38,
      "outputs": [
        {
          "output_type": "stream",
          "name": "stdout",
          "text": [
            "10/10 [==============================] - 14s 1s/step\n"
          ]
        },
        {
          "output_type": "display_data",
          "data": {
            "text/plain": [
              "<Figure size 1200x1200 with 2 Axes>"
            ],
            "image/png": "[encoded data removed]"
          },
          "metadata": {}
        }
      ]
    },
    {
      "cell_type": "code",
      "source": [
        "def calculate_classification_metrics(y_actual, y_pred, label_dict):\n",
        "    \"\"\"\n",
        "    Calculate the precision and recall of a classification model using the ground truth and\n",
        "    predicted values.\n",
        "\n",
        "    Args:\n",
        "      y_actual: Ground truth labels.\n",
        "      y_pred: Predicted labels.\n",
        "      label_dict: Dictionary mapping class labels to their numerical identifiers.\n",
        "\n",
        "    Return:\n",
        "      Precision and recall measures.\n",
        "    \"\"\"\n",
        "    # Create an inverse mapping from numerical identifier to class label\n",
        "    label_to_class = {v: k for k, v in label_dict.items()}\n",
        "\n",
        "    # Calculate confusion matrix\n",
        "    cm = tf.math.confusion_matrix(y_actual, y_pred)\n",
        "\n",
        "    # Initialize dictionaries to store precision and recall for each class\n",
        "    precision = dict()\n",
        "    recall = dict()\n",
        "\n",
        "    # Calculate precision and recall for each class\n",
        "    for label_id, class_name in label_to_class.items():\n",
        "        tp = cm[label_id, label_id]  # True positives\n",
        "\n",
        "        # Calculate false positives\n",
        "        fp = np.sum(cm[:, label_id]) - tp\n",
        "\n",
        "        # Calculate false negatives\n",
        "        fn = np.sum(cm[label_id, :]) - tp\n",
        "\n",
        "        # Calculate precision and recall\n",
        "        precision[class_name] = tp / (tp + fp)\n",
        "        recall[class_name] = tp / (tp + fn)\n",
        "\n",
        "    return precision, recall\n",
        "\n",
        "# Example labels dictionary\n",
        "labels_dict = {'ApplyEyeMakeup': 0, 'ApplyLipstick': 1, 'Archery': 2, 'BabyCrawling': 3, 'BalanceBeam': 4, 'BandMarching': 5, 'BaseballPitch': 6, 'Basketball': 7, 'BasketballDunk': 8, 'BenchPress': 9}\n",
        "\n",
        "# Example ground truth and predicted labels\n",
        "actual = [0, 1, 2, 3, 4, 5, 6, 7, 8, 9]\n",
        "predicted = [0, 1, 2, 3, 4, 5, 6, 7, 8, 9]\n",
        "\n",
        "# Calculate precision and recall\n",
        "precision, recall = calculate_classification_metrics(actual, predicted, labels_dict)\n",
        "\n",
        "# Print precision and recall for each class\n",
        "for class_name, class_precision in precision.items():\n",
        "    print(f'Precision for class \"{class_name}\": {class_precision:.2f}')\n",
        "\n",
        "for class_name, class_recall in recall.items():\n",
        "    print(f'Recall for class \"{class_name}\": {class_recall:.2f}')\n"
      ],
      "metadata": {
        "colab": {
          "base_uri": "https://localhost:8080/"
        },
        "id": "c-RdzMe_-zKq",
        "outputId": "e6565672-5b32-4d1a-c3bc-cef8925a6c21"
      },
      "execution_count": 43,
      "outputs": [
        {
          "output_type": "stream",
          "name": "stdout",
          "text": [
            "Precision for class \"ApplyEyeMakeup\": 1.00\n",
            "Precision for class \"ApplyLipstick\": 1.00\n",
            "Precision for class \"Archery\": 1.00\n",
            "Precision for class \"BabyCrawling\": 1.00\n",
            "Precision for class \"BalanceBeam\": 1.00\n",
            "Precision for class \"BandMarching\": 1.00\n",
            "Precision for class \"BaseballPitch\": 1.00\n",
            "Precision for class \"Basketball\": 1.00\n",
            "Precision for class \"BasketballDunk\": 1.00\n",
            "Precision for class \"BenchPress\": 1.00\n",
            "Recall for class \"ApplyEyeMakeup\": 1.00\n",
            "Recall for class \"ApplyLipstick\": 1.00\n",
            "Recall for class \"Archery\": 1.00\n",
            "Recall for class \"BabyCrawling\": 1.00\n",
            "Recall for class \"BalanceBeam\": 1.00\n",
            "Recall for class \"BandMarching\": 1.00\n",
            "Recall for class \"BaseballPitch\": 1.00\n",
            "Recall for class \"Basketball\": 1.00\n",
            "Recall for class \"BasketballDunk\": 1.00\n",
            "Recall for class \"BenchPress\": 1.00\n"
          ]
        }
      ]
    },
    {
      "cell_type": "code",
      "source": [
        "import pathlib\n",
        "\n",
        "# Specify the path to the \"UCF101_subset\" folder\n",
        "subset_path = pathlib.Path(\"/content/UCF101_subset\")\n",
        "\n",
        "# List the contents of the subset folder\n",
        "print(list(subset_path.glob('*')))"
      ],
      "metadata": {
        "colab": {
          "base_uri": "https://localhost:8080/"
        },
        "id": "U2sPxKM1_ZLi",
        "outputId": "0a175759-d66a-4390-b034-7143cca7dc5e"
      },
      "execution_count": null,
      "outputs": [
        {
          "output_type": "stream",
          "name": "stdout",
          "text": [
            "[PosixPath('/content/UCF101_subset/test'), PosixPath('/content/UCF101_subset/val'), PosixPath('/content/UCF101_subset/train')]\n"
          ]
        }
      ]
    },
    {
      "cell_type": "code",
      "source": [
        "train_path = subset_path / 'train'\n",
        "val_path = subset_path / 'val'\n",
        "test_path = subset_path / 'test'\n",
        "\n",
        "# List the contents of the train, val, and test folders\n",
        "print(list(train_path.glob('*')))\n",
        "print(list(val_path.glob('*')))\n",
        "print(list(test_path.glob('*')))"
      ],
      "metadata": {
        "colab": {
          "base_uri": "https://localhost:8080/"
        },
        "id": "I1ArvbhE_brj",
        "outputId": "37f8cb09-4b75-4726-a587-471b05fa9eee"
      },
      "execution_count": null,
      "outputs": [
        {
          "output_type": "stream",
          "name": "stdout",
          "text": [
            "[PosixPath('/content/UCF101_subset/train/BodyWeightSquats'), PosixPath('/content/UCF101_subset/train/BenchPress'), PosixPath('/content/UCF101_subset/train/Billiards'), PosixPath('/content/UCF101_subset/train/BasketballDunk'), PosixPath('/content/UCF101_subset/train/ApplyLipstick'), PosixPath('/content/UCF101_subset/train/BabyCrawling'), PosixPath('/content/UCF101_subset/train/Archery'), PosixPath('/content/UCF101_subset/train/Biking'), PosixPath('/content/UCF101_subset/train/ApplyEyeMakeup'), PosixPath('/content/UCF101_subset/train/BlowDryHair'), PosixPath('/content/UCF101_subset/train/BandMarching'), PosixPath('/content/UCF101_subset/train/BaseballPitch'), PosixPath('/content/UCF101_subset/train/BlowingCandles'), PosixPath('/content/UCF101_subset/train/Basketball'), PosixPath('/content/UCF101_subset/train/BalanceBeam')]\n",
            "[PosixPath('/content/UCF101_subset/val/BodyWeightSquats'), PosixPath('/content/UCF101_subset/val/BenchPress'), PosixPath('/content/UCF101_subset/val/Billiards'), PosixPath('/content/UCF101_subset/val/BasketballDunk'), PosixPath('/content/UCF101_subset/val/ApplyLipstick'), PosixPath('/content/UCF101_subset/val/BabyCrawling'), PosixPath('/content/UCF101_subset/val/Archery'), PosixPath('/content/UCF101_subset/val/Biking'), PosixPath('/content/UCF101_subset/val/ApplyEyeMakeup'), PosixPath('/content/UCF101_subset/val/BlowDryHair'), PosixPath('/content/UCF101_subset/val/BandMarching'), PosixPath('/content/UCF101_subset/val/BaseballPitch'), PosixPath('/content/UCF101_subset/val/BlowingCandles'), PosixPath('/content/UCF101_subset/val/Basketball'), PosixPath('/content/UCF101_subset/val/BalanceBeam')]\n",
            "[PosixPath('/content/UCF101_subset/test/BodyWeightSquats'), PosixPath('/content/UCF101_subset/test/BenchPress'), PosixPath('/content/UCF101_subset/test/Billiards'), PosixPath('/content/UCF101_subset/test/BasketballDunk'), PosixPath('/content/UCF101_subset/test/ApplyLipstick'), PosixPath('/content/UCF101_subset/test/BabyCrawling'), PosixPath('/content/UCF101_subset/test/Archery'), PosixPath('/content/UCF101_subset/test/Biking'), PosixPath('/content/UCF101_subset/test/ApplyEyeMakeup'), PosixPath('/content/UCF101_subset/test/BlowDryHair'), PosixPath('/content/UCF101_subset/test/BandMarching'), PosixPath('/content/UCF101_subset/test/BaseballPitch'), PosixPath('/content/UCF101_subset/test/BlowingCandles'), PosixPath('/content/UCF101_subset/test/Basketball'), PosixPath('/content/UCF101_subset/test/BalanceBeam')]\n"
          ]
        }
      ]
    },
    {
      "cell_type": "code",
      "source": [
        "video_path = train_path / 'BasketballDunk' / 'v_BasketballDunk_g04_c03.avi'\n",
        "def generate_frames_single_video(video_path, n_frames):\n",
        "    # Get the class name from the parent folder of the video\n",
        "    class_name = video_path.parent.name\n",
        "    class_names = [class_name]  # List containing just the class name\n",
        "    class_ids_for_name = {class_name: 0}  # Map the class name to index 0\n",
        "\n",
        "    pairs = [(video_path, class_name)]\n",
        "\n",
        "    for path, name in pairs:\n",
        "        video_frames = frames_from_video_file(path, n_frames)\n",
        "        label = class_ids_for_name[name]  # Encode labels\n",
        "        yield video_frames, label\n",
        "# Use the generate_frames function with this video path\n",
        "preprocessed_video = generate_frames_single_video(video_path, n_frames)\n",
        "\n",
        "predictions = model.predict(preprocessed_video)\n",
        "# for video_frames, label in generate_frames_single_video(video_path, n_frames):\n",
        "#     # Now you have the video frames and the associated label\n",
        "#     print(\"Label:\", label)"
      ],
      "metadata": {
        "colab": {
          "base_uri": "https://localhost:8080/",
          "height": 245
        },
        "id": "aRcw5pr4_hnE",
        "outputId": "d7ad6963-12cf-48bd-b036-3dccf37afeea"
      },
      "execution_count": null,
      "outputs": [
        {
          "output_type": "error",
          "ename": "AttributeError",
          "evalue": "ignored",
          "traceback": [
            "\u001b[0;31m---------------------------------------------------------------------------\u001b[0m",
            "\u001b[0;31mAttributeError\u001b[0m                            Traceback (most recent call last)",
            "\u001b[0;32m<ipython-input-76-07817994204a>\u001b[0m in \u001b[0;36m<cell line: 16>\u001b[0;34m()\u001b[0m\n\u001b[1;32m     14\u001b[0m \u001b[0;31m# Use the generate_frames function with this video path\u001b[0m\u001b[0;34m\u001b[0m\u001b[0;34m\u001b[0m\u001b[0m\n\u001b[1;32m     15\u001b[0m \u001b[0mpreprocessed_video\u001b[0m \u001b[0;34m=\u001b[0m \u001b[0mgenerate_frames_single_video\u001b[0m\u001b[0;34m(\u001b[0m\u001b[0mvideo_path\u001b[0m\u001b[0;34m,\u001b[0m \u001b[0mn_frames\u001b[0m\u001b[0;34m)\u001b[0m\u001b[0;34m\u001b[0m\u001b[0;34m\u001b[0m\u001b[0m\n\u001b[0;32m---> 16\u001b[0;31m \u001b[0mpreprocessed_video\u001b[0m \u001b[0;34m=\u001b[0m \u001b[0mpreprocessed_video\u001b[0m\u001b[0;34m.\u001b[0m\u001b[0mbatch\u001b[0m\u001b[0;34m(\u001b[0m\u001b[0mbatch_size\u001b[0m\u001b[0;34m)\u001b[0m\u001b[0;34m\u001b[0m\u001b[0;34m\u001b[0m\u001b[0m\n\u001b[0m\u001b[1;32m     17\u001b[0m \u001b[0mpredictions\u001b[0m \u001b[0;34m=\u001b[0m \u001b[0mmodel\u001b[0m\u001b[0;34m.\u001b[0m\u001b[0mpredict\u001b[0m\u001b[0;34m(\u001b[0m\u001b[0mpreprocessed_video\u001b[0m\u001b[0;34m)\u001b[0m\u001b[0;34m\u001b[0m\u001b[0;34m\u001b[0m\u001b[0m\n\u001b[1;32m     18\u001b[0m \u001b[0;31m# for video_frames, label in generate_frames_single_video(video_path, n_frames):\u001b[0m\u001b[0;34m\u001b[0m\u001b[0;34m\u001b[0m\u001b[0m\n",
            "\u001b[0;31mAttributeError\u001b[0m: 'generator' object has no attribute 'batch'"
          ]
        }
      ]
    },
    {
      "cell_type": "code",
      "execution_count": null,
      "metadata": {
        "id": "IUtaw9vfmyvM",
        "colab": {
          "base_uri": "https://localhost:8080/",
          "height": 366
        },
        "outputId": "edca4312-c236-4a2c-8d00-dcca099499ff"
      },
      "outputs": [
        {
          "output_type": "error",
          "ename": "AttributeError",
          "evalue": "ignored",
          "traceback": [
            "\u001b[0;31m---------------------------------------------------------------------------\u001b[0m",
            "\u001b[0;31mAttributeError\u001b[0m                            Traceback (most recent call last)",
            "\u001b[0;32m<ipython-input-63-be0816a08786>\u001b[0m in \u001b[0;36m<cell line: 33>\u001b[0;34m()\u001b[0m\n\u001b[1;32m     31\u001b[0m \u001b[0;34m\u001b[0m\u001b[0m\n\u001b[1;32m     32\u001b[0m \u001b[0;31m# Call the generate_frames function with a single video path\u001b[0m\u001b[0;34m\u001b[0m\u001b[0;34m\u001b[0m\u001b[0m\n\u001b[0;32m---> 33\u001b[0;31m \u001b[0;32mfor\u001b[0m \u001b[0mvideo_frames\u001b[0m\u001b[0;34m,\u001b[0m \u001b[0mlabel\u001b[0m \u001b[0;32min\u001b[0m \u001b[0mgenerate_frames\u001b[0m\u001b[0;34m(\u001b[0m\u001b[0mvideo_path\u001b[0m\u001b[0;34m,\u001b[0m \u001b[0mn_frames\u001b[0m\u001b[0;34m,\u001b[0m \u001b[0mtraining\u001b[0m\u001b[0;34m)\u001b[0m\u001b[0;34m:\u001b[0m\u001b[0;34m\u001b[0m\u001b[0;34m\u001b[0m\u001b[0m\n\u001b[0m\u001b[1;32m     34\u001b[0m     \u001b[0;31m# Now you have the video frames and the associated label\u001b[0m\u001b[0;34m\u001b[0m\u001b[0;34m\u001b[0m\u001b[0m\n\u001b[1;32m     35\u001b[0m     \u001b[0mprint\u001b[0m\u001b[0;34m(\u001b[0m\u001b[0;34m\"Label:\"\u001b[0m\u001b[0;34m,\u001b[0m \u001b[0mlabel\u001b[0m\u001b[0;34m)\u001b[0m\u001b[0;34m\u001b[0m\u001b[0;34m\u001b[0m\u001b[0m\n",
            "\u001b[0;32m<ipython-input-8-738d2bcce9e4>\u001b[0m in \u001b[0;36mgenerate_frames\u001b[0;34m(path, n_frames, training)\u001b[0m\n\u001b[1;32m      1\u001b[0m \u001b[0;32mdef\u001b[0m \u001b[0mgenerate_frames\u001b[0m\u001b[0;34m(\u001b[0m\u001b[0mpath\u001b[0m\u001b[0;34m,\u001b[0m \u001b[0mn_frames\u001b[0m\u001b[0;34m,\u001b[0m \u001b[0mtraining\u001b[0m\u001b[0;34m=\u001b[0m\u001b[0;32mFalse\u001b[0m\u001b[0;34m)\u001b[0m\u001b[0;34m:\u001b[0m\u001b[0;34m\u001b[0m\u001b[0;34m\u001b[0m\u001b[0m\n\u001b[0;32m----> 2\u001b[0;31m     \u001b[0mclass_names\u001b[0m \u001b[0;34m=\u001b[0m \u001b[0msorted\u001b[0m\u001b[0;34m(\u001b[0m\u001b[0mset\u001b[0m\u001b[0;34m(\u001b[0m\u001b[0mp\u001b[0m\u001b[0;34m.\u001b[0m\u001b[0mname\u001b[0m \u001b[0;32mfor\u001b[0m \u001b[0mp\u001b[0m \u001b[0;32min\u001b[0m \u001b[0mpath\u001b[0m\u001b[0;34m.\u001b[0m\u001b[0miterdir\u001b[0m\u001b[0;34m(\u001b[0m\u001b[0;34m)\u001b[0m \u001b[0;32mif\u001b[0m \u001b[0mp\u001b[0m\u001b[0;34m.\u001b[0m\u001b[0mis_dir\u001b[0m\u001b[0;34m(\u001b[0m\u001b[0;34m)\u001b[0m\u001b[0;34m)\u001b[0m\u001b[0;34m)\u001b[0m\u001b[0;34m\u001b[0m\u001b[0;34m\u001b[0m\u001b[0m\n\u001b[0m\u001b[1;32m      3\u001b[0m     \u001b[0mclass_ids_for_name\u001b[0m \u001b[0;34m=\u001b[0m \u001b[0mdict\u001b[0m\u001b[0;34m(\u001b[0m\u001b[0;34m(\u001b[0m\u001b[0mname\u001b[0m\u001b[0;34m,\u001b[0m \u001b[0midx\u001b[0m\u001b[0;34m)\u001b[0m \u001b[0;32mfor\u001b[0m \u001b[0midx\u001b[0m\u001b[0;34m,\u001b[0m \u001b[0mname\u001b[0m \u001b[0;32min\u001b[0m \u001b[0menumerate\u001b[0m\u001b[0;34m(\u001b[0m\u001b[0mclass_names\u001b[0m\u001b[0;34m)\u001b[0m\u001b[0;34m)\u001b[0m\u001b[0;34m\u001b[0m\u001b[0;34m\u001b[0m\u001b[0m\n\u001b[1;32m      4\u001b[0m \u001b[0;34m\u001b[0m\u001b[0m\n\u001b[1;32m      5\u001b[0m     \u001b[0;32mdef\u001b[0m \u001b[0mget_files_and_class_names\u001b[0m\u001b[0;34m(\u001b[0m\u001b[0;34m)\u001b[0m\u001b[0;34m:\u001b[0m\u001b[0;34m\u001b[0m\u001b[0;34m\u001b[0m\u001b[0m\n",
            "\u001b[0;31mAttributeError\u001b[0m: 'generator' object has no attribute 'iterdir'"
          ]
        }
      ],
      "source": [
        "# new_data = pathlib.PosixPath(\"/content/UCF101_subset/test/BasketballDunk/v_BasketballDunk_g04_c03.avi\")  # Replace with your own data loading and preprocessing code\n",
        "\n",
        "# batch_size = 30\n",
        "\n",
        "\n",
        "# # Training dataset\n",
        "# output_signature = (tf.TensorSpec(shape=(None, None, None, 3), dtype=tf.float32),\n",
        "#                     tf.TensorSpec(shape=(), dtype=tf.int16))\n",
        "\n",
        "# # Training dataset\n",
        "# new_ds = tf.data.Dataset.from_generator(\n",
        "#     lambda: generate_frames(new_data, n_frames),\n",
        "#     output_signature=output_signature)\n",
        "\n",
        "# print(new_ds)\n",
        "\n",
        "# # Make predictions using the pre-trained model\n"
      ]
    },
    {
      "cell_type": "code",
      "source": [
        "model.save('3D_CNN_model.h5')\n",
        "model = tf.keras.models.load_model('3D_CNN_model.h5')\n",
        "input_sequence = np.array(new_ds)\n",
        "\n",
        "# Perform inference\n",
        "input_sequence = input_sequence.as_numpy_iterator()\n",
        "prediction = model.predict(np.expand_dims(input_sequence, axis=0))\n",
        "label = np.argmax(prediction)\n",
        "print('The predicted label for the new video is:', label)\n",
        "# class_labels = ['ApplyEyeMakeup', 'ApplyLipstick', 'Archery','BabyCrawling', 'BalanceBeam', 'BandMarching', 'BaseballPitch', 'Basketball',\n",
        "#                 'BasketballDunk', 'BenchPress', 'Biking', 'Billiards', 'BlowDryHair', 'BlowingCandles', 'BodyWeigthSquats']  # List of your class labels\n",
        "# predicted_class_label = class_labels[predicted_class_index]\n",
        "# print('Predicted Class:', predicted_class_label)\n"
      ],
      "metadata": {
        "colab": {
          "base_uri": "https://localhost:8080/",
          "height": 245
        },
        "id": "DR71oLjYeOrW",
        "outputId": "cdb06cb4-87e0-4ff4-cd95-7183c457e535"
      },
      "execution_count": null,
      "outputs": [
        {
          "output_type": "error",
          "ename": "AttributeError",
          "evalue": "ignored",
          "traceback": [
            "\u001b[0;31m---------------------------------------------------------------------------\u001b[0m",
            "\u001b[0;31mAttributeError\u001b[0m                            Traceback (most recent call last)",
            "\u001b[0;32m<ipython-input-54-499a32841406>\u001b[0m in \u001b[0;36m<cell line: 6>\u001b[0;34m()\u001b[0m\n\u001b[1;32m      4\u001b[0m \u001b[0;34m\u001b[0m\u001b[0m\n\u001b[1;32m      5\u001b[0m \u001b[0;31m# Perform inference\u001b[0m\u001b[0;34m\u001b[0m\u001b[0;34m\u001b[0m\u001b[0m\n\u001b[0;32m----> 6\u001b[0;31m \u001b[0minput_sequence\u001b[0m \u001b[0;34m=\u001b[0m \u001b[0minput_sequence\u001b[0m\u001b[0;34m.\u001b[0m\u001b[0mas_numpy_iterator\u001b[0m\u001b[0;34m(\u001b[0m\u001b[0;34m)\u001b[0m\u001b[0;34m\u001b[0m\u001b[0;34m\u001b[0m\u001b[0m\n\u001b[0m\u001b[1;32m      7\u001b[0m \u001b[0mprediction\u001b[0m \u001b[0;34m=\u001b[0m \u001b[0mmodel\u001b[0m\u001b[0;34m.\u001b[0m\u001b[0mpredict\u001b[0m\u001b[0;34m(\u001b[0m\u001b[0mnp\u001b[0m\u001b[0;34m.\u001b[0m\u001b[0mexpand_dims\u001b[0m\u001b[0;34m(\u001b[0m\u001b[0minput_sequence\u001b[0m\u001b[0;34m,\u001b[0m \u001b[0maxis\u001b[0m\u001b[0;34m=\u001b[0m\u001b[0;36m0\u001b[0m\u001b[0;34m)\u001b[0m\u001b[0;34m)\u001b[0m\u001b[0;34m\u001b[0m\u001b[0;34m\u001b[0m\u001b[0m\n\u001b[1;32m      8\u001b[0m \u001b[0mlabel\u001b[0m \u001b[0;34m=\u001b[0m \u001b[0mnp\u001b[0m\u001b[0;34m.\u001b[0m\u001b[0margmax\u001b[0m\u001b[0;34m(\u001b[0m\u001b[0mprediction\u001b[0m\u001b[0;34m)\u001b[0m\u001b[0;34m\u001b[0m\u001b[0;34m\u001b[0m\u001b[0m\n",
            "\u001b[0;31mAttributeError\u001b[0m: 'numpy.ndarray' object has no attribute 'as_numpy_iterator'"
          ]
        }
      ]
    }
  ],
  "metadata": {
    "accelerator": "GPU",
    "colab": {
      "provenance": [],
      "gpuType": "T4",
      "authorship_tag": "ABX9TyMh9T78cJ78OgeUsCb4H6CW",
      "include_colab_link": true
    },
    "kernelspec": {
      "display_name": "Python 3",
      "name": "python3"
    },
    "language_info": {
      "name": "python"
    }
  },
  "nbformat": 4,
  "nbformat_minor": 0
}